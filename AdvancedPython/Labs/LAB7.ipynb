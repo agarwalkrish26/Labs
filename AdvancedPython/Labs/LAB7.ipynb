{
 "cells": [
  {
   "cell_type": "markdown",
   "id": "64fe24ee",
   "metadata": {},
   "source": [
    "# Lab 7: Text Data Pre-Processing\n",
    "\n",
    "Name: **Krish Agarwal** <br>\n",
    "Reg No: **21112016** <br>\n",
    "Class: **5BSc DS A** <br>\n",
    "Date: **26/10/2023**\n",
    "\n",
    "---------------"
   ]
  },
  {
   "cell_type": "markdown",
   "id": "b8805983",
   "metadata": {},
   "source": [
    "## `Objective`:  \n",
    "Take a content from the website related to healthcare system and perform the following for the implementation of text data Preprocessing:  \n",
    "1. Convert all letters to lower or upper case\n",
    "1. Convert numbers into words or remove numbers\n",
    "1. Remove punctuations, accent marks and other diacritics\n",
    "1. Remove white spaces\n",
    "1. Expand abbreviations\n",
    "1. Remove stop words, sparse terms, and particular words\n",
    "1. Text canonicalization"
   ]
  },
  {
   "cell_type": "markdown",
   "id": "bc899e7c",
   "metadata": {},
   "source": [
    "## `References`:  \n",
    "1. **Text Data**: https://apo.who.int/publications/i/item/india-health-system-review\n",
    "1. **Regex Cheatsheet**: https://regexr.com/  "
   ]
  },
  {
   "cell_type": "markdown",
   "id": "cac5f0fd",
   "metadata": {},
   "source": [
    "## `Completion Status`:\n",
    "\n",
    "| Question Number | Status |\n",
    "| --- | --- |\n",
    "| 1 | Completed |\n",
    "| 2 | Completed |\n",
    "| 3 | Completed |\n",
    "| 4 | Completed |\n",
    "| 5 | Completed |\n",
    "| 6 | Completed |\n",
    "| 7 | Completed |"
   ]
  },
  {
   "cell_type": "markdown",
   "id": "6d3fdc85",
   "metadata": {},
   "source": [
    "## `Code`:"
   ]
  },
  {
   "cell_type": "code",
   "execution_count": 1,
   "id": "30b9ce8a",
   "metadata": {},
   "outputs": [],
   "source": [
    "# importing the text file onto python\n",
    "file_path = 'D:\\\\Z\\\\Downloads\\\\text-data-processing.txt'\n",
    "with open(file_path, 'r', encoding='utf-8') as file:\n",
    "    text = file.read()"
   ]
  },
  {
   "cell_type": "code",
   "execution_count": 2,
   "id": "ce8d40d4",
   "metadata": {},
   "outputs": [
    {
     "data": {
      "text/plain": [
       "'India has made significant improvements in the health outcomes of its people. Life expectancy at birth increased to 69.6 years in 2020, from expected 47.7years in 1970. MMR declined from 301 to 130 per 100 000 live births between 2003 and 2014-16, and IMR declined from 68 in the year 2000 to 24 per 1000 live births in 2016. However progress is uneven across states, and demographic and epidemiological changes means, the country faces a double burden of disease and an ageing population. The top three causes of death in 2019 were ischaemic heart disease, COPD and stroke.\\n\\nIndia has a mixed health-care delivery system. Policy recommendations in the 1940s laid the foundation for a government-funded, three-tiered public health system to deliver preventive and curative health care services. By the 1980s the private sector’s role in health began to gain prominence. Today, nearly 70% of all outpatient visits, about 58% of all inpatient episodes are provided by either for-profit or not-for-profit private providers. Quality of care, accessibility and affordability of health care services, medicines and diagnostics are a challenge. There are also differences in health outcomes between states. Several policy initiatives since the 2000s have been launched to strengthen India’s health system towards providing UHC and improving health outcomes and the Ayushman Bharat programme is attempting to tackle these issues at  both hospital and outpatient settings, it is still too early to look at its impact.\\n\\nThe India Health System Review presents a comprehensive overview of the country’s health system.  It presents key information of India’s mixed health system which demonstrates varying levels of maturity across states, and serves the needs a country with vast heterogeneity in health and development indicators, and contexts.\\n\\n\\n\\n'"
      ]
     },
     "execution_count": 2,
     "metadata": {},
     "output_type": "execute_result"
    }
   ],
   "source": [
    "text"
   ]
  },
  {
   "cell_type": "markdown",
   "id": "724024c8",
   "metadata": {},
   "source": [
    "**Q1) Convert all letters to lower or upper case**"
   ]
  },
  {
   "cell_type": "code",
   "execution_count": 3,
   "id": "46b61fa6",
   "metadata": {},
   "outputs": [
    {
     "data": {
      "text/plain": [
       "'india has made significant improvements in the health outcomes of its people. life expectancy at birth increased to 69.6 years in 2020, from expected 47.7years in 1970. mmr declined from 301 to 130 per 100 000 live births between 2003 and 2014-16, and imr declined from 68 in the year 2000 to 24 per 1000 live births in 2016. however progress is uneven across states, and demographic and epidemiological changes means, the country faces a double burden of disease and an ageing population. the top three causes of death in 2019 were ischaemic heart disease, copd and stroke.\\n\\nindia has a mixed health-care delivery system. policy recommendations in the 1940s laid the foundation for a government-funded, three-tiered public health system to deliver preventive and curative health care services. by the 1980s the private sector’s role in health began to gain prominence. today, nearly 70% of all outpatient visits, about 58% of all inpatient episodes are provided by either for-profit or not-for-profit private providers. quality of care, accessibility and affordability of health care services, medicines and diagnostics are a challenge. there are also differences in health outcomes between states. several policy initiatives since the 2000s have been launched to strengthen india’s health system towards providing uhc and improving health outcomes and the ayushman bharat programme is attempting to tackle these issues at  both hospital and outpatient settings, it is still too early to look at its impact.\\n\\nthe india health system review presents a comprehensive overview of the country’s health system.  it presents key information of india’s mixed health system which demonstrates varying levels of maturity across states, and serves the needs a country with vast heterogeneity in health and development indicators, and contexts.\\n\\n\\n\\n'"
      ]
     },
     "execution_count": 3,
     "metadata": {},
     "output_type": "execute_result"
    }
   ],
   "source": [
    "# Convert all letters to lower case\n",
    "text_lower = text.lower()\n",
    "text_lower"
   ]
  },
  {
   "cell_type": "code",
   "execution_count": 4,
   "id": "719c15ab",
   "metadata": {},
   "outputs": [
    {
     "data": {
      "text/plain": [
       "'INDIA HAS MADE SIGNIFICANT IMPROVEMENTS IN THE HEALTH OUTCOMES OF ITS PEOPLE. LIFE EXPECTANCY AT BIRTH INCREASED TO 69.6 YEARS IN 2020, FROM EXPECTED 47.7YEARS IN 1970. MMR DECLINED FROM 301 TO 130 PER 100 000 LIVE BIRTHS BETWEEN 2003 AND 2014-16, AND IMR DECLINED FROM 68 IN THE YEAR 2000 TO 24 PER 1000 LIVE BIRTHS IN 2016. HOWEVER PROGRESS IS UNEVEN ACROSS STATES, AND DEMOGRAPHIC AND EPIDEMIOLOGICAL CHANGES MEANS, THE COUNTRY FACES A DOUBLE BURDEN OF DISEASE AND AN AGEING POPULATION. THE TOP THREE CAUSES OF DEATH IN 2019 WERE ISCHAEMIC HEART DISEASE, COPD AND STROKE.\\n\\nINDIA HAS A MIXED HEALTH-CARE DELIVERY SYSTEM. POLICY RECOMMENDATIONS IN THE 1940S LAID THE FOUNDATION FOR A GOVERNMENT-FUNDED, THREE-TIERED PUBLIC HEALTH SYSTEM TO DELIVER PREVENTIVE AND CURATIVE HEALTH CARE SERVICES. BY THE 1980S THE PRIVATE SECTOR’S ROLE IN HEALTH BEGAN TO GAIN PROMINENCE. TODAY, NEARLY 70% OF ALL OUTPATIENT VISITS, ABOUT 58% OF ALL INPATIENT EPISODES ARE PROVIDED BY EITHER FOR-PROFIT OR NOT-FOR-PROFIT PRIVATE PROVIDERS. QUALITY OF CARE, ACCESSIBILITY AND AFFORDABILITY OF HEALTH CARE SERVICES, MEDICINES AND DIAGNOSTICS ARE A CHALLENGE. THERE ARE ALSO DIFFERENCES IN HEALTH OUTCOMES BETWEEN STATES. SEVERAL POLICY INITIATIVES SINCE THE 2000S HAVE BEEN LAUNCHED TO STRENGTHEN INDIA’S HEALTH SYSTEM TOWARDS PROVIDING UHC AND IMPROVING HEALTH OUTCOMES AND THE AYUSHMAN BHARAT PROGRAMME IS ATTEMPTING TO TACKLE THESE ISSUES AT  BOTH HOSPITAL AND OUTPATIENT SETTINGS, IT IS STILL TOO EARLY TO LOOK AT ITS IMPACT.\\n\\nTHE INDIA HEALTH SYSTEM REVIEW PRESENTS A COMPREHENSIVE OVERVIEW OF THE COUNTRY’S HEALTH SYSTEM.  IT PRESENTS KEY INFORMATION OF INDIA’S MIXED HEALTH SYSTEM WHICH DEMONSTRATES VARYING LEVELS OF MATURITY ACROSS STATES, AND SERVES THE NEEDS A COUNTRY WITH VAST HETEROGENEITY IN HEALTH AND DEVELOPMENT INDICATORS, AND CONTEXTS.\\n\\n\\n\\n'"
      ]
     },
     "execution_count": 4,
     "metadata": {},
     "output_type": "execute_result"
    }
   ],
   "source": [
    "# Convert all letters to lower case\n",
    "text_upper = text.upper()\n",
    "text_upper"
   ]
  },
  {
   "cell_type": "markdown",
   "id": "9e59adc7",
   "metadata": {},
   "source": [
    "**Q2) Convert numbers into words or remove numbers**"
   ]
  },
  {
   "cell_type": "code",
   "execution_count": 5,
   "id": "743445f9",
   "metadata": {},
   "outputs": [],
   "source": [
    "# Import necessary libraries\n",
    "import re\n",
    "from num2words import num2words"
   ]
  },
  {
   "cell_type": "code",
   "execution_count": 6,
   "id": "315d0c8a",
   "metadata": {},
   "outputs": [
    {
     "data": {
      "text/plain": [
       "'India has made significant improvements in the health outcomes of its people. Life expectancy at birth increased to sixty-nine.six years in two thousand and twenty, from expected forty-seven.7years in one thousand, nine hundred and seventy. MMR declined from three hundred and one to one hundred and thirty per one hundred zero live births between two thousand and three and two thousand and fourteen-sixteen, and IMR declined from sixty-eight in the year two thousand to twenty-four per one thousand live births in two thousand and sixteen. However progress is uneven across states, and demographic and epidemiological changes means, the country faces a double burden of disease and an ageing population. The top three causes of death in two thousand and nineteen were ischaemic heart disease, COPD and stroke.\\n\\nIndia has a mixed health-care delivery system. Policy recommendations in the 1940s laid the foundation for a government-funded, three-tiered public health system to deliver preventive and curative health care services. By the 1980s the private sector’s role in health began to gain prominence. Today, nearly seventy% of all outpatient visits, about fifty-eight% of all inpatient episodes are provided by either for-profit or not-for-profit private providers. Quality of care, accessibility and affordability of health care services, medicines and diagnostics are a challenge. There are also differences in health outcomes between states. Several policy initiatives since the 2000s have been launched to strengthen India’s health system towards providing UHC and improving health outcomes and the Ayushman Bharat programme is attempting to tackle these issues at  both hospital and outpatient settings, it is still too early to look at its impact.\\n\\nThe India Health System Review presents a comprehensive overview of the country’s health system.  It presents key information of India’s mixed health system which demonstrates varying levels of maturity across states, and serves the needs a country with vast heterogeneity in health and development indicators, and contexts.\\n\\n\\n\\n'"
      ]
     },
     "execution_count": 6,
     "metadata": {},
     "output_type": "execute_result"
    }
   ],
   "source": [
    "# converting numbers into words\n",
    "num_to_text = re.sub(r'\\b\\d+\\b', lambda x: num2words(int(x.group())), text)\n",
    "num_to_text"
   ]
  },
  {
   "cell_type": "code",
   "execution_count": 7,
   "id": "50787b19",
   "metadata": {},
   "outputs": [
    {
     "data": {
      "text/plain": [
       "'India has made significant improvements in the health outcomes of its people. Life expectancy at birth increased to . years in , from expected .years in . MMR declined from  to  per   live births between  and -, and IMR declined from  in the year  to  per  live births in . However progress is uneven across states, and demographic and epidemiological changes means, the country faces a double burden of disease and an ageing population. The top three causes of death in  were ischaemic heart disease, COPD and stroke.\\n\\nIndia has a mixed health-care delivery system. Policy recommendations in the s laid the foundation for a government-funded, three-tiered public health system to deliver preventive and curative health care services. By the s the private sector’s role in health began to gain prominence. Today, nearly % of all outpatient visits, about % of all inpatient episodes are provided by either for-profit or not-for-profit private providers. Quality of care, accessibility and affordability of health care services, medicines and diagnostics are a challenge. There are also differences in health outcomes between states. Several policy initiatives since the s have been launched to strengthen India’s health system towards providing UHC and improving health outcomes and the Ayushman Bharat programme is attempting to tackle these issues at  both hospital and outpatient settings, it is still too early to look at its impact.\\n\\nThe India Health System Review presents a comprehensive overview of the country’s health system.  It presents key information of India’s mixed health system which demonstrates varying levels of maturity across states, and serves the needs a country with vast heterogeneity in health and development indicators, and contexts.\\n\\n\\n\\n'"
      ]
     },
     "execution_count": 7,
     "metadata": {},
     "output_type": "execute_result"
    }
   ],
   "source": [
    "# removing numbers\n",
    "text_without_numbers = re.sub(r'\\d+', '', text)\n",
    "text_without_numbers"
   ]
  },
  {
   "cell_type": "markdown",
   "id": "b6943bf6",
   "metadata": {},
   "source": [
    "**Q3) Remove punctuations, accent marks and other diacritics**"
   ]
  },
  {
   "cell_type": "code",
   "execution_count": 8,
   "id": "fab83597",
   "metadata": {},
   "outputs": [],
   "source": [
    "# importing all the necesarrry libraries/modules\n",
    "import string"
   ]
  },
  {
   "cell_type": "code",
   "execution_count": 9,
   "id": "74987d0b",
   "metadata": {},
   "outputs": [
    {
     "data": {
      "text/plain": [
       "'India has made significant improvements in the health outcomes of its people Life expectancy at birth increased to 696 years in 2020 from expected 477years in 1970 MMR declined from 301 to 130 per 100 000 live births between 2003 and 201416 and IMR declined from 68 in the year 2000 to 24 per 1000 live births in 2016 However progress is uneven across states and demographic and epidemiological changes means the country faces a double burden of disease and an ageing population The top three causes of death in 2019 were ischaemic heart disease COPD and stroke\\n\\nIndia has a mixed healthcare delivery system Policy recommendations in the 1940s laid the foundation for a governmentfunded threetiered public health system to deliver preventive and curative health care services By the 1980s the private sector’s role in health began to gain prominence Today nearly 70 of all outpatient visits about 58 of all inpatient episodes are provided by either forprofit or notforprofit private providers Quality of care accessibility and affordability of health care services medicines and diagnostics are a challenge There are also differences in health outcomes between states Several policy initiatives since the 2000s have been launched to strengthen India’s health system towards providing UHC and improving health outcomes and the Ayushman Bharat programme is attempting to tackle these issues at  both hospital and outpatient settings it is still too early to look at its impact\\n\\nThe India Health System Review presents a comprehensive overview of the country’s health system  It presents key information of India’s mixed health system which demonstrates varying levels of maturity across states and serves the needs a country with vast heterogeneity in health and development indicators and contexts\\n\\n\\n\\n'"
      ]
     },
     "execution_count": 9,
     "metadata": {},
     "output_type": "execute_result"
    }
   ],
   "source": [
    "without_punc_text = text.translate(str.maketrans('', '', string.punctuation))\n",
    "without_punc_text"
   ]
  },
  {
   "cell_type": "markdown",
   "id": "60ea1a15",
   "metadata": {},
   "source": [
    "**Q4) Remove white spaces**"
   ]
  },
  {
   "cell_type": "code",
   "execution_count": 10,
   "id": "f823ae63",
   "metadata": {},
   "outputs": [
    {
     "data": {
      "text/plain": [
       "'India has made significant improvements in the health outcomes of its people. Life expectancy at birth increased to 69.6 years in 2020, from expected 47.7years in 1970. MMR declined from 301 to 130 per 100 000 live births between 2003 and 2014-16, and IMR declined from 68 in the year 2000 to 24 per 1000 live births in 2016. However progress is uneven across states, and demographic and epidemiological changes means, the country faces a double burden of disease and an ageing population. The top three causes of death in 2019 were ischaemic heart disease, COPD and stroke. India has a mixed health-care delivery system. Policy recommendations in the 1940s laid the foundation for a government-funded, three-tiered public health system to deliver preventive and curative health care services. By the 1980s the private sector’s role in health began to gain prominence. Today, nearly 70% of all outpatient visits, about 58% of all inpatient episodes are provided by either for-profit or not-for-profit private providers. Quality of care, accessibility and affordability of health care services, medicines and diagnostics are a challenge. There are also differences in health outcomes between states. Several policy initiatives since the 2000s have been launched to strengthen India’s health system towards providing UHC and improving health outcomes and the Ayushman Bharat programme is attempting to tackle these issues at both hospital and outpatient settings, it is still too early to look at its impact. The India Health System Review presents a comprehensive overview of the country’s health system. It presents key information of India’s mixed health system which demonstrates varying levels of maturity across states, and serves the needs a country with vast heterogeneity in health and development indicators, and contexts.'"
      ]
     },
     "execution_count": 10,
     "metadata": {},
     "output_type": "execute_result"
    }
   ],
   "source": [
    "without_space_text = ' '.join(text.split())\n",
    "without_space_text"
   ]
  },
  {
   "cell_type": "markdown",
   "id": "ea1df7c8",
   "metadata": {},
   "source": [
    "**Q5) Expand abbreviations**"
   ]
  },
  {
   "cell_type": "code",
   "execution_count": 11,
   "id": "130e83e0",
   "metadata": {},
   "outputs": [
    {
     "data": {
      "text/plain": [
       "'India has made significant improvements in the health outcomes of its people. Life expectancy at birth increased to 69.6 years in 2020, from expected 47.7years in 1970. Maternal Mortality Rate declined from 301 to 130 per 100 000 live births between 2003 and 2014-16, and Infant Mortality Rate declined from 68 in the year 2000 to 24 per 1000 live births in 2016. However progress is uneven across states, and demographic and epidemiological changes means, the country faces a double burden of disease and an ageing population. The top three causes of death in 2019 were ischaemic heart disease, Chronic obstructive pulmonary disease and stroke. India has a mixed health-care delivery system. Policy recommendations in the 1940s laid the foundation for a government-funded, three-tiered public health system to deliver preventive and curative health care services. By the 1980s the private sector’s role in health began to gain prominence. Today, nearly 70% of all outpatient visits, about 58% of all inpatient episodes are provided by either for-profit or not-for-profit private providers. Quality of care, accessibility and affordability of health care services, medicines and diagnostics are a challenge. There are also differences in health outcomes between states. Several policy initiatives since the 2000s have been launched to strengthen India’s health system towards providing United Health Care and improving health outcomes and the Ayushman Bharat programme is attempting to tackle these issues at both hospital and outpatient settings, it is still too early to look at its impact. The India Health System Review presents a comprehensive overview of the country’s health system. It presents key information of India’s mixed health system which demonstrates varying levels of maturity across states, and serves the needs a country with vast heterogeneity in health and development indicators, and contexts.'"
      ]
     },
     "execution_count": 11,
     "metadata": {},
     "output_type": "execute_result"
    }
   ],
   "source": [
    "# defining a dictionary with all the abbreviations and their full-forms\n",
    "abbreviations = {\"MMR\": \"Maternal Mortality Rate\", \"IMR\": \"Infant Mortality Rate\", \n",
    "                 \"COPD\": \"Chronic obstructive pulmonary disease\", \"UHC\": \"United Health Care\"}\n",
    "\n",
    "expanded_text = ' '.join([abbreviations.get(word, word) for word in text.split()])\n",
    "expanded_text"
   ]
  },
  {
   "cell_type": "markdown",
   "id": "2522006d",
   "metadata": {},
   "source": [
    "**Q6) Remove stop words, sparse terms, and particular words**"
   ]
  },
  {
   "cell_type": "code",
   "execution_count": 12,
   "id": "01d86c81",
   "metadata": {},
   "outputs": [],
   "source": [
    "# importing all the necesarrry libraries/modules\n",
    "from nltk.corpus import stopwords\n",
    "from sklearn.feature_extraction.text import ENGLISH_STOP_WORDS"
   ]
  },
  {
   "cell_type": "code",
   "execution_count": 13,
   "id": "bd07015c",
   "metadata": {},
   "outputs": [
    {
     "data": {
      "text/plain": [
       "'India significant improvements health outcomes people. Life expectancy birth increased 69.6 years 2020, expected 47.7years 1970. MMR declined 301 130 100 000 live births 2003 2014-16, IMR declined 68 year 2000 24 1000 live births 2016. However progress uneven states, demographic epidemiological changes means, country faces double burden disease ageing population. The causes death 2019 ischaemic heart disease, COPD stroke. India mixed health-care delivery system. Policy recommendations 1940s laid foundation government-funded, three-tiered public health deliver preventive curative health care services. By 1980s private sector’s role health began gain prominence. Today, nearly 70% outpatient visits, 58% inpatient episodes provided for-profit not-for-profit private providers. Quality care, accessibility affordability health care services, medicines diagnostics challenge. There differences health outcomes states. Several policy initiatives 2000s launched strengthen India’s health providing UHC improving health outcomes Ayushman Bharat programme attempting tackle issues hospital outpatient settings, early look impact. The India Health System Review presents comprehensive overview country’s health system. It presents key information India’s mixed health demonstrates varying levels maturity states, serves needs country vast heterogeneity health development indicators, contexts.'"
      ]
     },
     "execution_count": 13,
     "metadata": {},
     "output_type": "execute_result"
    }
   ],
   "source": [
    "stopwords_all = set(stopwords.words('english')).union(ENGLISH_STOP_WORDS)\n",
    "\n",
    "no_stopwords_text = ' '.join([word for word in text.split() if word not in stopwords_all])\n",
    "no_stopwords_text"
   ]
  },
  {
   "cell_type": "markdown",
   "id": "76b0694b",
   "metadata": {},
   "source": [
    "**Q7) Text canonicalization**"
   ]
  },
  {
   "cell_type": "code",
   "execution_count": 14,
   "id": "1c08a6d5",
   "metadata": {},
   "outputs": [],
   "source": [
    "# importing all the necesarrry libraries/modules\n",
    "from nltk.stem import PorterStemmer"
   ]
  },
  {
   "cell_type": "code",
   "execution_count": 15,
   "id": "17638bf0",
   "metadata": {},
   "outputs": [
    {
     "data": {
      "text/plain": [
       "'india ha made signific improv in the health outcom of it people. life expect at birth increas to 69.6 year in 2020, from expect 47.7year in 1970. mmr declin from 301 to 130 per 100 000 live birth between 2003 and 2014-16, and imr declin from 68 in the year 2000 to 24 per 1000 live birth in 2016. howev progress is uneven across states, and demograph and epidemiolog chang means, the countri face a doubl burden of diseas and an age population. the top three caus of death in 2019 were ischaem heart disease, copd and stroke. india ha a mix health-car deliveri system. polici recommend in the 1940 laid the foundat for a government-funded, three-tier public health system to deliv prevent and cur health care services. by the 1980 the privat sector’ role in health began to gain prominence. today, nearli 70% of all outpati visits, about 58% of all inpati episod are provid by either for-profit or not-for-profit privat providers. qualiti of care, access and afford of health care services, medicin and diagnost are a challenge. there are also differ in health outcom between states. sever polici initi sinc the 2000 have been launch to strengthen india’ health system toward provid uhc and improv health outcom and the ayushman bharat programm is attempt to tackl these issu at both hospit and outpati settings, it is still too earli to look at it impact. the india health system review present a comprehens overview of the country’ health system. it present key inform of india’ mix health system which demonstr vari level of matur across states, and serv the need a countri with vast heterogen in health and develop indicators, and contexts.'"
      ]
     },
     "execution_count": 15,
     "metadata": {},
     "output_type": "execute_result"
    }
   ],
   "source": [
    "# defining the stemmer\n",
    "stemmer = PorterStemmer()\n",
    "\n",
    "text_canonicalization = ' '.join([stemmer.stem(word) for word in text.split()])\n",
    "text_canonicalization"
   ]
  },
  {
   "cell_type": "markdown",
   "id": "71eae91e",
   "metadata": {},
   "source": [
    "<hr>"
   ]
  }
 ],
 "metadata": {
  "kernelspec": {
   "display_name": "Python 3 (ipykernel)",
   "language": "python",
   "name": "python3"
  },
  "language_info": {
   "codemirror_mode": {
    "name": "ipython",
    "version": 3
   },
   "file_extension": ".py",
   "mimetype": "text/x-python",
   "name": "python",
   "nbconvert_exporter": "python",
   "pygments_lexer": "ipython3",
   "version": "3.11.5"
  }
 },
 "nbformat": 4,
 "nbformat_minor": 5
}
