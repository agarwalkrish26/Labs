{
 "cells": [
  {
   "cell_type": "markdown",
   "id": "fd825603",
   "metadata": {},
   "source": [
    "# Lab 8: NLTK\n",
    "\n",
    "Name: **Krish Agarwal** <br>\n",
    "Reg No: **21112016** <br>\n",
    "Class: **5BSc DS A** <br>\n",
    "Date: **26/10/2023**\n",
    "\n",
    "---------------"
   ]
  },
  {
   "cell_type": "markdown",
   "id": "17b74f1f",
   "metadata": {},
   "source": [
    "## `Objective`:  \n",
    "1. Use NLTK for:\n",
    "    1. Tokenization\n",
    "    1. Stemming\n",
    "    1. Lemmatization on a movie review CSV file.\n",
    "1. Find the frequency of the word\n",
    "1. Categorize Part of speech (POS)\n",
    "1. Classify the text"
   ]
  },
  {
   "cell_type": "markdown",
   "id": "3c186dd4",
   "metadata": {},
   "source": [
    "## `References`:  \n",
    "1. **Dataset**: https://www.kaggle.com/datasets/columbine/imdb-dataset-sentiment-analysis-in-csv-format/\n",
    "1. **NLTK API**: https://www.nltk.org/"
   ]
  },
  {
   "cell_type": "markdown",
   "id": "bb13bab0",
   "metadata": {},
   "source": [
    "## `Completion Status`:\n",
    "\n",
    "| Question Number | Status |\n",
    "| --- | --- |\n",
    "| 1A | Completed |\n",
    "| 1B | Completed |\n",
    "| 1C | Completed |\n",
    "| 2 | Completed |\n",
    "| 3 | Completed |\n",
    "| 4 | Completed |"
   ]
  },
  {
   "cell_type": "markdown",
   "id": "bacb2e20",
   "metadata": {},
   "source": [
    "## `Code`:"
   ]
  },
  {
   "cell_type": "code",
   "execution_count": 1,
   "id": "9d622f17",
   "metadata": {},
   "outputs": [
    {
     "data": {
      "text/html": [
       "<div>\n",
       "<style scoped>\n",
       "    .dataframe tbody tr th:only-of-type {\n",
       "        vertical-align: middle;\n",
       "    }\n",
       "\n",
       "    .dataframe tbody tr th {\n",
       "        vertical-align: top;\n",
       "    }\n",
       "\n",
       "    .dataframe thead th {\n",
       "        text-align: right;\n",
       "    }\n",
       "</style>\n",
       "<table border=\"1\" class=\"dataframe\">\n",
       "  <thead>\n",
       "    <tr style=\"text-align: right;\">\n",
       "      <th></th>\n",
       "      <th>text</th>\n",
       "      <th>label</th>\n",
       "    </tr>\n",
       "  </thead>\n",
       "  <tbody>\n",
       "    <tr>\n",
       "      <th>0</th>\n",
       "      <td>I grew up (b. 1965) watching and loving the Th...</td>\n",
       "      <td>0</td>\n",
       "    </tr>\n",
       "    <tr>\n",
       "      <th>1</th>\n",
       "      <td>When I put this movie in my DVD player, and sa...</td>\n",
       "      <td>0</td>\n",
       "    </tr>\n",
       "    <tr>\n",
       "      <th>2</th>\n",
       "      <td>Why do people who do not know what a particula...</td>\n",
       "      <td>0</td>\n",
       "    </tr>\n",
       "    <tr>\n",
       "      <th>3</th>\n",
       "      <td>Even though I have great interest in Biblical ...</td>\n",
       "      <td>0</td>\n",
       "    </tr>\n",
       "    <tr>\n",
       "      <th>4</th>\n",
       "      <td>Im a die hard Dads Army fan and nothing will e...</td>\n",
       "      <td>1</td>\n",
       "    </tr>\n",
       "    <tr>\n",
       "      <th>...</th>\n",
       "      <td>...</td>\n",
       "      <td>...</td>\n",
       "    </tr>\n",
       "    <tr>\n",
       "      <th>39995</th>\n",
       "      <td>\"Western Union\" is something of a forgotten cl...</td>\n",
       "      <td>1</td>\n",
       "    </tr>\n",
       "    <tr>\n",
       "      <th>39996</th>\n",
       "      <td>This movie is an incredible piece of work. It ...</td>\n",
       "      <td>1</td>\n",
       "    </tr>\n",
       "    <tr>\n",
       "      <th>39997</th>\n",
       "      <td>My wife and I watched this movie because we pl...</td>\n",
       "      <td>0</td>\n",
       "    </tr>\n",
       "    <tr>\n",
       "      <th>39998</th>\n",
       "      <td>When I first watched Flatliners, I was amazed....</td>\n",
       "      <td>1</td>\n",
       "    </tr>\n",
       "    <tr>\n",
       "      <th>39999</th>\n",
       "      <td>Why would this film be so good, but only gross...</td>\n",
       "      <td>1</td>\n",
       "    </tr>\n",
       "  </tbody>\n",
       "</table>\n",
       "<p>40000 rows × 2 columns</p>\n",
       "</div>"
      ],
      "text/plain": [
       "                                                    text  label\n",
       "0      I grew up (b. 1965) watching and loving the Th...      0\n",
       "1      When I put this movie in my DVD player, and sa...      0\n",
       "2      Why do people who do not know what a particula...      0\n",
       "3      Even though I have great interest in Biblical ...      0\n",
       "4      Im a die hard Dads Army fan and nothing will e...      1\n",
       "...                                                  ...    ...\n",
       "39995  \"Western Union\" is something of a forgotten cl...      1\n",
       "39996  This movie is an incredible piece of work. It ...      1\n",
       "39997  My wife and I watched this movie because we pl...      0\n",
       "39998  When I first watched Flatliners, I was amazed....      1\n",
       "39999  Why would this film be so good, but only gross...      1\n",
       "\n",
       "[40000 rows x 2 columns]"
      ]
     },
     "execution_count": 1,
     "metadata": {},
     "output_type": "execute_result"
    }
   ],
   "source": [
    "# Importing the data\n",
    "import pandas as pd\n",
    "\n",
    "data = pd.read_csv('D:/Z/Downloads/Movie Dataset.csv')\n",
    "data"
   ]
  },
  {
   "cell_type": "code",
   "execution_count": 2,
   "id": "4d774be6",
   "metadata": {},
   "outputs": [],
   "source": [
    "# importing the necessary libraries/modules\n",
    "import nltk\n",
    "from nltk.corpus import stopwords\n",
    "from nltk.stem import PorterStemmer, WordNetLemmatizer\n",
    "from nltk.tokenize import word_tokenize\n",
    "from nltk.probability import FreqDist\n",
    "from nltk import pos_tag\n",
    "from sklearn.feature_extraction.text import TfidfVectorizer\n",
    "from sklearn.naive_bayes import MultinomialNB\n",
    "from sklearn.model_selection import train_test_split\n",
    "from sklearn.metrics import accuracy_score, classification_report"
   ]
  },
  {
   "cell_type": "code",
   "execution_count": 3,
   "id": "fcb44a65",
   "metadata": {},
   "outputs": [
    {
     "data": {
      "text/plain": [
       "\"\\nnltk.download('punkt')\\nnltk.download('stopwords')\\nnltk.download('wordnet')\\nnltk.download('averaged_perceptron_tagger')\\n\""
      ]
     },
     "execution_count": 3,
     "metadata": {},
     "output_type": "execute_result"
    }
   ],
   "source": [
    "# Downloading the packages\n",
    "\n",
    "'''\n",
    "nltk.download('punkt')\n",
    "nltk.download('stopwords')\n",
    "nltk.download('wordnet')\n",
    "nltk.download('averaged_perceptron_tagger')\n",
    "'''"
   ]
  },
  {
   "cell_type": "code",
   "execution_count": 4,
   "id": "b28fc861",
   "metadata": {},
   "outputs": [],
   "source": [
    "# pre-processing the text by combining all the 3 methods: Tokenization, Stemming, Lemmatization\n",
    "def process_text(text):\n",
    "    # Tokenization\n",
    "    tokens = word_tokenize(text.lower())  # Convert to lowercase\n",
    "    # Remove stopwords and non-alphabetic tokens\n",
    "    tokens = [t for t in tokens if t.isalpha() and t not in stopwords.words('english')]\n",
    "    # Stemming and Lemmatization\n",
    "    stemmed = [stemmer.stem(t) for t in tokens]\n",
    "    lemmatized = [lemmatizer.lemmatize(t) for t in tokens]\n",
    "    return ' '.join(lemmatized)  # Returning lemmatized text; change to 'stemmed' if stemmed text is preferred"
   ]
  },
  {
   "cell_type": "markdown",
   "id": "d1f5c2e8",
   "metadata": {},
   "source": [
    "**Q1A) Tokenization**"
   ]
  },
  {
   "cell_type": "code",
   "execution_count": 5,
   "id": "2cba2c81",
   "metadata": {},
   "outputs": [],
   "source": [
    "# tokenization function\n",
    "def tokenize(text):\n",
    "    return word_tokenize(text)"
   ]
  },
  {
   "cell_type": "code",
   "execution_count": 6,
   "id": "e47f48df",
   "metadata": {},
   "outputs": [
    {
     "name": "stdout",
     "output_type": "stream",
     "text": [
      "0    [I, grew, up, (, b, ., 1965, ), watching, and,...\n",
      "1    [When, I, put, this, movie, in, my, DVD, playe...\n",
      "2    [Why, do, people, who, do, not, know, what, a,...\n",
      "3    [Even, though, I, have, great, interest, in, B...\n",
      "4    [Im, a, die, hard, Dads, Army, fan, and, nothi...\n",
      "Name: tokens, dtype: object\n"
     ]
    }
   ],
   "source": [
    "# applying the above function\n",
    "data['tokens'] = data['text'].apply(tokenize)\n",
    "\n",
    "print(data['tokens'].head())"
   ]
  },
  {
   "cell_type": "markdown",
   "id": "2389f63f",
   "metadata": {},
   "source": [
    "**Q1B) Stemming** "
   ]
  },
  {
   "cell_type": "code",
   "execution_count": 7,
   "id": "1190806b",
   "metadata": {},
   "outputs": [],
   "source": [
    "# defining the stemmer\n",
    "stemmer = PorterStemmer()\n",
    "\n",
    "# stemming function \n",
    "def stem(text):\n",
    "    tokens = word_tokenize(text)\n",
    "    stemmed_tokens = [stemmer.stem(token) for token in tokens]\n",
    "    return ' '.join(stemmed_tokens)  # Join the stemmed tokens back into a string"
   ]
  },
  {
   "cell_type": "code",
   "execution_count": 8,
   "id": "1ff4f7e5",
   "metadata": {},
   "outputs": [
    {
     "name": "stdout",
     "output_type": "stream",
     "text": [
      "0    i grew up ( b . 1965 ) watch and love the thun...\n",
      "1    when i put thi movi in my dvd player , and sat...\n",
      "2    whi do peopl who do not know what a particular...\n",
      "3    even though i have great interest in biblic mo...\n",
      "4    im a die hard dad armi fan and noth will ever ...\n",
      "Name: stemmed text, dtype: object\n"
     ]
    }
   ],
   "source": [
    "# applying the above function\n",
    "data['stemmed text'] = data['text'].apply(stem)\n",
    "\n",
    "print(data['stemmed text'].head())"
   ]
  },
  {
   "cell_type": "markdown",
   "id": "f770bede",
   "metadata": {},
   "source": [
    "**Q1C) Lemmatization**"
   ]
  },
  {
   "cell_type": "code",
   "execution_count": 9,
   "id": "40d7482f",
   "metadata": {},
   "outputs": [],
   "source": [
    "# defining the lemmatizer\n",
    "lemmatizer = WordNetLemmatizer()\n",
    "\n",
    "# lemmatization function\n",
    "def lemmatize(text):\n",
    "    tokens = word_tokenize(text)\n",
    "    lemmatized_tokens = [lemmatizer.lemmatize(token) for token in tokens]\n",
    "    return ' '.join(lemmatized_tokens)  # Join the lemmatized tokens back into a string"
   ]
  },
  {
   "cell_type": "code",
   "execution_count": 10,
   "id": "59f1dacc",
   "metadata": {},
   "outputs": [
    {
     "name": "stdout",
     "output_type": "stream",
     "text": [
      "0    I grew up ( b . 1965 ) watching and loving the...\n",
      "1    When I put this movie in my DVD player , and s...\n",
      "2    Why do people who do not know what a particula...\n",
      "3    Even though I have great interest in Biblical ...\n",
      "4    Im a die hard Dads Army fan and nothing will e...\n",
      "Name: lemmatized text, dtype: object\n"
     ]
    }
   ],
   "source": [
    "# applying the above function\n",
    "data['lemmatized text'] = data['text'].apply(lemmatize)\n",
    "\n",
    "print(data['lemmatized text'].head())"
   ]
  },
  {
   "cell_type": "markdown",
   "id": "9bbae903",
   "metadata": {},
   "source": [
    "**Q2) Find the frequency of the word**"
   ]
  },
  {
   "cell_type": "code",
   "execution_count": 11,
   "id": "6f0c9a68",
   "metadata": {},
   "outputs": [],
   "source": [
    "# applying the above function\n",
    "data['processed text'] = data['text'].apply(process_text)"
   ]
  },
  {
   "cell_type": "code",
   "execution_count": 12,
   "id": "f36d7344",
   "metadata": {},
   "outputs": [
    {
     "name": "stdout",
     "output_type": "stream",
     "text": [
      "[('br', 161465), ('movie', 80093), ('film', 72210), ('one', 42940), ('like', 32261), ('time', 23760), ('good', 23223), ('character', 22280), ('would', 21187), ('even', 19895)]\n"
     ]
    }
   ],
   "source": [
    "word_frequency = FreqDist(' '.join(data['processed text']).split())\n",
    "print(word_frequency.most_common(10))"
   ]
  },
  {
   "cell_type": "markdown",
   "id": "b3f5a1e5",
   "metadata": {},
   "source": [
    "**Q3) Categorize Part of speech (POS)**"
   ]
  },
  {
   "cell_type": "code",
   "execution_count": 13,
   "id": "462bda20",
   "metadata": {},
   "outputs": [
    {
     "name": "stdout",
     "output_type": "stream",
     "text": [
      "[('grew', 'VBD'), ('b', 'NN'), ('watching', 'VBG'), ('loving', 'VBG'), ('thunderbird', 'NN'), ('mate', 'JJ'), ('school', 'NN'), ('watched', 'VBD'), ('played', 'JJ'), ('thunderbird', 'NN'), ('school', 'NN'), ('lunch', 'JJ'), ('school', 'NN'), ('wanted', 'VBD'), ('virgil', 'NN'), ('scott', 'NN'), ('one', 'CD'), ('wanted', 'VBD'), ('alan', 'NN'), ('counting', 'VBG'), ('became', 'VBD'), ('art', 'JJ'), ('form', 'NN'), ('took', 'VBD'), ('child', 'NN'), ('see', 'NN'), ('movie', 'NN'), ('hoping', 'VBG'), ('would', 'MD'), ('get', 'VB'), ('glimpse', 'NN'), ('loved', 'VBN'), ('child', 'JJ'), ('bitterly', 'RB'), ('disappointing', 'JJ'), ('high', 'JJ'), ('point', 'NN'), ('snappy', 'JJ'), ('theme', 'NN'), ('tune', 'NN'), ('could', 'MD'), ('compare', 'VB'), ('original', 'JJ'), ('score', 'NN'), ('thunderbird', 'NN'), ('thankfully', 'RB'), ('early', 'JJ'), ('saturday', 'NN'), ('morning', 'NN'), ('one', 'CD'), ('television', 'NN'), ('channel', 'NN'), ('still', 'RB'), ('play', 'VB'), ('rerun', 'JJ'), ('series', 'NN'), ('gerry', 'NN'), ('anderson', 'JJ'), ('wife', 'NN'), ('created', 'VBD'), ('jonatha', 'NN'), ('frakes', 'NNS'), ('hand', 'NN'), ('director', 'NN'), ('chair', 'NN'), ('version', 'NN'), ('completely', 'RB'), ('hopeless', 'JJ'), ('waste', 'NN'), ('film', 'NN'), ('utter', 'JJ'), ('rubbish', 'JJ'), ('cgi', 'NNS'), ('remake', 'VBP'), ('may', 'MD'), ('acceptable', 'VB'), ('replacing', 'VBG'), ('marionette', 'NN'), ('homo', 'NN'), ('sapiens', 'VBZ'), ('subsp', 'JJ'), ('sapiens', 'NNS'), ('huge', 'JJ'), ('error', 'NN'), ('judgment', 'NN')]\n"
     ]
    }
   ],
   "source": [
    "sample_text = data['processed text'].iloc[0]  # Taking first review as sample\n",
    "pos_tags = pos_tag(word_tokenize(sample_text))\n",
    "print(pos_tags)"
   ]
  },
  {
   "cell_type": "markdown",
   "id": "8411aa55",
   "metadata": {},
   "source": [
    "**Q4) Classify the text**"
   ]
  },
  {
   "cell_type": "code",
   "execution_count": 14,
   "id": "8172ccfa",
   "metadata": {},
   "outputs": [],
   "source": [
    "# splitting the data into training and testing\n",
    "X = data['processed text']\n",
    "y = data['label']\n",
    "X_train, X_test, y_train, y_test = train_test_split(X, y, test_size=0.2, random_state=42)"
   ]
  },
  {
   "cell_type": "code",
   "execution_count": 15,
   "id": "b8ada258",
   "metadata": {},
   "outputs": [],
   "source": [
    "# Pre-processing the text data into numerical data through vectorizer\n",
    "vectorizer = TfidfVectorizer()\n",
    "X_train_tfidf = vectorizer.fit_transform(X_train)\n",
    "X_test_tfidf = vectorizer.transform(X_test)"
   ]
  },
  {
   "cell_type": "code",
   "execution_count": 16,
   "id": "d77cd696",
   "metadata": {},
   "outputs": [],
   "source": [
    "# Training a Multinomial Naive Bayes model \n",
    "classifier = MultinomialNB()\n",
    "classifier.fit(X_train_tfidf, y_train)\n",
    "y_pred = classifier.predict(X_test_tfidf)"
   ]
  },
  {
   "cell_type": "code",
   "execution_count": 17,
   "id": "fd41762a",
   "metadata": {},
   "outputs": [
    {
     "name": "stdout",
     "output_type": "stream",
     "text": [
      "0.864125\n",
      "              precision    recall  f1-score   support\n",
      "\n",
      "           0       0.85      0.88      0.87      3966\n",
      "           1       0.88      0.84      0.86      4034\n",
      "\n",
      "    accuracy                           0.86      8000\n",
      "   macro avg       0.86      0.86      0.86      8000\n",
      "weighted avg       0.86      0.86      0.86      8000\n",
      "\n"
     ]
    }
   ],
   "source": [
    "# Evaluating the classifier\n",
    "print(accuracy_score(y_test, y_pred))\n",
    "print(classification_report(y_test, y_pred))"
   ]
  },
  {
   "cell_type": "code",
   "execution_count": 18,
   "id": "fc8544fe",
   "metadata": {},
   "outputs": [
    {
     "name": "stdout",
     "output_type": "stream",
     "text": [
      "Classification: 1\n"
     ]
    }
   ],
   "source": [
    "# Classify a new text\n",
    "\n",
    "#defining a new and unseen review\n",
    "new_text = \"This movie is fantastic, and the acting is superb\"\n",
    "#processing the text using the above created user-defined function\n",
    "new_text_processed = process_text(new_text)\n",
    "# vectorizing the string\n",
    "new_text_tfidf = vectorizer.transform([new_text_processed])\n",
    "# classifying the review\n",
    "prediction = classifier.predict(new_text_tfidf)\n",
    "\n",
    "print(f'Classification: {prediction[0]}')"
   ]
  },
  {
   "cell_type": "markdown",
   "id": "3e72dcbd",
   "metadata": {},
   "source": [
    "<hr>"
   ]
  }
 ],
 "metadata": {
  "kernelspec": {
   "display_name": "Python 3 (ipykernel)",
   "language": "python",
   "name": "python3"
  },
  "language_info": {
   "codemirror_mode": {
    "name": "ipython",
    "version": 3
   },
   "file_extension": ".py",
   "mimetype": "text/x-python",
   "name": "python",
   "nbconvert_exporter": "python",
   "pygments_lexer": "ipython3",
   "version": "3.11.5"
  }
 },
 "nbformat": 4,
 "nbformat_minor": 5
}
