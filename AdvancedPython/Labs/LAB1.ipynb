{
 "cells": [
  {
   "cell_type": "markdown",
   "id": "44cb8935",
   "metadata": {},
   "source": [
    "# Lab 1: DocStrings\n",
    "\n",
    "Name: **Krish Agarwal** <br>\n",
    "Reg No: **21112016** <br>\n",
    "Class: **5BSc DS A** <br>\n",
    "Date: 16/06/2023\n",
    "\n",
    "---------------"
   ]
  },
  {
   "cell_type": "markdown",
   "id": "33a25b34",
   "metadata": {},
   "source": [
    "## `Objective`: \n",
    "1. Refer the  example and make it as proper documentation using __doc__ and help \n",
    "1. Write a python program get your name as input and reverse the string. Explain how to use write docstrings for the example."
   ]
  },
  {
   "cell_type": "markdown",
   "id": "d4ec97ce",
   "metadata": {},
   "source": [
    "## `Completion Status`:\n",
    "\n",
    "| Question Number | Status |\n",
    "| --- | --- |\n",
    "| 1 | Completed |\n",
    "| 2 | Completed |"
   ]
  },
  {
   "cell_type": "markdown",
   "id": "223d3261",
   "metadata": {},
   "source": [
    "## `Code`:"
   ]
  },
  {
   "cell_type": "code",
   "execution_count": 1,
   "id": "866ccc98",
   "metadata": {},
   "outputs": [],
   "source": [
    "def invertString(string):\n",
    "    \n",
    "    # Creating a list to store all the alphabets\n",
    "    string_ = []\n",
    "    \n",
    "    \"\"\"\n",
    "    Iterating through alphabets from the back\n",
    "    and storig them in a list\n",
    "    \"\"\"\n",
    "    \n",
    "    for i in range(1, len(string)+1) :\n",
    "        string_.append(string[-i])\n",
    "        \n",
    "    # Creating a new variable to assign the newly generated inverted string    \n",
    "    new_string = \"\"\n",
    "    \n",
    "    \"\"\"\n",
    "    Concatinating all the elements of the above created list\n",
    "    into the new variable\n",
    "    \"\"\"\n",
    "    \n",
    "    for i in string_:\n",
    "        new_string += i\n",
    "    \n",
    "    return new_string"
   ]
  },
  {
   "cell_type": "code",
   "execution_count": 2,
   "id": "79789971",
   "metadata": {},
   "outputs": [],
   "source": [
    "invertString.__doc__ = \"A simple function that reverses any given string\""
   ]
  },
  {
   "cell_type": "code",
   "execution_count": 3,
   "id": "daf6dae1",
   "metadata": {},
   "outputs": [
    {
     "data": {
      "text/plain": [
       "'hsirK'"
      ]
     },
     "execution_count": 3,
     "metadata": {},
     "output_type": "execute_result"
    }
   ],
   "source": [
    "invertString(\"Krish\")"
   ]
  },
  {
   "cell_type": "code",
   "execution_count": 4,
   "id": "6bd82814",
   "metadata": {},
   "outputs": [
    {
     "name": "stdout",
     "output_type": "stream",
     "text": [
      "Help on function invertString in module __main__:\n",
      "\n",
      "invertString(string)\n",
      "    A simple function that reverses any given string\n",
      "\n"
     ]
    }
   ],
   "source": [
    "help(invertString)"
   ]
  },
  {
   "cell_type": "code",
   "execution_count": 5,
   "id": "b5dee62d",
   "metadata": {},
   "outputs": [
    {
     "name": "stdout",
     "output_type": "stream",
     "text": [
      "A simple function that reverses any given string\n"
     ]
    }
   ],
   "source": [
    "print(invertString.__doc__)"
   ]
  },
  {
   "cell_type": "markdown",
   "id": "2e02f206",
   "metadata": {},
   "source": [
    "<hr>"
   ]
  }
 ],
 "metadata": {
  "kernelspec": {
   "display_name": "Python 3 (ipykernel)",
   "language": "python",
   "name": "python3"
  },
  "language_info": {
   "codemirror_mode": {
    "name": "ipython",
    "version": 3
   },
   "file_extension": ".py",
   "mimetype": "text/x-python",
   "name": "python",
   "nbconvert_exporter": "python",
   "pygments_lexer": "ipython3",
   "version": "3.9.13"
  }
 },
 "nbformat": 4,
 "nbformat_minor": 5
}
