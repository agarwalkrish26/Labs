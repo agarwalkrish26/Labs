{
 "cells": [
  {
   "cell_type": "code",
   "execution_count": 1,
   "id": "35a9a6bc",
   "metadata": {},
   "outputs": [],
   "source": [
    "# importing the necessary libraries/modules\n",
    "import requests\n",
    "from bs4 import BeautifulSoup"
   ]
  },
  {
   "cell_type": "code",
   "execution_count": 3,
   "id": "c7504382",
   "metadata": {},
   "outputs": [],
   "source": [
    "# requesting the contents from the given URL\n",
    "page = requests.get(\"https://medium.com/@isaac_1884/the-attacks-on-israel-and-the-response-15ed50e63da6\")\n",
    "\n",
    "# scrapes and collects the entire HTML code\n",
    "soup = BeautifulSoup(page.content, 'html.parser')"
   ]
  },
  {
   "cell_type": "markdown",
   "id": "43662409",
   "metadata": {},
   "source": [
    "**Header**"
   ]
  },
  {
   "cell_type": "code",
   "execution_count": 5,
   "id": "3b7a1048",
   "metadata": {},
   "outputs": [
    {
     "data": {
      "text/plain": [
       "'A personal, non-partisan perspective on the Israel-Hamas war | by Isaac Saul | Oct, 2023 | Medium'"
      ]
     },
     "execution_count": 5,
     "metadata": {},
     "output_type": "execute_result"
    }
   ],
   "source": [
    "# head is the content inside the header tag\n",
    "page_header = soup.head.text\n",
    "page_header"
   ]
  },
  {
   "cell_type": "markdown",
   "id": "5b7ca5ab",
   "metadata": {},
   "source": [
    "**Title**"
   ]
  },
  {
   "cell_type": "code",
   "execution_count": 6,
   "id": "deb10ba3",
   "metadata": {},
   "outputs": [
    {
     "data": {
      "text/plain": [
       "'A personal, non-partisan perspective on the Israel-Hamas war | by Isaac Saul | Oct, 2023 | Medium'"
      ]
     },
     "execution_count": 6,
     "metadata": {},
     "output_type": "execute_result"
    }
   ],
   "source": [
    "# title is on the tab icon (on the top, left to the x)\n",
    "page_title = soup.title.text\n",
    "page_title"
   ]
  },
  {
   "cell_type": "markdown",
   "id": "11d3c2b4",
   "metadata": {},
   "source": [
    "**find_all**"
   ]
  },
  {
   "cell_type": "markdown",
   "id": "e3340113",
   "metadata": {},
   "source": [
    "`<h1> tags`"
   ]
  },
  {
   "cell_type": "code",
   "execution_count": 18,
   "id": "fc02ba90",
   "metadata": {},
   "outputs": [
    {
     "data": {
      "text/plain": [
       "[<h1 class=\"pw-post-title et eu ev be ew ex ey ez fa fb fc fd fe ff fg fh fi fj fk fl fm fn fo fp fq fr bj\" data-testid=\"storyTitle\" id=\"f9a7\">A personal, non-partisan perspective on the Israel-Hamas war</h1>]"
      ]
     },
     "execution_count": 18,
     "metadata": {},
     "output_type": "execute_result"
    }
   ],
   "source": [
    "# collecting all the h1 tags\n",
    "h1_tags = soup.find_all('h1')\n",
    "h1_tags"
   ]
  },
  {
   "cell_type": "code",
   "execution_count": 22,
   "id": "e0460619",
   "metadata": {},
   "outputs": [
    {
     "name": "stdout",
     "output_type": "stream",
     "text": [
      "0 : A personal, non-partisan perspective on the Israel-Hamas war\n"
     ]
    }
   ],
   "source": [
    "# printing the text inside the h1 tags\n",
    "for i in range(len(h1_tags)):\n",
    "    print(i, \":\", h1_tags[i].text)"
   ]
  },
  {
   "cell_type": "markdown",
   "id": "0b4f8d6b",
   "metadata": {},
   "source": [
    "`All <h> tags`"
   ]
  },
  {
   "cell_type": "code",
   "execution_count": 23,
   "id": "268a8b52",
   "metadata": {},
   "outputs": [
    {
     "data": {
      "text/plain": [
       "[<h1 class=\"pw-post-title et eu ev be ew ex ey ez fa fb fc fd fe ff fg fh fi fj fk fl fm fn fo fp fq fr bj\" data-testid=\"storyTitle\" id=\"f9a7\">A personal, non-partisan perspective on the Israel-Hamas war</h1>,\n",
       " <h2 class=\"pw-subtitle-paragraph fs eu ev be b ft fu fv fw fx fy fz ga gb gc gd ge gf gg gh cp gi\" id=\"6fba\">To understand this war, we must understand the thousand-year history that led us here</h2>,\n",
       " <h2 class=\"pw-author-name be py pz qa qb bj\"><span class=\"eo\">Written by <!-- -->Isaac Saul</span></h2>,\n",
       " <h2 class=\"be py qt fv qu qv fy qw qx qy qz ra rb rc rd re rf bj\">Recommended from Medium</h2>,\n",
       " <h2 class=\"be ew qt fv uu uv qu qv fy uw ux qw mn uy uz va vb mr vc vd ve vf mv vg vh vi vj uc ue uf uh uj bj\">Who Can Claim Palestine?</h2>,\n",
       " <h3 class=\"be b he z uc vl ue uf vm uh uj gi\">One of the key questions in the conflict between Israel and Palestine is this: Who can legitimately claim the land? The underlying question…</h3>,\n",
       " <h2 class=\"be ew qt fv uu uv qu qv fy uw ux qw mn uy uz va vb mr vc vd ve vf mv vg vh vi vj uc ue uf uh uj bj\">Kanye’s wife: a (naked) handmaid</h2>,\n",
       " <h3 class=\"be b he z uc vl ue uf vm uh uj gi\">Why isn’t anyone intervening in what seems to be an abusive relationship? This is why #MeToo fizzled.</h3>,\n",
       " <h2 class=\"be py he z eu bj\">Lists</h2>,\n",
       " <h2 class=\"be py he z uc vl ue uf vm uh uj eu bj\">Tech &amp; Tools</h2>,\n",
       " <h2 class=\"be py he z uc vl ue uf vm uh uj eu bj\">Staff Picks</h2>,\n",
       " <h2 class=\"be py he z uc vl ue uf vm uh uj eu bj\">Modern Marketing</h2>,\n",
       " <h2 class=\"be py he z uc vl ue uf vm uh uj eu bj\">Best of The Writing Cooperative</h2>,\n",
       " <h2 class=\"be ew qt fv uu uv qu qv fy uw ux qw mn uy uz va vb mr vc vd ve vf mv vg vh vi vj uc ue uf uh uj bj\">The ChatGPT Hype Is Over — Now Watch How Google Will Kill ChatGPT.</h2>,\n",
       " <h3 class=\"be b he z uc vl ue uf vm uh uj gi\">It never happens instantly. The business game is longer than you know.</h3>,\n",
       " <h2 class=\"be ew qt fv uu uv qu qv fy uw ux qw mn uy uz va vb mr vc vd ve vf mv vg vh vi vj uc ue uf uh uj bj\">The Secrets of Retirement No One Tells You</h2>,\n",
       " <h3 class=\"be b he z uc vl ue uf vm uh uj gi\">Maybe my pain can become your gain</h3>,\n",
       " <h2 class=\"be ew qt fv uu uv qu qv fy uw ux qw mn uy uz va vb mr vc vd ve vf mv vg vh vi vj uc ue uf uh uj bj\">10 visuals that will teach you more than a 300-page self-help book</h2>,\n",
       " <h3 class=\"be b he z uc vl ue uf vm uh uj gi\">visuals on mindset</h3>,\n",
       " <h2 class=\"be ew qt fv uu uv qu qv fy uw ux qw mn uy uz va vb mr vc vd ve vf mv vg vh vi vj uc ue uf uh uj bj\">So, about Hamas</h2>,\n",
       " <h3 class=\"be b he z uc vl ue uf vm uh uj gi\">Last Thursday, Israel’s former ambassador to Washington Itamar Rabinovitch told a Council on Foreign Relations audience that he judged the…</h3>]"
      ]
     },
     "execution_count": 23,
     "metadata": {},
     "output_type": "execute_result"
    }
   ],
   "source": [
    "# collecting all the h1 tags\n",
    "h_tags = soup.find_all(['h1', 'h2', 'h3', 'h4', 'h5', 'h6'])\n",
    "h_tags"
   ]
  },
  {
   "cell_type": "code",
   "execution_count": 31,
   "id": "5cef86cc",
   "metadata": {},
   "outputs": [
    {
     "name": "stdout",
     "output_type": "stream",
     "text": [
      "0 : A personal, non-partisan perspective on the Israel-Hamas war\n",
      "1 : To understand this war, we must understand the thousand-year history that led us here\n",
      "2 : Written by Isaac Saul\n",
      "3 : Recommended from Medium\n",
      "4 : Who Can Claim Palestine?\n",
      "5 : One of the key questions in the conflict between Israel and Palestine is this: Who can legitimately claim the land? The underlying question…\n",
      "6 : Kanye’s wife: a (naked) handmaid\n",
      "7 : Why isn’t anyone intervening in what seems to be an abusive relationship? This is why #MeToo fizzled.\n",
      "8 : Lists\n",
      "9 : Tech & Tools\n",
      "10 : Staff Picks\n",
      "11 : Modern Marketing\n",
      "12 : Best of The Writing Cooperative\n",
      "13 : The ChatGPT Hype Is Over — Now Watch How Google Will Kill ChatGPT.\n",
      "14 : It never happens instantly. The business game is longer than you know.\n",
      "15 : The Secrets of Retirement No One Tells You\n",
      "16 : Maybe my pain can become your gain\n",
      "17 : 10 visuals that will teach you more than a 300-page self-help book\n",
      "18 : visuals on mindset\n",
      "19 : So, about Hamas\n",
      "20 : Last Thursday, Israel’s former ambassador to Washington Itamar Rabinovitch told a Council on Foreign Relations audience that he judged the…\n"
     ]
    }
   ],
   "source": [
    "# printing the text inside the h1 tags\n",
    "for i in range(len(h_tags)):\n",
    "    print(i, \":\", h_tags[i].text)"
   ]
  },
  {
   "cell_type": "markdown",
   "id": "e81b4c9b",
   "metadata": {},
   "source": [
    "`<p> tags`"
   ]
  },
  {
   "cell_type": "code",
   "execution_count": 32,
   "id": "aa40a02e",
   "metadata": {},
   "outputs": [
    {
     "data": {
      "text/plain": [
       "[<p class=\"be b he hf bj\"><a class=\"af ag ah ai aj ak al am an ao ap aq ar hg\" data-testid=\"authorName\" href=\"/@isaac_1884?source=post_page-----15ed50e63da6--------------------------------\" rel=\"noopener follow\">Isaac Saul</a></p>,\n",
       " <p class=\"be b he hf gi\"><span><a class=\"hj hk ah ai aj ak al am an ao ap aq ar hl hm hn\" href=\"/m/signin?actionUrl=https%3A%2F%2Fmedium.com%2F_%2Fsubscribe%2Fuser%2F22ceabaa20f6&amp;operation=register&amp;redirect=https%3A%2F%2Fmedium.com%2F%40isaac_1884%2Fthe-attacks-on-israel-and-the-response-15ed50e63da6&amp;user=Isaac+Saul&amp;userId=22ceabaa20f6&amp;source=post_page-22ceabaa20f6----15ed50e63da6---------------------post_header-----------\" rel=\"noopener follow\">Follow</a></span></p>,\n",
       " <p class=\"be b jy z gi\"><span class=\"ji\">--</span></p>,\n",
       " <p class=\"be b jy z gi\"><span class=\"pw-responses-count jz ka\">458</span></p>,\n",
       " <p class=\"be b bf z gi\">Listen</p>,\n",
       " <p class=\"be b bf z gi\">Share</p>,\n",
       " <p class=\"pw-post-body-paragraph me mf ev mg b ft mh mi mj fw mk ml mm mn mo mp mq mr ms mt mu mv mw mx my mz eo bj\" id=\"4327\"><em class=\"na\">Isaac Saul is the executive editor of Tangle, which offers non-partisan politics coverage. </em><a class=\"af nb\" href=\"https://www.readtangle.com/?ref=medium\" rel=\"noopener ugc nofollow\" target=\"_blank\"><em class=\"na\">Subscriptions are free</em></a><em class=\"na\">.</em></p>,\n",
       " <p class=\"pw-post-body-paragraph me mf ev mg b ft mh mi mj fw mk ml mm mn mo mp mq mr ms mt mu mv mw mx my mz eo bj\" id=\"ee9e\">People ask me all the time if I am “pro-Israel” because I am a Jew who has lived in Israel, and my answer is that being “pro-Israel” or being “pro-Palestine” or being a “Zionist” does not properly capture the nuance of thought most people do or should have about this issue. It certainly doesn’t capture mine.</p>,\n",
       " <p class=\"pw-post-body-paragraph me mf ev mg b ft mh mi mj fw mk ml mm mn mo mp mq mr ms mt mu mv mw mx my mz eo bj\" id=\"d0e0\">Obviously, the Israel-Palestine issue is far too complex to capture completely in a single essay. It is also too complex to fit into a “right-versus-left” paradigm, which is something I do with topics I cover in <a class=\"af nb\" href=\"http://www.readtangle.com/?ref=medium\" rel=\"noopener ugc nofollow\" target=\"_blank\">Tangle</a>, where I analyze American politics every day. It’s a famously fraught issue, and it’s hard to know where to start.</p>,\n",
       " <p class=\"pw-post-body-paragraph me mf ev mg b ft mh mi mj fw mk ml mm mn mo mp mq mr ms mt mu mv mw mx my mz eo bj\" id=\"1743\">But I know that I have a lot to say.</p>,\n",
       " <p class=\"pw-post-body-paragraph me mf ev mg b ft mh mi mj fw mk ml mm mn mo mp mq mr ms mt mu mv mw mx my mz eo bj\" id=\"5318\">I’ve spent the last 72 hours writing, texting, and talking to Israelis, Jews, Muslims, and Palestinians. Much of my reaction is going to piss off people on “both sides,” but I am exhausted and hurting and I do not think there is any way to discuss this situation without being radically honest about my views. So I’m going to try to say what I believe to be true the best I can.</p>,\n",
       " <p class=\"pw-post-body-paragraph me mf ev mg b ft mh mi mj fw mk ml mm mn mo mp mq mr ms mt mu mv mw mx my mz eo bj\" id=\"d86b\">Let me start with this: <em class=\"na\">It could have been me.</em></p>,\n",
       " <p class=\"pw-post-body-paragraph me mf ev mg b ft mh mi mj fw mk ml mm mn mo mp mq mr ms mt mu mv mw mx my mz eo bj\" id=\"0ed6\">That’s a hard thought to shake when watching the videos out of Israel — the concert goers fleeing across an empty expanse, the hostages being paraded through the streets, the people shot in the head at bus stops or in their cars. I went to those parties in the desert, I rubbed shoulders with Israelis and Arabs and Jews and Muslims, I could have easily accepted an invitation to some concert near Sderot and gone without a care, only to be indiscriminately slaughtered. Or, perhaps worse, taken hostage and tortured.</p>,\n",
       " <p class=\"pw-post-body-paragraph me mf ev mg b ft mh mi mj fw mk ml mm mn mo mp mq mr ms mt mu mv mw mx my mz eo bj\" id=\"6cfa\">I don’t believe Hamas is killing Israelis to liberate themselves, nor do I believe they are doing it to make peace. They’re doing this because they represent the devil on the shoulder of every oppressed Palestinian who has lost someone in this conflict. They’re doing it because they want vengeance. They are evening the score, and acting on the worst of our human impulses, to respond to blood with blood — an inclination that is easy to give in to after what their people have endured. It should not be hard to understand their logic — it is only hard to accept that humans are capable of being driven to this. Not defending Hamas is a very low bar to clear. Please clear it.</p>,\n",
       " <p class=\"pw-post-body-paragraph me mf ev mg b ft mh mi mj fw mk ml mm mn mo mp mq mr ms mt mu mv mw mx my mz eo bj\" id=\"921d\">It’s not possible to recap the entire 5,000 year history of people fighting over this strip of land in one essay. There are <a class=\"af nb\" href=\"https://www.youtube.com/watch?v=wv8F4NLr4E0\" rel=\"noopener ugc nofollow\" target=\"_blank\">plenty</a> of easily accessible <a class=\"af nb\" href=\"https://en.wikipedia.org/wiki/History_of_Palestine\" rel=\"noopener ugc nofollow\" target=\"_blank\">places</a> you can <a class=\"af nb\" href=\"https://theconversation.com/the-history-of-israel-and-palestine-alternative-names-competing-claims-163156\" rel=\"noopener ugc nofollow\" target=\"_blank\">learn about it</a> if you want to (and, by the way, many of you should — far too many people speak on this issue with an obscene amount of ignorance, loads of arrogance, and a narrow historical lens focused on the last few decades). But I’ll briefly highlight a few things that are important to me.</p>,\n",
       " <p class=\"pw-post-body-paragraph me mf ev mg b ft mh mi mj fw mk ml mm mn mo mp mq mr ms mt mu mv mw mx my mz eo bj\" id=\"0e28\">In my opinion, the Jewish people have a legitimate historical claim to the land of Israel. Jews had already been expelled and returned and expelled again a half dozen times before the rise of the Muslim and Arab rule of the Ottoman Empire. Of course it’s messy because we Jews and Arabs and Muslims are all cousins and descendants of the same Canaanites. But Arabs won the land centuries ago the same way Israel and Jews won it in the 20th century: Through conflict and war. The British defeated the Ottoman Empire and then came <a class=\"af nb\" href=\"https://en.wikipedia.org/wiki/Balfour_Declaration\" rel=\"noopener ugc nofollow\" target=\"_blank\">the Balfour Declaration</a>, which amounted to the British granting the area to the Jewish people, a promise they’d later try to renege on — all before the wars that have defined the region since 1948.</p>,\n",
       " <p class=\"pw-post-body-paragraph me mf ev mg b ft mh mi mj fw mk ml mm mn mo mp mq mr ms mt mu mv mw mx my mz eo bj\" id=\"0471\">That historical moment in the late 1940s was unique. After World War II, with many Arab and Muslim states already in existence, and after six million Jews were slaughtered, the global community felt it was important to grant the Jewish people a homeland. In a more logical or just world that homeland would have been in Europe as a kind of reparation for what the Nazis and others before them had done to the Jews, or perhaps in the Americas — <a class=\"af nb\" href=\"https://alaskapublic.org/2017/09/05/new-exhibit-tells-little-known-story-of-a-plan-to-settle-jewish-refugees-in-alaska-during-wwii/\" rel=\"noopener ugc nofollow\" target=\"_blank\">like Alaska</a> — or somewhere else. But the Jews wanted Israel, the British had taken to the Zionist movement, the British had conquered the Ottoman Empire which handed them control of the land, and America and Europe didn’t want the Jews. As a result, we got Israel.</p>,\n",
       " <p class=\"pw-post-body-paragraph me mf ev mg b ft mh mi mj fw mk ml mm mn mo mp mq mr ms mt mu mv mw mx my mz eo bj\" id=\"dcaa\">The Arab states had already rejected a partitioned Israel repeatedly before World War II and rejected it again after the Holocaust and the end of the war. They did not want to give up even a little bit of their land to a bunch of Jewish interlopers who were granted it all of a sudden by British interlopers who had arrived a hundred years prior. <a class=\"af nb\" href=\"https://mepc.org/commentary/original-no-why-arabs-rejected-zionism-and-why-it-matters\" rel=\"noopener ugc nofollow\" target=\"_blank\">Who could blame them?</a> It had been centuries since Jews lived there in large numbers, and now they wanted to return in waves as secularized Europeans. Many of us would probably react the same way. So, just as humans have done forever, they fought. The many existing Arab states turned against the burgeoning new Jewish state. One side won and one side lost. This is the brutal and broken and violent world we live in, but it is what created the global world order we have now.</p>,\n",
       " <p class=\"pw-post-body-paragraph me mf ev mg b ft mh mi mj fw mk ml mm mn mo mp mq mr ms mt mu mv mw mx my mz eo bj\" id=\"71c1\">Are Israelis and British people “colonizers” because of this 20th century history? Sure. But that view flattens thousands of years of history and conflict, and the context of World War I and World War II. I don’t view Israelis and Brits as colonizers any more than the Assyrians or the Babylonians or the Romans or the Mongols or the Egyptians or the Ottomans who all battled over the same strip of land from as early as 800 years before Jesus’s time until now. The Jews who founded Israel just happened to have won the last big battle for it.</p>,\n",
       " <p class=\"pw-post-body-paragraph me mf ev mg b ft mh mi mj fw mk ml mm mn mo mp mq mr ms mt mu mv mw mx my mz eo bj\" id=\"584d\">You can’t speak about this issue in a vacuum. You can’t pretend that it wasn’t just 60 years ago when Israel was surrounded on all sides by Arab states who wanted to wipe them off the face of the planet. Despite <a class=\"af nb\" href=\"https://www.chathamhouse.org/2023/03/abraham-accords-and-israel-uae-normalization\" rel=\"noopener ugc nofollow\" target=\"_blank\">the balance of power shifting this century</a>, that threat is <a class=\"af nb\" href=\"https://www.theatlantic.com/ideas/archive/2022/07/joe-biden-middle-east-israel-iran/670530/\" rel=\"noopener ugc nofollow\" target=\"_blank\">still a reality</a>. And you can’t talk about that without remembering the only reason the Jews were in Israel in the first place was that they’d spent the previous centuries fleeing a bunch of Europeans who <em class=\"na\">also </em>wanted to wipe them off the face of the planet. And <em class=\"na\">then </em>Hitler showed up.</p>,\n",
       " <p class=\"pw-post-body-paragraph me mf ev mg b ft mh mi mj fw mk ml mm mn mo mp mq mr ms mt mu mv mw mx my mz eo bj\" id=\"5b56\">American partisans have a narrow view of this history, and an Americentric lens that is infuriating to witness. As Lee Fang <a class=\"af nb\" href=\"https://twitter.com/lhfang/status/1710771055823106464\" rel=\"noopener ugc nofollow\" target=\"_blank\">perfectly put it</a>, “Hamas would absolutely execute the ACAB lefties cheering on horrific violence against Israelis if they lived in Gaza &amp; U.S. right-wingers blindly cheering on Israeli subjugation of Palestinians would rebel twice as violently if Americans were subjected to similar occupation.”</p>,\n",
       " <p class=\"pw-post-body-paragraph me mf ev mg b ft mh mi mj fw mk ml mm mn mo mp mq mr ms mt mu mv mw mx my mz eo bj\" id=\"7325\">And yet, many Americans only view modern Israel as the “powerful” one in this dynamic. Which is true — they obviously are. It isn’t a fair fight and it hasn’t been for decades because Israel’s government is rich and resourceful, has the backing of the United States and most of Europe, and has an incredibly powerful military. At the same time, Israeli leadership has made <a class=\"af nb\" href=\"https://www.history.com/news/golda-meir-israel-prime-minister-iron-lady-yom-kippur-war\" rel=\"noopener ugc nofollow\" target=\"_blank\">technological and military advancements</a> that have further tipped those scales — all while the Israeli government has helped create a resource-thin open air prison of two million Arabs in Gaza.</p>,\n",
       " <p class=\"pw-post-body-paragraph me mf ev mg b ft mh mi mj fw mk ml mm mn mo mp mq mr ms mt mu mv mw mx my mz eo bj\" id=\"21a0\">Conversely, Palestinians are devoid of any real unified leadership, and the Arab world is now <a class=\"af nb\" href=\"https://www.brookings.edu/events/palestine-and-the-arab-world-a-relationship-in-crisis/\" rel=\"noopener ugc nofollow\" target=\"_blank\">divided on the issue of Palestine</a>. Israel is unwilling to give the people in Gaza and the West Bank more than an inch of freedom to live. These are largely the refugees and descendents of the refugees of the 1948 and 1967 wars that Israel won. And you can’t keep two million people in the condition that those in the Gaza strip live in and not expect events like this.</p>,\n",
       " <p class=\"pw-post-body-paragraph me mf ev mg b ft mh mi mj fw mk ml mm mn mo mp mq mr ms mt mu mv mw mx my mz eo bj\" id=\"b34d\"><em class=\"na\">I’m sorry to say that while the blood on the ground is fresh.</em> The Israelis who were killed in this attack largely have nothing to do with those conditions other than being born at a time when Israel and Jews have the upper hand in this conflict. Some of the victims weren’t even Israeli — they were just tourists. This is why we describe them as “innocent” and why Hamas has only reaffirmed that they are a brutal terror organization with this attack — an organization that I hope is quickly toppled, for the sake of both the Palestinian people and the Israelis. But as someone with a deep love for Israel, with friends in danger and people I know still missing, it breaks my heart to say it but I’m saying it again because it remains perhaps the most salient point of context in a tangled mess full of centuries of context:</p>,\n",
       " <p class=\"pw-post-body-paragraph me mf ev mg b ft mh mi mj fw mk ml mm mn mo mp mq mr ms mt mu mv mw mx my mz eo bj\" id=\"c96c\"><em class=\"na\">You cannot keep two million people living in the conditions people in Gaza are living in and expect peace.</em></p>,\n",
       " <p class=\"pw-post-body-paragraph me mf ev mg b ft mh mi mj fw mk ml mm mn mo mp mq mr ms mt mu mv mw mx my mz eo bj\" id=\"6f07\">You can’t. And you shouldn’t. Their environment is antithetical to the human condition. Violent rebellion is guaranteed. Guaranteed. As sure as the sun rising.</p>,\n",
       " <p class=\"pw-post-body-paragraph me mf ev mg b ft mh mi mj fw mk ml mm mn mo mp mq mr ms mt mu mv mw mx my mz eo bj\" id=\"f10c\">And the cycle of violence seems locked in to self-perpetuate, because both sides see a score to settle:</p>,\n",
       " <p class=\"pw-post-body-paragraph me mf ev mg b ft mh mi mj fw mk ml mm mn mo mp mq mr ms mt mu mv mw mx my mz eo bj\" id=\"7fb4\">1) Israel has already responded with a vengeance, and they will continue to. Their desire for violence is not unlike Hamas’s — it’s just as much about blood for blood as any legitimate security measure. Israel will “have every right to respond with force.” Toppling Hamas — a group, by the way, <a class=\"af nb\" href=\"https://theintercept.com/2018/02/19/hamas-israel-palestine-conflict/\" rel=\"noopener ugc nofollow\" target=\"_blank\">Israel erred in supporting</a> — will now be the objective, and civilian death will be seen as necessary collateral damage. But Israel will also do a bunch of things they <em class=\"na\">don’t</em> have a right to. They will flatten apartment buildings and<a class=\"af nb\" href=\"https://www.hrw.org/news/2023/10/09/israel/palestine-devastating-civilian-toll-parties-flout-legal-obligations\" rel=\"noopener ugc nofollow\" target=\"_blank\"> kill civilians and children</a> and many in the global community will probably cheer them on while they do it. They have already <a class=\"af nb\" href=\"https://twitter.com/mahagaza/status/1711322657545765318?s=43\" rel=\"noopener ugc nofollow\" target=\"_blank\">stopped</a> the flow of water, electricity, and food to two million people, and killed dozens of civilians in their retaliatory bombings. We should never accept this, never lose sight that this horror is being inflicted on human beings. As the group B’Tselem said, “There is no justification for such crimes, whether they are committed as part of a struggle for freedom from oppression or cited as part of a war against terror.” I mourn for the <a class=\"af nb\" href=\"https://twitter.com/intifada/status/1711459166059934085\" rel=\"noopener ugc nofollow\" target=\"_blank\">innocents of Palestine</a> just as I do for the innocents in Israel. As of late, <a class=\"af nb\" href=\"https://twitter.com/max_fisher/status/1711374808636690901?s=43&amp;t=tK8iyGGZXXEqgWmK_bryIw\" rel=\"noopener ugc nofollow\" target=\"_blank\">many, many more have died on their side</a> than Israel’s. And many more Palestinians are likely to die in this spate of violence, too.</p>,\n",
       " <p class=\"pw-post-body-paragraph me mf ev mg b ft mh mi mj fw mk ml mm mn mo mp mq mr ms mt mu mv mw mx my mz eo bj\" id=\"fa97\">Unfortunately, most people in the West only pay attention to this story when Hamas or a Palestinian in Gaza or the West Bank commits an act of violence. Palestinian citizens die regularly at the hands of the Israeli military and their plight goes largely unnoticed until they respond with violence of their own. Israel had already killed an estimated 250 Palestinians, <a class=\"af nb\" href=\"https://imeu.org/article/5-things-you-need-to-know-about-the-latest-violence-in-palestine-israel\" rel=\"noopener ugc nofollow\" target=\"_blank\">including 47 children</a>, this year alone. And that is just in the West Bank.</p>,\n",
       " <p class=\"pw-post-body-paragraph me mf ev mg b ft mh mi mj fw mk ml mm mn mo mp mq mr ms mt mu mv mw mx my mz eo bj\" id=\"f54d\">2) Every single time Israel kills someone in the name of self-defense they create a handful of new radicalized extremists who will feel justified in wanting to take an Israeli life in retribution sometime in the future. <a class=\"af nb\" href=\"https://www.nbcnews.com/news/gaza-strip-controls-s-know-rcna119405\" rel=\"noopener ugc nofollow\" target=\"_blank\">Half of Gaza’s two million people</a> are under the age of 19 — they know little besides Hamas rule (since 2006), Israeli occupation, blockades, and rockets falling from the sky. The suffering of these innocent children born into this reality is incomprehensible to me. They will suffer more now because of Hamas’s actions and Israel’s response, all through no fault of their own.</p>,\n",
       " <p class=\"pw-post-body-paragraph me mf ev mg b ft mh mi mj fw mk ml mm mn mo mp mq mr ms mt mu mv mw mx my mz eo bj\" id=\"62a0\">There is no way out of this pattern until one side exercises restraint or leaders on both sides find a new solution. Israelis will tell you that if Palestinians put their guns down then the war would end, but if Israel put their guns down they’d be wiped off the planet. I don’t have a crystal ball and can’t tell you what is true. But what I <em class=\"na\">am</em> certain of is that every time Israel kills more innocents they engender more rage and hatred and recruit more Palestinians and Arabs to the cause against them. There is no disputing this.</p>,\n",
       " <p class=\"pw-post-body-paragraph me mf ev mg b ft mh mi mj fw mk ml mm mn mo mp mq mr ms mt mu mv mw mx my mz eo bj\" id=\"6f71\">So, why did this happen now?</p>,\n",
       " <p class=\"pw-post-body-paragraph me mf ev mg b ft mh mi mj fw mk ml mm mn mo mp mq mr ms mt mu mv mw mx my mz eo bj\" id=\"3d93\">I’m not sure how to answer that question except to say it was bound to happen eventually. It was a massive policy and intelligence failure and Netanyahu should pay the price politically — he is a failed leader. Iran <a class=\"af nb\" href=\"https://www.wsj.com/world/middle-east/iran-israel-hamas-strike-planning-bbe07b25\" rel=\"noopener ugc nofollow\" target=\"_blank\">may have helped organize the attack</a> and the money freed up by the Biden administration’s prisoner swap probably didn’t help the situation, either. Israel’s <a class=\"af nb\" href=\"https://www.readtangle.com/israel-protests-judicial-reform-netanyahu/\" rel=\"noopener ugc nofollow\" target=\"_blank\">increasingly extremist government</a> and settlers <a class=\"af nb\" href=\"https://twitter.com/realstewpeters/status/1710829348503093696\" rel=\"noopener ugc nofollow\" target=\"_blank\">provoking Palestinians</a> certainly <a class=\"af nb\" href=\"https://twitter.com/FareedZakaria/status/1711073549593493988\" rel=\"noopener ugc nofollow\" target=\"_blank\">didn’t help</a>. Nor has <a class=\"af nb\" href=\"https://forward.com/culture/563479/hamas-al-aqsa-flood-israel-gaza-attack-2023/\" rel=\"noopener ugc nofollow\" target=\"_blank\">going to the Al-Aqsa mosque</a> and desecrating it. Nor do blockades and bombings and indiscriminate subjugation of a whole people. Nor does refusing to talk to <a class=\"af nb\" href=\"https://twitter.com/FareedZakaria/status/1711073549593493988\" rel=\"noopener ugc nofollow\" target=\"_blank\">non-terrorist leaders</a> in Palestine. Nor does illegally continuing to <em class=\"na\">expand </em>and steal what is left of Palestinian land, as many Jews and Israelis have been doing in the 21st century <a class=\"af nb\" href=\"https://press.un.org/en/2023/sc15424.doc.htm\" rel=\"noopener ugc nofollow\" target=\"_blank\">despite cries from the global community</a> to stop. A violent response was predictable — in fact, plenty of people <a class=\"af nb\" href=\"https://www.ft.com/content/71447fef-7d65-4a00-86bd-046505c657fb\" rel=\"noopener ugc nofollow\" target=\"_blank\">did predict it</a>.</p>,\n",
       " <p class=\"pw-post-body-paragraph me mf ev mg b ft mh mi mj fw mk ml mm mn mo mp mq mr ms mt mu mv mw mx my mz eo bj\" id=\"f6ad\">Israel is forever stuffing these people into tinier and tinier boxes with fewer and fewer resources. But if you want to blame Israeli leaders for continuing to expand and settle land that does not belong to them (as I do), then you should also spare some blame for Palestinian leaders for repeatedly not accepting a partitioned Israel during the 20th century that could have led to peace (as I do).</p>,\n",
       " <p class=\"pw-post-body-paragraph me mf ev mg b ft mh mi mj fw mk ml mm mn mo mp mq mr ms mt mu mv mw mx my mz eo bj\" id=\"b183\">Please also remember this: Hamas is still an extremist group. The Palestinian people do not have a government or leaders who legitimately represent their interests, and it sure as hell isn’t Hamas. Will some Palestinians cheer and clap at the dead, or spit on them as they are paraded through Gaza? Yes they will. <a class=\"af nb\" href=\"https://www.timesofisrael.com/footage-of-hamas-assault-on-civilians-shows-likely-war-crimes-experts-say/\" rel=\"noopener ugc nofollow\" target=\"_blank\">And they have</a>. Many will also mourn because they loathe Hamas and know this will only make things worse. This is no different than how some Americans cheer at the dead in every single war we’ve ever fought. It’s no different than the Israelis <a class=\"af nb\" href=\"https://www.nytimes.com/2014/07/15/world/middleeast/israelis-watch-bombs-drop-on-gaza-from-front-row-seats.html\" rel=\"noopener ugc nofollow\" target=\"_blank\">who set up lawn chairs to watch their government bomb Palestine</a> and cheer them on, too. This doesn’t mean Palestinians or Israelis or Americans are evil — it means some of them are giving in to their violent impulses, and their zealous feelings of righteous vengeance.</p>,\n",
       " <p class=\"pw-post-body-paragraph me mf ev mg b ft mh mi mj fw mk ml mm mn mo mp mq mr ms mt mu mv mw mx my mz eo bj\" id=\"d652\">Solutions, you ask? I can’t say I have any. If you came here for that, I’m sorry. The two-state solution looks dead to me. A <a class=\"af nb\" href=\"https://www.noahpinion.blog/p/a-three-state-solution-is-the-only\" rel=\"noopener ugc nofollow\" target=\"_blank\">three-state solution makes some sense</a> but feels out of the view of all the people who matter and could make it happen. I wish a one-state solution felt realistic — a world of Israelis and Arabs and Muslims and Jews living side by side with equal rights, fully integrated and defused of their hate, is a version of Israel that I would adore. But it seems less and less realistic with every new act of violence.</p>,\n",
       " <p class=\"pw-post-body-paragraph me mf ev mg b ft mh mi mj fw mk ml mm mn mo mp mq mr ms mt mu mv mw mx my mz eo bj\" id=\"4ada\">Am I pro-Israel or pro-Palestine? I have no idea.</p>,\n",
       " <p class=\"pw-post-body-paragraph me mf ev mg b ft mh mi mj fw mk ml mm mn mo mp mq mr ms mt mu mv mw mx my mz eo bj\" id=\"8dcc\">I’m pro-not-killing-civilians.</p>,\n",
       " <p class=\"pw-post-body-paragraph me mf ev mg b ft mh mi mj fw mk ml mm mn mo mp mq mr ms mt mu mv mw mx my mz eo bj\" id=\"7ee5\">I’m pro-not-trapping-millions-of-people-in-open-air-prisons.</p>,\n",
       " <p class=\"pw-post-body-paragraph me mf ev mg b ft mh mi mj fw mk ml mm mn mo mp mq mr ms mt mu mv mw mx my mz eo bj\" id=\"3969\">I’m pro-not-shooting-grandmas-in-the-back-of-the-head.</p>,\n",
       " <p class=\"pw-post-body-paragraph me mf ev mg b ft mh mi mj fw mk ml mm mn mo mp mq mr ms mt mu mv mw mx my mz eo bj\" id=\"7580\">I’m pro-not-flattening-apartment-complexes.</p>,\n",
       " <p class=\"pw-post-body-paragraph me mf ev mg b ft mh mi mj fw mk ml mm mn mo mp mq mr ms mt mu mv mw mx my mz eo bj\" id=\"61f8\">I’m pro-not-raping-women-and-taking-hostages.</p>,\n",
       " <p class=\"pw-post-body-paragraph me mf ev mg b ft mh mi mj fw mk ml mm mn mo mp mq mr ms mt mu mv mw mx my mz eo bj\" id=\"d4e1\">I’m pro-not-unjustly-imprisoning-people-without-due-process.</p>,\n",
       " <p class=\"pw-post-body-paragraph me mf ev mg b ft mh mi mj fw mk ml mm mn mo mp mq mr ms mt mu mv mw mx my mz eo bj\" id=\"9ffa\">I’m pro-freedom and pro-peace and pro- all the things we never see in this conflict anymore.</p>,\n",
       " <p class=\"pw-post-body-paragraph me mf ev mg b ft mh mi mj fw mk ml mm mn mo mp mq mr ms mt mu mv mw mx my mz eo bj\" id=\"3f8e\">Whatever this is, I want none of it.</p>,\n",
       " <p class=\"pw-post-body-paragraph me mf ev mg b ft mh mi mj fw mk ml mm mn mo mp mq mr ms mt mu mv mw mx my mz eo bj\" id=\"d4bf\"><em class=\"na\">This piece is lightly edited from </em><a class=\"af nb\" href=\"https://www.readtangle.com/?ref=medium\" rel=\"noopener ugc nofollow\" target=\"_blank\"><em class=\"na\">Tangle News</em></a><em class=\"na\">, which offers free non-partisan politics coverage. The original piece was </em><a class=\"af nb\" href=\"https://www.readtangle.com/israel-attacks-hamas-palestine-war/?ref=medium\" rel=\"noopener ugc nofollow\" target=\"_blank\"><em class=\"na\">published on October 10, 2023</em></a><em class=\"na\">.</em></p>,\n",
       " <p class=\"be b jy z gi\"><span class=\"ji\">--</span></p>,\n",
       " <p class=\"be b jy z gi\"><span class=\"ji\">--</span></p>,\n",
       " <p class=\"be b bf z gi\"><span class=\"pw-responses-count jz ka\">458</span></p>,\n",
       " <p class=\"be b bf z bj\">Going to war with partisan news — Executive Editor, Tangle News — <a class=\"af ag ah ai aj ak al am an ao ap aq ar nb ep\" href=\"http://www.readtangle.com\" rel=\"noopener ugc nofollow\">www.readtangle.com</a></p>,\n",
       " <p class=\"be b jy z uc ud ue uf ug uh ui uj bj\">Tomas Pueyo</p>,\n",
       " <p class=\"be b jy z gi\"><span class=\"ji\">--</span></p>,\n",
       " <p class=\"be b jy z gi\"><span class=\"pw-responses-count jz ka\">106</span></p>,\n",
       " <p class=\"be b jy z uc ud ue uf ug uh ui uj bj\">𝓦., 𝓟𝓱𝓓</p>,\n",
       " <p class=\"be b jy z gi\"><span class=\"ji\">--</span></p>,\n",
       " <p class=\"be b jy z gi\"><span class=\"pw-responses-count jz ka\">130</span></p>,\n",
       " <p class=\"be b jy z uc ud ue uf ug uh ui uj bj\">AL Anany</p>,\n",
       " <p class=\"be b jy z gi\"><span class=\"ji\">--</span></p>,\n",
       " <p class=\"be b jy z gi\"><span class=\"pw-responses-count jz ka\">485</span></p>,\n",
       " <p class=\"be b jy z uc ud ue uf ug uh ui uj bj\">Kim Kelly Stamp</p>,\n",
       " <p class=\"be b jy z gi\">in</p>,\n",
       " <p class=\"be b jy z uc ud ue uf ug uh ui uj bj\">The Narrative Arc</p>,\n",
       " <p class=\"be b jy z gi\"><span class=\"ji\">--</span></p>,\n",
       " <p class=\"be b jy z gi\"><span class=\"pw-responses-count jz ka\">247</span></p>,\n",
       " <p class=\"be b jy z uc ud ue uf ug uh ui uj bj\">Harsh Darji</p>,\n",
       " <p class=\"be b jy z gi\"><span class=\"ji\">--</span></p>,\n",
       " <p class=\"be b jy z gi\"><span class=\"pw-responses-count jz ka\">260</span></p>,\n",
       " <p class=\"be b jy z uc ud ue uf ug uh ui uj bj\">Helena Cobban</p>,\n",
       " <p class=\"be b jy z gi\"><span class=\"ji\">--</span></p>,\n",
       " <p class=\"be b jy z gi\"><span class=\"pw-responses-count jz ka\">65</span></p>,\n",
       " <p class=\"be b jy z gi\">Help</p>,\n",
       " <p class=\"be b jy z gi\">Status</p>,\n",
       " <p class=\"be b jy z gi\">About</p>,\n",
       " <p class=\"be b jy z gi\">Careers</p>,\n",
       " <p class=\"be b jy z gi\">Blog</p>,\n",
       " <p class=\"be b jy z gi\">Privacy</p>,\n",
       " <p class=\"be b jy z gi\">Terms</p>,\n",
       " <p class=\"be b jy z gi\">Text to speech</p>,\n",
       " <p class=\"be b jy z gi\">Teams</p>]"
      ]
     },
     "execution_count": 32,
     "metadata": {},
     "output_type": "execute_result"
    }
   ],
   "source": [
    "# collecting all the h1 tags\n",
    "p_tags = soup.find_all('p')\n",
    "p_tags"
   ]
  },
  {
   "cell_type": "code",
   "execution_count": 34,
   "id": "c1df9be0",
   "metadata": {},
   "outputs": [
    {
     "name": "stdout",
     "output_type": "stream",
     "text": [
      "0 : Isaac Saul\n",
      "1 : Follow\n",
      "2 : --\n",
      "3 : 458\n",
      "4 : Listen\n",
      "5 : Share\n",
      "6 : Isaac Saul is the executive editor of Tangle, which offers non-partisan politics coverage. Subscriptions are free.\n",
      "7 : People ask me all the time if I am “pro-Israel” because I am a Jew who has lived in Israel, and my answer is that being “pro-Israel” or being “pro-Palestine” or being a “Zionist” does not properly capture the nuance of thought most people do or should have about this issue. It certainly doesn’t capture mine.\n",
      "8 : Obviously, the Israel-Palestine issue is far too complex to capture completely in a single essay. It is also too complex to fit into a “right-versus-left” paradigm, which is something I do with topics I cover in Tangle, where I analyze American politics every day. It’s a famously fraught issue, and it’s hard to know where to start.\n",
      "9 : But I know that I have a lot to say.\n",
      "10 : I’ve spent the last 72 hours writing, texting, and talking to Israelis, Jews, Muslims, and Palestinians. Much of my reaction is going to piss off people on “both sides,” but I am exhausted and hurting and I do not think there is any way to discuss this situation without being radically honest about my views. So I’m going to try to say what I believe to be true the best I can.\n",
      "11 : Let me start with this: It could have been me.\n",
      "12 : That’s a hard thought to shake when watching the videos out of Israel — the concert goers fleeing across an empty expanse, the hostages being paraded through the streets, the people shot in the head at bus stops or in their cars. I went to those parties in the desert, I rubbed shoulders with Israelis and Arabs and Jews and Muslims, I could have easily accepted an invitation to some concert near Sderot and gone without a care, only to be indiscriminately slaughtered. Or, perhaps worse, taken hostage and tortured.\n",
      "13 : I don’t believe Hamas is killing Israelis to liberate themselves, nor do I believe they are doing it to make peace. They’re doing this because they represent the devil on the shoulder of every oppressed Palestinian who has lost someone in this conflict. They’re doing it because they want vengeance. They are evening the score, and acting on the worst of our human impulses, to respond to blood with blood — an inclination that is easy to give in to after what their people have endured. It should not be hard to understand their logic — it is only hard to accept that humans are capable of being driven to this. Not defending Hamas is a very low bar to clear. Please clear it.\n",
      "14 : It’s not possible to recap the entire 5,000 year history of people fighting over this strip of land in one essay. There are plenty of easily accessible places you can learn about it if you want to (and, by the way, many of you should — far too many people speak on this issue with an obscene amount of ignorance, loads of arrogance, and a narrow historical lens focused on the last few decades). But I’ll briefly highlight a few things that are important to me.\n",
      "15 : In my opinion, the Jewish people have a legitimate historical claim to the land of Israel. Jews had already been expelled and returned and expelled again a half dozen times before the rise of the Muslim and Arab rule of the Ottoman Empire. Of course it’s messy because we Jews and Arabs and Muslims are all cousins and descendants of the same Canaanites. But Arabs won the land centuries ago the same way Israel and Jews won it in the 20th century: Through conflict and war. The British defeated the Ottoman Empire and then came the Balfour Declaration, which amounted to the British granting the area to the Jewish people, a promise they’d later try to renege on — all before the wars that have defined the region since 1948.\n",
      "16 : That historical moment in the late 1940s was unique. After World War II, with many Arab and Muslim states already in existence, and after six million Jews were slaughtered, the global community felt it was important to grant the Jewish people a homeland. In a more logical or just world that homeland would have been in Europe as a kind of reparation for what the Nazis and others before them had done to the Jews, or perhaps in the Americas — like Alaska — or somewhere else. But the Jews wanted Israel, the British had taken to the Zionist movement, the British had conquered the Ottoman Empire which handed them control of the land, and America and Europe didn’t want the Jews. As a result, we got Israel.\n",
      "17 : The Arab states had already rejected a partitioned Israel repeatedly before World War II and rejected it again after the Holocaust and the end of the war. They did not want to give up even a little bit of their land to a bunch of Jewish interlopers who were granted it all of a sudden by British interlopers who had arrived a hundred years prior. Who could blame them? It had been centuries since Jews lived there in large numbers, and now they wanted to return in waves as secularized Europeans. Many of us would probably react the same way. So, just as humans have done forever, they fought. The many existing Arab states turned against the burgeoning new Jewish state. One side won and one side lost. This is the brutal and broken and violent world we live in, but it is what created the global world order we have now.\n",
      "18 : Are Israelis and British people “colonizers” because of this 20th century history? Sure. But that view flattens thousands of years of history and conflict, and the context of World War I and World War II. I don’t view Israelis and Brits as colonizers any more than the Assyrians or the Babylonians or the Romans or the Mongols or the Egyptians or the Ottomans who all battled over the same strip of land from as early as 800 years before Jesus’s time until now. The Jews who founded Israel just happened to have won the last big battle for it.\n",
      "19 : You can’t speak about this issue in a vacuum. You can’t pretend that it wasn’t just 60 years ago when Israel was surrounded on all sides by Arab states who wanted to wipe them off the face of the planet. Despite the balance of power shifting this century, that threat is still a reality. And you can’t talk about that without remembering the only reason the Jews were in Israel in the first place was that they’d spent the previous centuries fleeing a bunch of Europeans who also wanted to wipe them off the face of the planet. And then Hitler showed up.\n",
      "20 : American partisans have a narrow view of this history, and an Americentric lens that is infuriating to witness. As Lee Fang perfectly put it, “Hamas would absolutely execute the ACAB lefties cheering on horrific violence against Israelis if they lived in Gaza & U.S. right-wingers blindly cheering on Israeli subjugation of Palestinians would rebel twice as violently if Americans were subjected to similar occupation.”\n",
      "21 : And yet, many Americans only view modern Israel as the “powerful” one in this dynamic. Which is true — they obviously are. It isn’t a fair fight and it hasn’t been for decades because Israel’s government is rich and resourceful, has the backing of the United States and most of Europe, and has an incredibly powerful military. At the same time, Israeli leadership has made technological and military advancements that have further tipped those scales — all while the Israeli government has helped create a resource-thin open air prison of two million Arabs in Gaza.\n",
      "22 : Conversely, Palestinians are devoid of any real unified leadership, and the Arab world is now divided on the issue of Palestine. Israel is unwilling to give the people in Gaza and the West Bank more than an inch of freedom to live. These are largely the refugees and descendents of the refugees of the 1948 and 1967 wars that Israel won. And you can’t keep two million people in the condition that those in the Gaza strip live in and not expect events like this.\n",
      "23 : I’m sorry to say that while the blood on the ground is fresh. The Israelis who were killed in this attack largely have nothing to do with those conditions other than being born at a time when Israel and Jews have the upper hand in this conflict. Some of the victims weren’t even Israeli — they were just tourists. This is why we describe them as “innocent” and why Hamas has only reaffirmed that they are a brutal terror organization with this attack — an organization that I hope is quickly toppled, for the sake of both the Palestinian people and the Israelis. But as someone with a deep love for Israel, with friends in danger and people I know still missing, it breaks my heart to say it but I’m saying it again because it remains perhaps the most salient point of context in a tangled mess full of centuries of context:\n",
      "24 : You cannot keep two million people living in the conditions people in Gaza are living in and expect peace.\n",
      "25 : You can’t. And you shouldn’t. Their environment is antithetical to the human condition. Violent rebellion is guaranteed. Guaranteed. As sure as the sun rising.\n",
      "26 : And the cycle of violence seems locked in to self-perpetuate, because both sides see a score to settle:\n",
      "27 : 1) Israel has already responded with a vengeance, and they will continue to. Their desire for violence is not unlike Hamas’s — it’s just as much about blood for blood as any legitimate security measure. Israel will “have every right to respond with force.” Toppling Hamas — a group, by the way, Israel erred in supporting — will now be the objective, and civilian death will be seen as necessary collateral damage. But Israel will also do a bunch of things they don’t have a right to. They will flatten apartment buildings and kill civilians and children and many in the global community will probably cheer them on while they do it. They have already stopped the flow of water, electricity, and food to two million people, and killed dozens of civilians in their retaliatory bombings. We should never accept this, never lose sight that this horror is being inflicted on human beings. As the group B’Tselem said, “There is no justification for such crimes, whether they are committed as part of a struggle for freedom from oppression or cited as part of a war against terror.” I mourn for the innocents of Palestine just as I do for the innocents in Israel. As of late, many, many more have died on their side than Israel’s. And many more Palestinians are likely to die in this spate of violence, too.\n",
      "28 : Unfortunately, most people in the West only pay attention to this story when Hamas or a Palestinian in Gaza or the West Bank commits an act of violence. Palestinian citizens die regularly at the hands of the Israeli military and their plight goes largely unnoticed until they respond with violence of their own. Israel had already killed an estimated 250 Palestinians, including 47 children, this year alone. And that is just in the West Bank.\n",
      "29 : 2) Every single time Israel kills someone in the name of self-defense they create a handful of new radicalized extremists who will feel justified in wanting to take an Israeli life in retribution sometime in the future. Half of Gaza’s two million people are under the age of 19 — they know little besides Hamas rule (since 2006), Israeli occupation, blockades, and rockets falling from the sky. The suffering of these innocent children born into this reality is incomprehensible to me. They will suffer more now because of Hamas’s actions and Israel’s response, all through no fault of their own.\n",
      "30 : There is no way out of this pattern until one side exercises restraint or leaders on both sides find a new solution. Israelis will tell you that if Palestinians put their guns down then the war would end, but if Israel put their guns down they’d be wiped off the planet. I don’t have a crystal ball and can’t tell you what is true. But what I am certain of is that every time Israel kills more innocents they engender more rage and hatred and recruit more Palestinians and Arabs to the cause against them. There is no disputing this.\n",
      "31 : So, why did this happen now?\n",
      "32 : I’m not sure how to answer that question except to say it was bound to happen eventually. It was a massive policy and intelligence failure and Netanyahu should pay the price politically — he is a failed leader. Iran may have helped organize the attack and the money freed up by the Biden administration’s prisoner swap probably didn’t help the situation, either. Israel’s increasingly extremist government and settlers provoking Palestinians certainly didn’t help. Nor has going to the Al-Aqsa mosque and desecrating it. Nor do blockades and bombings and indiscriminate subjugation of a whole people. Nor does refusing to talk to non-terrorist leaders in Palestine. Nor does illegally continuing to expand and steal what is left of Palestinian land, as many Jews and Israelis have been doing in the 21st century despite cries from the global community to stop. A violent response was predictable — in fact, plenty of people did predict it.\n",
      "33 : Israel is forever stuffing these people into tinier and tinier boxes with fewer and fewer resources. But if you want to blame Israeli leaders for continuing to expand and settle land that does not belong to them (as I do), then you should also spare some blame for Palestinian leaders for repeatedly not accepting a partitioned Israel during the 20th century that could have led to peace (as I do).\n",
      "34 : Please also remember this: Hamas is still an extremist group. The Palestinian people do not have a government or leaders who legitimately represent their interests, and it sure as hell isn’t Hamas. Will some Palestinians cheer and clap at the dead, or spit on them as they are paraded through Gaza? Yes they will. And they have. Many will also mourn because they loathe Hamas and know this will only make things worse. This is no different than how some Americans cheer at the dead in every single war we’ve ever fought. It’s no different than the Israelis who set up lawn chairs to watch their government bomb Palestine and cheer them on, too. This doesn’t mean Palestinians or Israelis or Americans are evil — it means some of them are giving in to their violent impulses, and their zealous feelings of righteous vengeance.\n",
      "35 : Solutions, you ask? I can’t say I have any. If you came here for that, I’m sorry. The two-state solution looks dead to me. A three-state solution makes some sense but feels out of the view of all the people who matter and could make it happen. I wish a one-state solution felt realistic — a world of Israelis and Arabs and Muslims and Jews living side by side with equal rights, fully integrated and defused of their hate, is a version of Israel that I would adore. But it seems less and less realistic with every new act of violence.\n",
      "36 : Am I pro-Israel or pro-Palestine? I have no idea.\n",
      "37 : I’m pro-not-killing-civilians.\n",
      "38 : I’m pro-not-trapping-millions-of-people-in-open-air-prisons.\n",
      "39 : I’m pro-not-shooting-grandmas-in-the-back-of-the-head.\n",
      "40 : I’m pro-not-flattening-apartment-complexes.\n",
      "41 : I’m pro-not-raping-women-and-taking-hostages.\n",
      "42 : I’m pro-not-unjustly-imprisoning-people-without-due-process.\n",
      "43 : I’m pro-freedom and pro-peace and pro- all the things we never see in this conflict anymore.\n",
      "44 : Whatever this is, I want none of it.\n",
      "45 : This piece is lightly edited from Tangle News, which offers free non-partisan politics coverage. The original piece was published on October 10, 2023.\n",
      "46 : --\n",
      "47 : --\n",
      "48 : 458\n",
      "49 : Going to war with partisan news — Executive Editor, Tangle News — www.readtangle.com\n",
      "50 : Tomas Pueyo\n",
      "51 : --\n",
      "52 : 106\n",
      "53 : 𝓦., 𝓟𝓱𝓓\n",
      "54 : --\n",
      "55 : 130\n",
      "56 : AL Anany\n",
      "57 : --\n",
      "58 : 485\n",
      "59 : Kim Kelly Stamp\n",
      "60 : in\n",
      "61 : The Narrative Arc\n",
      "62 : --\n",
      "63 : 247\n",
      "64 : Harsh Darji\n",
      "65 : --\n",
      "66 : 260\n",
      "67 : Helena Cobban\n",
      "68 : --\n",
      "69 : 65\n",
      "70 : Help\n",
      "71 : Status\n",
      "72 : About\n",
      "73 : Careers\n",
      "74 : Blog\n",
      "75 : Privacy\n",
      "76 : Terms\n",
      "77 : Text to speech\n",
      "78 : Teams\n"
     ]
    }
   ],
   "source": [
    "# printing the text inside the h1 tags\n",
    "for i in range(len(p_tags)):\n",
    "    print(i, \":\", p_tags[i].text)"
   ]
  },
  {
   "cell_type": "code",
   "execution_count": null,
   "id": "f32bec53",
   "metadata": {},
   "outputs": [],
   "source": []
  },
  {
   "cell_type": "markdown",
   "id": "68fad602",
   "metadata": {},
   "source": [
    "<hr>"
   ]
  }
 ],
 "metadata": {
  "kernelspec": {
   "display_name": "Python 3 (ipykernel)",
   "language": "python",
   "name": "python3"
  },
  "language_info": {
   "codemirror_mode": {
    "name": "ipython",
    "version": 3
   },
   "file_extension": ".py",
   "mimetype": "text/x-python",
   "name": "python",
   "nbconvert_exporter": "python",
   "pygments_lexer": "ipython3",
   "version": "3.11.5"
  }
 },
 "nbformat": 4,
 "nbformat_minor": 5
}
