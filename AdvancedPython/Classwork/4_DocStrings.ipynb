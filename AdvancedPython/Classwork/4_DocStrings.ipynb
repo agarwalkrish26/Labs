{
 "cells": [
  {
   "cell_type": "markdown",
   "id": "37f80dfa",
   "metadata": {},
   "source": [
    "**1) Information on Libraries / functions**"
   ]
  },
  {
   "cell_type": "code",
   "execution_count": 6,
   "id": "7293a97a",
   "metadata": {
    "scrolled": true
   },
   "outputs": [
    {
     "name": "stdout",
     "output_type": "stream",
     "text": [
      "str(object='') -> str\n",
      "str(bytes_or_buffer[, encoding[, errors]]) -> str\n",
      "\n",
      "Create a new string object from the given object. If encoding or\n",
      "errors is specified, then the object must expose a data buffer\n",
      "that will be decoded using the given encoding and error handler.\n",
      "Otherwise, returns the result of object.__str__() (if defined)\n",
      "or repr(object).\n",
      "encoding defaults to sys.getdefaultencoding().\n",
      "errors defaults to 'strict'.\n"
     ]
    }
   ],
   "source": [
    "print(str.__doc__)"
   ]
  },
  {
   "cell_type": "markdown",
   "id": "57bf4b32",
   "metadata": {},
   "source": [
    "**2) Adding a comment to the already made function**"
   ]
  },
  {
   "cell_type": "code",
   "execution_count": 1,
   "id": "032f575b",
   "metadata": {},
   "outputs": [],
   "source": [
    "def say_hello(name):\n",
    "    print(\"Hello {name}, is it me that oyu are looking for?\")\n",
    "    \n",
    "say_hello.__doc__ = \"A simple function that says hello to the name\""
   ]
  },
  {
   "cell_type": "code",
   "execution_count": 2,
   "id": "c6ddb915",
   "metadata": {},
   "outputs": [
    {
     "name": "stdout",
     "output_type": "stream",
     "text": [
      "Help on function say_hello in module __main__:\n",
      "\n",
      "say_hello(name)\n",
      "    A simple function that says hello to the name\n",
      "\n"
     ]
    }
   ],
   "source": [
    "help(say_hello)"
   ]
  },
  {
   "cell_type": "markdown",
   "id": "0bd59643",
   "metadata": {},
   "source": [
    "**3) Printing the comments inside a function | Multiple Lines** "
   ]
  },
  {
   "cell_type": "code",
   "execution_count": 7,
   "id": "8273d1f6",
   "metadata": {},
   "outputs": [],
   "source": [
    "def say_hello(name):\n",
    "    \"\"\"\n",
    "    A function is a block of code which only runs when it is called.\n",
    "    You can pass data, known as parameters, into a function.\n",
    "    A function can return data as a result.\n",
    "    \"\"\"\n",
    "    print(\"Hello {name}, is it me that you are looking for?\")"
   ]
  },
  {
   "cell_type": "code",
   "execution_count": 13,
   "id": "33e22e88",
   "metadata": {},
   "outputs": [
    {
     "data": {
      "text/plain": [
       "8"
      ]
     },
     "execution_count": 13,
     "metadata": {},
     "output_type": "execute_result"
    }
   ],
   "source": [
    "power(2, 3)"
   ]
  },
  {
   "cell_type": "code",
   "execution_count": 8,
   "id": "e0074efe",
   "metadata": {},
   "outputs": [
    {
     "name": "stdout",
     "output_type": "stream",
     "text": [
      "Help on function say_hello in module __main__:\n",
      "\n",
      "say_hello(name)\n",
      "    A function is a block of code which only runs when it is called.\n",
      "    You can pass data, known as parameters, into a function.\n",
      "    A function can return data as a result.\n",
      "\n"
     ]
    }
   ],
   "source": [
    "help(say_hello)"
   ]
  },
  {
   "cell_type": "markdown",
   "id": "f78cc00e",
   "metadata": {},
   "source": [
    "**4) Printing the comments inside a function | Single Line** "
   ]
  },
  {
   "cell_type": "code",
   "execution_count": 9,
   "id": "310291c3",
   "metadata": {},
   "outputs": [],
   "source": [
    "def power(a, b):\n",
    "    '''This function returns the value of argument 1 to the power of argument 2'''  \n",
    "    return a**b"
   ]
  },
  {
   "cell_type": "code",
   "execution_count": 12,
   "id": "3e866c78",
   "metadata": {},
   "outputs": [
    {
     "name": "stdout",
     "output_type": "stream",
     "text": [
      "This function returns the value of argument 1 to the power of argument 2\n"
     ]
    }
   ],
   "source": [
    "print(power.__doc__)"
   ]
  },
  {
   "cell_type": "markdown",
   "id": "a8b40708",
   "metadata": {},
   "source": [
    "**5) Printing the comments inside a Class**"
   ]
  },
  {
   "cell_type": "code",
   "execution_count": 24,
   "id": "d233ecda",
   "metadata": {},
   "outputs": [],
   "source": [
    "class MyClass:\n",
    "    \"\"\"This is documentation for MyClass\"\"\"\n",
    "    \n",
    "    def __init__(self):\n",
    "        \"\"\"This is documentation for the __init__ of MyClass\"\"\""
   ]
  },
  {
   "cell_type": "code",
   "execution_count": 22,
   "id": "22eb842c",
   "metadata": {},
   "outputs": [
    {
     "name": "stdout",
     "output_type": "stream",
     "text": [
      "This is documentation for MyClass\n"
     ]
    }
   ],
   "source": [
    "print(MyClass.__doc__)"
   ]
  }
 ],
 "metadata": {
  "kernelspec": {
   "display_name": "Python 3 (ipykernel)",
   "language": "python",
   "name": "python3"
  },
  "language_info": {
   "codemirror_mode": {
    "name": "ipython",
    "version": 3
   },
   "file_extension": ".py",
   "mimetype": "text/x-python",
   "name": "python",
   "nbconvert_exporter": "python",
   "pygments_lexer": "ipython3",
   "version": "3.9.13"
  }
 },
 "nbformat": 4,
 "nbformat_minor": 5
}
