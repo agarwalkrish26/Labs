{
 "cells": [
  {
   "cell_type": "markdown",
   "id": "eb0bcb4f",
   "metadata": {},
   "source": [
    "# ***\"Comprehensive Text Classification with FastText in Python: Training, Evaluation, and Prediction\"***"
   ]
  },
  {
   "cell_type": "markdown",
   "id": "c60f88d8",
   "metadata": {},
   "source": [
    "## Importing Libraries"
   ]
  },
  {
   "cell_type": "code",
   "execution_count": 1,
   "id": "14c28b9f",
   "metadata": {},
   "outputs": [],
   "source": [
    "import fasttext\n",
    "import pandas as pd\n",
    "from sklearn.model_selection import train_test_split"
   ]
  },
  {
   "cell_type": "markdown",
   "id": "b7885a96",
   "metadata": {},
   "source": [
    "### Creating an Expanded Dataset"
   ]
  },
  {
   "cell_type": "code",
   "execution_count": 2,
   "id": "bc433c6e",
   "metadata": {},
   "outputs": [],
   "source": [
    "# Create an expanded dataset\n",
    "data = pd.DataFrame({\n",
    "    'review': [\n",
    "        \"One of the other reviewers has mentioned that after watching just 1 Oz episode you'll be hooked...\",\n",
    "        \"A wonderful little production...\",\n",
    "        \"I thought this was a wonderful way to spend time on a too hot summer weekend...\",\n",
    "        \"I absolutely loved this movie! It's a masterpiece of storytelling and acting.\",\n",
    "        \"Terrible film. I couldn't stand it. Waste of time and money.\",\n",
    "        \"Not my cup of tea. The plot was confusing, and the characters were unlikable.\",\n",
    "        \"I was pleasantly surprised by this film. It exceeded my expectations.\",\n",
    "        \"Awful. I can't believe I wasted two hours of my life on this garbage.\",\n",
    "        \"This is a must-see movie for all ages. It's heartwarming and beautifully made.\",\n",
    "        \"I found this film to be quite boring and predictable. Not worth the hype.\",\n",
    "        \"One of the best movies I've ever seen. The acting and direction are top-notch.\",\n",
    "        \"I couldn't finish this movie. It was too slow and uninteresting.\",\n",
    "        \"A delightful film that made me smile throughout. Highly recommended.\",\n",
    "        \"A complete disaster. The story made no sense, and the acting was terrible.\",\n",
    "        \"This film is a true gem. It's emotionally powerful and thought-provoking.\",\n",
    "        \"The worst movie I've ever seen. Don't waste your time on it.\",\n",
    "    ],\n",
    "    'sentiment': ['positive', 'positive', 'positive', 'positive', 'negative', 'negative', 'positive', 'negative',\n",
    "                  'positive', 'negative', 'positive', 'negative', 'positive', 'negative', 'positive', 'negative']\n",
    "})\n"
   ]
  },
  {
   "cell_type": "markdown",
   "id": "f0fee4e6",
   "metadata": {},
   "source": [
    "`A dataset is constructed using a pandas DataFrame. This dataset includes 16 reviews, each with a corresponding sentiment label. The reviews cover both positive and negative sentiments.`"
   ]
  },
  {
   "cell_type": "markdown",
   "id": "9b085e1a",
   "metadata": {},
   "source": [
    "### Mapping Sentiment Labels"
   ]
  },
  {
   "cell_type": "code",
   "execution_count": 3,
   "id": "57b68a23",
   "metadata": {},
   "outputs": [],
   "source": [
    "# Map sentiment labels to FastText format\n",
    "data['sentiment'] = data['sentiment'].apply(lambda x: '__label__' + x)"
   ]
  },
  {
   "cell_type": "markdown",
   "id": "dbf2d374",
   "metadata": {},
   "source": [
    "`Sentiment labels in the dataset are formatted to match the FastText input requirements. The sentiment labels are prefixed with \"label\" to create the appropriate FastText format.`"
   ]
  },
  {
   "cell_type": "markdown",
   "id": "1ca7c1ef",
   "metadata": {},
   "source": [
    "### Splitting the Dataset"
   ]
  },
  {
   "cell_type": "code",
   "execution_count": 4,
   "id": "26d05207",
   "metadata": {},
   "outputs": [],
   "source": [
    "# Split the dataset into training and test sets\n",
    "train_df, test_df = train_test_split(data, test_size=0.2, random_state=42)"
   ]
  },
  {
   "cell_type": "markdown",
   "id": "63c6ff7e",
   "metadata": {},
   "source": [
    "`The dataset is split into two parts: a training set and a test set. The split is performed using the train_test_split function from scikit-learn, where 80% of the data is designated for training and 20% for testing.`"
   ]
  },
  {
   "cell_type": "markdown",
   "id": "f398292c",
   "metadata": {},
   "source": [
    "### Saving Data to Text Files"
   ]
  },
  {
   "cell_type": "code",
   "execution_count": 5,
   "id": "f1c6612c",
   "metadata": {},
   "outputs": [],
   "source": [
    "# Save the training and test data to text files in FastText format\n",
    "train_file = 'train.txt'\n",
    "test_file = 'test.txt'\n",
    "\n",
    "train_df.to_csv(train_file, sep=' ', header=False, index=False)\n",
    "test_df.to_csv(test_file, sep=' ', header=False, index=False)"
   ]
  },
  {
   "cell_type": "markdown",
   "id": "a0178122",
   "metadata": {},
   "source": [
    "`The training and test datasets are saved to text files in the FastText format. This is important as FastText expects data in this specific format for training and testing. The training data is saved to 'train.txt', and the test data is saved to 'test.txt'.`"
   ]
  },
  {
   "cell_type": "markdown",
   "id": "adcc9f9a",
   "metadata": {},
   "source": [
    "### Training the FastText Model"
   ]
  },
  {
   "cell_type": "code",
   "execution_count": 20,
   "id": "8b3ce2f4",
   "metadata": {},
   "outputs": [],
   "source": [
    "# Train a FastText text classification model\n",
    "model = fasttext.train_supervised(input=train_file, epoch=500, lr=0.1, wordNgrams=4)"
   ]
  },
  {
   "cell_type": "markdown",
   "id": "da7c5827",
   "metadata": {},
   "source": [
    "`The FastText text classification model is trained using the training dataset. Several parameters are configured: the model is trained for 10 epochs, with a learning rate of 0.1, and utilizing word n-grams of size 2.`"
   ]
  },
  {
   "cell_type": "code",
   "execution_count": 21,
   "id": "15655143",
   "metadata": {},
   "outputs": [
    {
     "name": "stdout",
     "output_type": "stream",
     "text": [
      "Precision: 4.00\n",
      "Recall: 1.00\n",
      "F1 Score: 1.00\n"
     ]
    }
   ],
   "source": [
    "# Evaluate the model on the test data\n",
    "results = model.test(test_file)\n",
    "precision = results[0]  # Corrected index for precision\n",
    "recall = results[1]     # Corrected index for recall\n",
    "f1_score = results[2]   # Corrected index for F1 score\n",
    "\n",
    "print(f\"Precision: {precision:.2f}\")\n",
    "print(f\"Recall: {recall:.2f}\")\n",
    "print(f\"F1 Score: {f1_score:.2f}\")"
   ]
  },
  {
   "cell_type": "markdown",
   "id": "2aa05dbe",
   "metadata": {},
   "source": [
    "`The trained model is evaluated using the test dataset. Evaluation metrics, including precision, recall, and F1 score, are computed using the results object provided by FastText.`"
   ]
  },
  {
   "cell_type": "markdown",
   "id": "edfc636c",
   "metadata": {},
   "source": [
    "### Classifying New Text Examples"
   ]
  },
  {
   "cell_type": "code",
   "execution_count": 22,
   "id": "ee7fddb2",
   "metadata": {},
   "outputs": [
    {
     "name": "stdout",
     "output_type": "stream",
     "text": [
      "-----------------------------------\n",
      "Text: \"This is a great movie!\" - Predicted Sentiment: positive\n",
      "-----------------------------------\n",
      "Text: \"I didn't like this film at all.\" - Predicted Sentiment: negative\n",
      "-----------------------------------\n",
      "Text: \"Absolutely fantastic! I was captivated from start to finish.\" - Predicted Sentiment: negative\n",
      "-----------------------------------\n",
      "Text: \"An utter disappointment. The plot was confusing, and the acting was terrible.\" - Predicted Sentiment: negative\n",
      "-----------------------------------\n",
      "Text: \"I can't recommend this film enough. It's a masterpiece.\" - Predicted Sentiment: positive\n",
      "-----------------------------------\n",
      "Text: \"I couldn't even finish watching this. It was so boring and poorly made.\" - Predicted Sentiment: negative\n",
      "-----------------------------------\n",
      "Text: \"A must-see for anyone who loves a good drama. The performances were outstanding.\" - Predicted Sentiment: positive\n",
      "-----------------------------------\n",
      "Text: \"A complete waste of time. I regret watching this movie.\" - Predicted Sentiment: negative\n",
      "-----------------------------------\n",
      "Text: \"I thoroughly enjoyed every minute of this film. Highly recommended.\" - Predicted Sentiment: negative\n",
      "-----------------------------------\n",
      "Text: \"I found the story to be quite predictable and unoriginal.\" - Predicted Sentiment: negative\n",
      "-----------------------------------\n",
      "Text: \"One of the best movies I've seen in years. It's a true gem.\" - Predicted Sentiment: positive\n",
      "-----------------------------------\n",
      "Text: \"This film is a disaster. The script is terrible, and the direction is abysmal.\" - Predicted Sentiment: positive\n",
      "-----------------------------------\n",
      "Text: \"Heartwarming and beautifully acted. I was moved by this movie.\" - Predicted Sentiment: negative\n",
      "-----------------------------------\n",
      "Text: \"I couldn't believe how bad this film was. It's one of the worst I've seen.\" - Predicted Sentiment: negative\n"
     ]
    }
   ],
   "source": [
    "# Classify new text examples\n",
    "new_texts = [\n",
    "    \"This is a great movie!\",\n",
    "    \"I didn't like this film at all.\",\n",
    "    \"Absolutely fantastic! I was captivated from start to finish.\",\n",
    "    \"An utter disappointment. The plot was confusing, and the acting was terrible.\",\n",
    "    \"I can't recommend this film enough. It's a masterpiece.\",\n",
    "    \"I couldn't even finish watching this. It was so boring and poorly made.\",\n",
    "    \"A must-see for anyone who loves a good drama. The performances were outstanding.\",\n",
    "    \"A complete waste of time. I regret watching this movie.\",\n",
    "    \"I thoroughly enjoyed every minute of this film. Highly recommended.\",\n",
    "    \"I found the story to be quite predictable and unoriginal.\",\n",
    "    \"One of the best movies I've seen in years. It's a true gem.\",\n",
    "    \"This film is a disaster. The script is terrible, and the direction is abysmal.\",\n",
    "    \"Heartwarming and beautifully acted. I was moved by this movie.\",\n",
    "    \"I couldn't believe how bad this film was. It's one of the worst I've seen.\",\n",
    "]\n",
    "\n",
    "for text in new_texts:\n",
    "    label, _ = model.predict(text)\n",
    "    sentiment = label[0].replace('__label__', '')\n",
    "    print('-'*35)\n",
    "    print(f'Text: \"{text}\" - Predicted Sentiment: {sentiment}')"
   ]
  },
  {
   "cell_type": "markdown",
   "id": "a1ede5f4",
   "metadata": {},
   "source": [
    "`A list of new text examples is provided for classification. The model predicts the sentiment of each new text, and the results are printed. The sentiment labels are extracted from the FastText output format.`"
   ]
  },
  {
   "cell_type": "markdown",
   "id": "bb07ed0b",
   "metadata": {},
   "source": [
    "<hr>"
   ]
  }
 ],
 "metadata": {
  "kernelspec": {
   "display_name": "Python 3 (ipykernel)",
   "language": "python",
   "name": "python3"
  },
  "language_info": {
   "codemirror_mode": {
    "name": "ipython",
    "version": 3
   },
   "file_extension": ".py",
   "mimetype": "text/x-python",
   "name": "python",
   "nbconvert_exporter": "python",
   "pygments_lexer": "ipython3",
   "version": "3.11.5"
  }
 },
 "nbformat": 4,
 "nbformat_minor": 5
}
