{
 "cells": [
  {
   "cell_type": "markdown",
   "id": "ef25b001",
   "metadata": {},
   "source": [
    "## `NLTK`"
   ]
  },
  {
   "cell_type": "markdown",
   "id": "44c25fbc",
   "metadata": {},
   "source": [
    "**Sentence Casing**"
   ]
  },
  {
   "cell_type": "code",
   "execution_count": 1,
   "id": "9c0fd03a",
   "metadata": {},
   "outputs": [],
   "source": [
    "import nltk"
   ]
  },
  {
   "cell_type": "code",
   "execution_count": 2,
   "id": "bd78ec8d",
   "metadata": {},
   "outputs": [],
   "source": [
    "# storing a string in a variable\n",
    "string = 'The quick brown fox jumps over the lazy dog.'"
   ]
  },
  {
   "cell_type": "code",
   "execution_count": 3,
   "id": "71e2f36a",
   "metadata": {},
   "outputs": [
    {
     "name": "stdout",
     "output_type": "stream",
     "text": [
      "String: The quick brown fox jumps over the lazy dog. \n",
      "Lower: the quick brown fox jumps over the lazy dog. \n",
      "Upper: THE QUICK BROWN FOX JUMPS OVER THE LAZY DOG.\n"
     ]
    }
   ],
   "source": [
    "print(\"String:\", string, \"\\nLower:\", string.lower(), \"\\nUpper:\", string.upper())"
   ]
  },
  {
   "cell_type": "markdown",
   "id": "6e08970d",
   "metadata": {},
   "source": [
    "**Importing a file and processing it**"
   ]
  },
  {
   "cell_type": "code",
   "execution_count": 4,
   "id": "b920ad2e",
   "metadata": {},
   "outputs": [
    {
     "ename": "FileNotFoundError",
     "evalue": "[Errno 2] No such file or directory: 'D:/Z/Downloads/nltk_example.txt'",
     "output_type": "error",
     "traceback": [
      "\u001b[1;31m---------------------------------------------------------------------------\u001b[0m",
      "\u001b[1;31mFileNotFoundError\u001b[0m                         Traceback (most recent call last)",
      "Cell \u001b[1;32mIn[4], line 2\u001b[0m\n\u001b[0;32m      1\u001b[0m \u001b[38;5;66;03m# Reading the content of the file\u001b[39;00m\n\u001b[1;32m----> 2\u001b[0m \u001b[38;5;28;01mwith\u001b[39;00m \u001b[38;5;28mopen\u001b[39m(\u001b[38;5;124m\"\u001b[39m\u001b[38;5;124mD:/Z/Downloads/nltk_example.txt\u001b[39m\u001b[38;5;124m\"\u001b[39m, \u001b[38;5;124m\"\u001b[39m\u001b[38;5;124mr\u001b[39m\u001b[38;5;124m\"\u001b[39m) \u001b[38;5;28;01mas\u001b[39;00m file:\n\u001b[0;32m      3\u001b[0m     content \u001b[38;5;241m=\u001b[39m file\u001b[38;5;241m.\u001b[39mread()\n\u001b[0;32m      5\u001b[0m content[:\u001b[38;5;241m500\u001b[39m]\n",
      "File \u001b[1;32m~\\anaconda3\\Lib\\site-packages\\IPython\\core\\interactiveshell.py:286\u001b[0m, in \u001b[0;36m_modified_open\u001b[1;34m(file, *args, **kwargs)\u001b[0m\n\u001b[0;32m    279\u001b[0m \u001b[38;5;28;01mif\u001b[39;00m file \u001b[38;5;129;01min\u001b[39;00m {\u001b[38;5;241m0\u001b[39m, \u001b[38;5;241m1\u001b[39m, \u001b[38;5;241m2\u001b[39m}:\n\u001b[0;32m    280\u001b[0m     \u001b[38;5;28;01mraise\u001b[39;00m \u001b[38;5;167;01mValueError\u001b[39;00m(\n\u001b[0;32m    281\u001b[0m         \u001b[38;5;124mf\u001b[39m\u001b[38;5;124m\"\u001b[39m\u001b[38;5;124mIPython won\u001b[39m\u001b[38;5;124m'\u001b[39m\u001b[38;5;124mt let you open fd=\u001b[39m\u001b[38;5;132;01m{\u001b[39;00mfile\u001b[38;5;132;01m}\u001b[39;00m\u001b[38;5;124m by default \u001b[39m\u001b[38;5;124m\"\u001b[39m\n\u001b[0;32m    282\u001b[0m         \u001b[38;5;124m\"\u001b[39m\u001b[38;5;124mas it is likely to crash IPython. If you know what you are doing, \u001b[39m\u001b[38;5;124m\"\u001b[39m\n\u001b[0;32m    283\u001b[0m         \u001b[38;5;124m\"\u001b[39m\u001b[38;5;124myou can use builtins\u001b[39m\u001b[38;5;124m'\u001b[39m\u001b[38;5;124m open.\u001b[39m\u001b[38;5;124m\"\u001b[39m\n\u001b[0;32m    284\u001b[0m     )\n\u001b[1;32m--> 286\u001b[0m \u001b[38;5;28;01mreturn\u001b[39;00m io_open(file, \u001b[38;5;241m*\u001b[39margs, \u001b[38;5;241m*\u001b[39m\u001b[38;5;241m*\u001b[39mkwargs)\n",
      "\u001b[1;31mFileNotFoundError\u001b[0m: [Errno 2] No such file or directory: 'D:/Z/Downloads/nltk_example.txt'"
     ]
    }
   ],
   "source": [
    "# Reading the content of the file\n",
    "with open(\"D:/Z/Downloads/nltk_example.txt\", \"r\") as file:\n",
    "    content = file.read()\n",
    "    \n",
    "content[:500] # Displaying the first 500 characters of the content"
   ]
  },
  {
   "cell_type": "markdown",
   "id": "dfc3f4ad",
   "metadata": {},
   "source": [
    "**Split each word - 1**"
   ]
  },
  {
   "cell_type": "code",
   "execution_count": null,
   "id": "a8244b05",
   "metadata": {},
   "outputs": [],
   "source": [
    "# Using basic Python string method to tokenize the text\n",
    "basic_tokens = content.split()\n",
    "\n",
    "basic_tokens[:20]  # Displaying the first 20 tokens"
   ]
  },
  {
   "cell_type": "markdown",
   "id": "c975cc7e",
   "metadata": {},
   "source": [
    "**Frequency of a given word**"
   ]
  },
  {
   "cell_type": "code",
   "execution_count": null,
   "id": "c550eb4c",
   "metadata": {},
   "outputs": [],
   "source": [
    "from collections import Counter"
   ]
  },
  {
   "cell_type": "code",
   "execution_count": null,
   "id": "8c078dbc",
   "metadata": {},
   "outputs": [],
   "source": [
    "# Calculating word frequencies\n",
    "word_frequencies = Counter(basic_tokens)\n",
    "\n",
    "def getWordFrequency(word):\n",
    "    \"\"\"Returns the frequency of the given word in the content.\"\"\"\n",
    "    return word_frequencies[word]"
   ]
  },
  {
   "cell_type": "code",
   "execution_count": null,
   "id": "a6a50857",
   "metadata": {},
   "outputs": [],
   "source": [
    "# Testing the function with the word \"Technological\"\n",
    "getWordFrequency(\"Technological\")"
   ]
  },
  {
   "cell_type": "markdown",
   "id": "c15b40c7",
   "metadata": {},
   "source": [
    "**Identify numbers in the corpus**"
   ]
  },
  {
   "cell_type": "code",
   "execution_count": null,
   "id": "e7d30e83",
   "metadata": {},
   "outputs": [],
   "source": [
    "import re"
   ]
  },
  {
   "cell_type": "code",
   "execution_count": null,
   "id": "ea2c7a66",
   "metadata": {},
   "outputs": [],
   "source": [
    "def identifyNumbers(text):\n",
    "    \"\"\"Identifies and returns all the numbers in the given text.\"\"\"\n",
    "    return re.findall(r'\\b\\d+\\b', text)"
   ]
  },
  {
   "cell_type": "code",
   "execution_count": null,
   "id": "89a5b751",
   "metadata": {},
   "outputs": [],
   "source": [
    "numbers_in_content = identifyNumbers(content)\n",
    "numbers_in_content"
   ]
  },
  {
   "cell_type": "markdown",
   "id": "bb8b74bb",
   "metadata": {},
   "source": [
    "**Remove the numbers from the corpus**"
   ]
  },
  {
   "cell_type": "code",
   "execution_count": null,
   "id": "e728a02f",
   "metadata": {},
   "outputs": [],
   "source": [
    "def removeNumbers(text):\n",
    "    \"\"\"Removes all numbers from the given text and returns the cleaned text.\"\"\"\n",
    "    return re.sub(r'\\b\\d+\\b', '', text)"
   ]
  },
  {
   "cell_type": "code",
   "execution_count": null,
   "id": "8305502b",
   "metadata": {},
   "outputs": [],
   "source": [
    "cleaned_content = removeNumbers(content)\n",
    "\n",
    "# Displaying the first 500 characters of the cleaned content\n",
    "cleaned_content[:500]"
   ]
  },
  {
   "cell_type": "markdown",
   "id": "6adf065d",
   "metadata": {},
   "source": [
    "**Remove the two or three letter words**"
   ]
  },
  {
   "cell_type": "code",
   "execution_count": null,
   "id": "61c47b04",
   "metadata": {},
   "outputs": [],
   "source": [
    "def removeShortWords(text, min_length=4):\n",
    "    \"\"\"Removes words of length less than min_length from the given text and returns the cleaned text.\"\"\"\n",
    "    return ' '.join([word for word in text.split() if len(word) >= min_length])"
   ]
  },
  {
   "cell_type": "code",
   "execution_count": null,
   "id": "732110bf",
   "metadata": {},
   "outputs": [],
   "source": [
    "cleaned_content_without_short_words = removeShortWords(cleaned_content)\n",
    "\n",
    "# Displaying the first 500 characters of the content without short words\n",
    "cleaned_content_without_short_words[:500]"
   ]
  },
  {
   "cell_type": "markdown",
   "id": "b9b811b7",
   "metadata": {},
   "source": [
    "**Stopwords**"
   ]
  },
  {
   "cell_type": "code",
   "execution_count": null,
   "id": "38618c2f",
   "metadata": {},
   "outputs": [],
   "source": [
    "import nltk\n",
    "#nltk.download('stopwords')\n",
    "from nltk.corpus import stopwords\n",
    "from nltk.tokenize import word_tokenize"
   ]
  },
  {
   "cell_type": "code",
   "execution_count": null,
   "id": "0901f389",
   "metadata": {},
   "outputs": [],
   "source": [
    "stop_words = set(stopwords.words('english'))\n",
    "tokens_ = word_tokenize(string)\n",
    "result = [i for i in tokens_ if i not in stop_words]"
   ]
  },
  {
   "cell_type": "code",
   "execution_count": null,
   "id": "296369ed",
   "metadata": {},
   "outputs": [],
   "source": [
    "result"
   ]
  },
  {
   "cell_type": "markdown",
   "id": "40137d4e",
   "metadata": {},
   "source": [
    "**Stemming**"
   ]
  },
  {
   "cell_type": "code",
   "execution_count": null,
   "id": "b2da72ed",
   "metadata": {},
   "outputs": [],
   "source": [
    "import nltk\n",
    "from nltk.stem import PorterStemmer\n",
    "# nltk.download('punkt')"
   ]
  },
  {
   "cell_type": "code",
   "execution_count": null,
   "id": "d703f30c",
   "metadata": {},
   "outputs": [],
   "source": [
    "text = \"The quick brown fox jumps over the lazy dog.\"\n",
    "\n",
    "stemmer = PorterStemmer()\n",
    "words = nltk.word_tokenize(text)\n",
    "stemmed_words = [stemmer.stem(word) for word in words]"
   ]
  },
  {
   "cell_type": "code",
   "execution_count": null,
   "id": "f9dd0058",
   "metadata": {},
   "outputs": [],
   "source": [
    "stemmed_words"
   ]
  },
  {
   "cell_type": "markdown",
   "id": "852f1322",
   "metadata": {},
   "source": [
    "**Lemmatization**"
   ]
  },
  {
   "cell_type": "code",
   "execution_count": null,
   "id": "e17d2acf",
   "metadata": {},
   "outputs": [],
   "source": [
    "import nltk\n",
    "from nltk.stem import WordNetLemmatizer\n",
    "#nltk.download('wordnet')"
   ]
  },
  {
   "cell_type": "code",
   "execution_count": null,
   "id": "735aa110",
   "metadata": {},
   "outputs": [],
   "source": [
    "text = \"The quick brown fox jumped over the lazy dogs.\"\n",
    "\n",
    "lemmatizer = WordNetLemmatizer()\n",
    "words = nltk.word_tokenize(text)\n",
    "lemmatized_words = [lemmatizer.lemmatize(word) for word in words]"
   ]
  },
  {
   "cell_type": "code",
   "execution_count": null,
   "id": "9169dc31",
   "metadata": {},
   "outputs": [],
   "source": [
    "lemmatized_words"
   ]
  },
  {
   "cell_type": "markdown",
   "id": "6a06d91f",
   "metadata": {},
   "source": [
    "**Part of Speech**"
   ]
  },
  {
   "cell_type": "code",
   "execution_count": null,
   "id": "b7e0266a",
   "metadata": {},
   "outputs": [],
   "source": [
    "from nltk import pos_tag\n",
    "#nltk.download('averaged_perceptron_tagger')"
   ]
  },
  {
   "cell_type": "code",
   "execution_count": null,
   "id": "47840b0a",
   "metadata": {},
   "outputs": [],
   "source": [
    "def posTagging(tokens):\n",
    "    tagged = pos_tag(tokens)\n",
    "    return tagged"
   ]
  },
  {
   "cell_type": "code",
   "execution_count": null,
   "id": "d75cd19c",
   "metadata": {},
   "outputs": [],
   "source": [
    "posTagging(basic_tokens)"
   ]
  },
  {
   "cell_type": "markdown",
   "id": "af69a425",
   "metadata": {},
   "source": [
    "## `Regular Expression`"
   ]
  },
  {
   "cell_type": "markdown",
   "id": "8440630e",
   "metadata": {},
   "source": [
    "**(.) Operator**"
   ]
  },
  {
   "cell_type": "code",
   "execution_count": null,
   "id": "63cb04e3",
   "metadata": {},
   "outputs": [],
   "source": [
    "# importing the necessasry libraries\n",
    "import re"
   ]
  },
  {
   "cell_type": "code",
   "execution_count": null,
   "id": "de98e1b2",
   "metadata": {},
   "outputs": [],
   "source": [
    "# storing a string in a variable\n",
    "text = 'cat, bat, rat, hat, hello'\n",
    "\n",
    "# . --> \n",
    "pattern = r\".at\"\n",
    "matches = re.findall(pattern, text)"
   ]
  },
  {
   "cell_type": "code",
   "execution_count": null,
   "id": "b41be190",
   "metadata": {},
   "outputs": [],
   "source": [
    "print(matches)"
   ]
  },
  {
   "cell_type": "markdown",
   "id": "88f17ab6",
   "metadata": {},
   "source": [
    "**(*) Operator**"
   ]
  },
  {
   "cell_type": "code",
   "execution_count": null,
   "id": "57190038",
   "metadata": {},
   "outputs": [],
   "source": [
    "# storing a string in a variable\n",
    "text = 'abc abbc aabbc aabbbbc asdf sdfg'\n",
    "\n",
    "# * --> \n",
    "pattern = r\"ab*c\"\n",
    "matches = re.findall(pattern, text)"
   ]
  },
  {
   "cell_type": "code",
   "execution_count": null,
   "id": "77ef1356",
   "metadata": {},
   "outputs": [],
   "source": [
    "print(matches)"
   ]
  },
  {
   "cell_type": "markdown",
   "id": "6b15ff6f",
   "metadata": {},
   "source": [
    "**(?) Operator**"
   ]
  },
  {
   "cell_type": "code",
   "execution_count": null,
   "id": "403c412a",
   "metadata": {},
   "outputs": [],
   "source": [
    "# storing a string in a variable\n",
    "text = \"color or colour\"\n",
    "\n",
    "# ? --> mmatches 0 or 1 occurence of the preceding character\n",
    "pattern = r\"colou?r\"\n",
    "matches = re.findall(pattern, text)"
   ]
  },
  {
   "cell_type": "code",
   "execution_count": null,
   "id": "c2452836",
   "metadata": {},
   "outputs": [],
   "source": [
    "print(matches)"
   ]
  },
  {
   "cell_type": "markdown",
   "id": "d53f1d27",
   "metadata": {},
   "source": [
    "**(|) Operator**"
   ]
  },
  {
   "cell_type": "code",
   "execution_count": null,
   "id": "ea1faa35",
   "metadata": {},
   "outputs": [],
   "source": [
    "# storing a string in a variable\n",
    "text = 'cat or dog'\n",
    "\n",
    "# | --? logical OR\n",
    "pattern = r\"cat|dog\"\n",
    "matches = re.findall(pattern, text)"
   ]
  },
  {
   "cell_type": "code",
   "execution_count": null,
   "id": "606e4416",
   "metadata": {},
   "outputs": [],
   "source": [
    "print(matches)"
   ]
  },
  {
   "cell_type": "markdown",
   "id": "f6c669d9",
   "metadata": {},
   "source": [
    "**([ ]) Operator**"
   ]
  },
  {
   "cell_type": "code",
   "execution_count": null,
   "id": "5704d90e",
   "metadata": {},
   "outputs": [],
   "source": [
    "# storing a string in a variable\n",
    "text = 'the car is red, the cat is black and the rat ran away'\n",
    "\n",
    "# [ ] --> character class\n",
    "pattern = r'[cr]at'\n",
    "matches = re.findall(pattern, text)"
   ]
  },
  {
   "cell_type": "code",
   "execution_count": null,
   "id": "cd44da10",
   "metadata": {},
   "outputs": [],
   "source": [
    "print(matches)"
   ]
  },
  {
   "cell_type": "markdown",
   "id": "e66992f1",
   "metadata": {},
   "source": [
    "**( () ) Operator**"
   ]
  },
  {
   "cell_type": "code",
   "execution_count": null,
   "id": "d93f5739",
   "metadata": {},
   "outputs": [],
   "source": [
    "# storing a string in a variable\n",
    "text = 'The price is $10,000. Discount is $2000.'\n",
    "\n",
    "# () --> character class\n",
    "pattern = r'\\$([0-9,]+)'\n",
    "matches = re.findall(pattern, text)"
   ]
  },
  {
   "cell_type": "code",
   "execution_count": null,
   "id": "aaf2afce",
   "metadata": {},
   "outputs": [],
   "source": [
    "print(matches)"
   ]
  },
  {
   "cell_type": "markdown",
   "id": "955efe87",
   "metadata": {},
   "source": [
    "**( {} ) Operator**"
   ]
  },
  {
   "cell_type": "code",
   "execution_count": null,
   "id": "b5e6ab81",
   "metadata": {},
   "outputs": [],
   "source": [
    "# storing a string in a variable\n",
    "text = 'aaaa aa a aa aaaaaa'\n",
    "\n",
    "# () --> character class\n",
    "pattern = r'a{2,3}'\n",
    "matches = re.findall(pattern, text)"
   ]
  },
  {
   "cell_type": "code",
   "execution_count": null,
   "id": "a3d70bdf",
   "metadata": {},
   "outputs": [],
   "source": [
    "print(matches)"
   ]
  },
  {
   "cell_type": "markdown",
   "id": "b0b905fc",
   "metadata": {},
   "source": [
    "**(^) Operator**"
   ]
  },
  {
   "cell_type": "code",
   "execution_count": null,
   "id": "9f27f568",
   "metadata": {},
   "outputs": [],
   "source": [
    "# storing a string in a variable\n",
    "text = 'Hello, World!'\n",
    "\n",
    "# () --> character class\n",
    "pattern = r'^Hello'\n",
    "matches = re.search(pattern, text)"
   ]
  },
  {
   "cell_type": "code",
   "execution_count": null,
   "id": "147ffdc0",
   "metadata": {},
   "outputs": [],
   "source": [
    "if matches:\n",
    "    print(\"Match Found:\", matches.group())\n",
    "else:\n",
    "    print(\"Match not Found!\")"
   ]
  },
  {
   "cell_type": "markdown",
   "id": "2475b087",
   "metadata": {},
   "source": [
    "**Numbers Removing**"
   ]
  },
  {
   "cell_type": "code",
   "execution_count": null,
   "id": "a0909866",
   "metadata": {},
   "outputs": [],
   "source": [
    "# storing a string in a variable\n",
    "input_str = 'Box contains 3 red and 5 white balls, while box B contains 4 red and 2 blue balls'\n",
    "\n",
    "# substitution function\n",
    "result = re.sub(r'\\d+', '@', input_str)"
   ]
  },
  {
   "cell_type": "code",
   "execution_count": null,
   "id": "e845c19b",
   "metadata": {},
   "outputs": [],
   "source": [
    "print(result)"
   ]
  },
  {
   "cell_type": "markdown",
   "id": "572b5a1c",
   "metadata": {},
   "source": [
    "**Punctual Removal**"
   ]
  },
  {
   "cell_type": "code",
   "execution_count": null,
   "id": "23fc9b4d",
   "metadata": {},
   "outputs": [],
   "source": [
    "def removePunctuation(text):\n",
    "    import string\n",
    "    # function generated ... be used to map character\n",
    "    translator = str.maketrans('', '', string.punctuation)\n",
    "    return text.translate(translator)"
   ]
  },
  {
   "cell_type": "code",
   "execution_count": null,
   "id": "f9e52816",
   "metadata": {},
   "outputs": [],
   "source": [
    "input_str = \"Hey, did you know tomorrow is a holiday? Its great a news right!\"\n",
    "removePunctuation(input_str)"
   ]
  },
  {
   "cell_type": "markdown",
   "id": "179d3a34",
   "metadata": {},
   "source": [
    "**Removing Whitespace between Sentences**"
   ]
  },
  {
   "cell_type": "code",
   "execution_count": null,
   "id": "30ff6423",
   "metadata": {},
   "outputs": [],
   "source": [
    "def removeSpace():\n",
    "    x"
   ]
  },
  {
   "cell_type": "markdown",
   "id": "4f92c3d0",
   "metadata": {},
   "source": [
    "**Split each word - 2**"
   ]
  },
  {
   "cell_type": "code",
   "execution_count": null,
   "id": "06a67f94",
   "metadata": {},
   "outputs": [],
   "source": [
    "tokens_ = re.findall(r'\\b\\w+\\b', content)\n",
    "print(tokens_)"
   ]
  },
  {
   "cell_type": "markdown",
   "id": "e1cc856e",
   "metadata": {},
   "source": [
    "## `TextBlob`"
   ]
  },
  {
   "cell_type": "markdown",
   "id": "e13cdc0d",
   "metadata": {},
   "source": [
    "**Part of Speech**"
   ]
  },
  {
   "cell_type": "code",
   "execution_count": null,
   "id": "2452a3da",
   "metadata": {},
   "outputs": [],
   "source": [
    "from textblob import TextBlob"
   ]
  },
  {
   "cell_type": "code",
   "execution_count": null,
   "id": "960d7e2c",
   "metadata": {},
   "outputs": [],
   "source": [
    "text = \"The quick brown fox jumps over the lazy dog.\"\n",
    "result = TextBlob(text)"
   ]
  },
  {
   "cell_type": "code",
   "execution_count": null,
   "id": "fede755c",
   "metadata": {},
   "outputs": [],
   "source": [
    "result.tags"
   ]
  },
  {
   "cell_type": "markdown",
   "id": "560b3064",
   "metadata": {},
   "source": [
    "<hr>"
   ]
  }
 ],
 "metadata": {
  "kernelspec": {
   "display_name": "Python 3 (ipykernel)",
   "language": "python",
   "name": "python3"
  },
  "language_info": {
   "codemirror_mode": {
    "name": "ipython",
    "version": 3
   },
   "file_extension": ".py",
   "mimetype": "text/x-python",
   "name": "python",
   "nbconvert_exporter": "python",
   "pygments_lexer": "ipython3",
   "version": "3.11.5"
  }
 },
 "nbformat": 4,
 "nbformat_minor": 5
}
