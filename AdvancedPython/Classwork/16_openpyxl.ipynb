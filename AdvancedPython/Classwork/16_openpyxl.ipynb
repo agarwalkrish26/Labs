{
 "cells": [
  {
   "cell_type": "markdown",
   "id": "80785440",
   "metadata": {},
   "source": [
    "# Openpyxl\n",
    "\n",
    "Name: **Krish Agarwal** <br>\n",
    "Reg No: **21112016** <br>\n",
    "Class: **5BSc DS A** <br>\n",
    "Date: **30/10/2023**\n",
    "\n",
    "---------------"
   ]
  },
  {
   "cell_type": "markdown",
   "id": "9dd658ad",
   "metadata": {},
   "source": [
    "**importing the dataset through pandas**"
   ]
  },
  {
   "cell_type": "code",
   "execution_count": 1,
   "id": "df845d65",
   "metadata": {},
   "outputs": [],
   "source": [
    "# importing all the necessary libraries/modules\n",
    "import pandas as pd"
   ]
  },
  {
   "cell_type": "code",
   "execution_count": 2,
   "id": "f7df935b",
   "metadata": {},
   "outputs": [
    {
     "data": {
      "text/html": [
       "<div>\n",
       "<style scoped>\n",
       "    .dataframe tbody tr th:only-of-type {\n",
       "        vertical-align: middle;\n",
       "    }\n",
       "\n",
       "    .dataframe tbody tr th {\n",
       "        vertical-align: top;\n",
       "    }\n",
       "\n",
       "    .dataframe thead th {\n",
       "        text-align: right;\n",
       "    }\n",
       "</style>\n",
       "<table border=\"1\" class=\"dataframe\">\n",
       "  <thead>\n",
       "    <tr style=\"text-align: right;\">\n",
       "      <th></th>\n",
       "      <th>ORDERNUMBER</th>\n",
       "      <th>QUANTITYORDERED</th>\n",
       "      <th>PRICEEACH</th>\n",
       "      <th>ORDERLINENUMBER</th>\n",
       "      <th>SALES</th>\n",
       "      <th>ORDERDATE</th>\n",
       "      <th>STATUS</th>\n",
       "      <th>QTR_ID</th>\n",
       "      <th>MONTH_ID</th>\n",
       "      <th>YEAR_ID</th>\n",
       "      <th>...</th>\n",
       "      <th>ADDRESSLINE1</th>\n",
       "      <th>ADDRESSLINE2</th>\n",
       "      <th>CITY</th>\n",
       "      <th>STATE</th>\n",
       "      <th>POSTALCODE</th>\n",
       "      <th>COUNTRY</th>\n",
       "      <th>TERRITORY</th>\n",
       "      <th>CONTACTLASTNAME</th>\n",
       "      <th>CONTACTFIRSTNAME</th>\n",
       "      <th>DEALSIZE</th>\n",
       "    </tr>\n",
       "  </thead>\n",
       "  <tbody>\n",
       "    <tr>\n",
       "      <th>0</th>\n",
       "      <td>10107</td>\n",
       "      <td>30</td>\n",
       "      <td>95.70</td>\n",
       "      <td>2</td>\n",
       "      <td>2871.00</td>\n",
       "      <td>2/24/2003 0:00</td>\n",
       "      <td>Shipped</td>\n",
       "      <td>1</td>\n",
       "      <td>2</td>\n",
       "      <td>2003</td>\n",
       "      <td>...</td>\n",
       "      <td>897 Long Airport Avenue</td>\n",
       "      <td>NaN</td>\n",
       "      <td>NYC</td>\n",
       "      <td>NY</td>\n",
       "      <td>10022</td>\n",
       "      <td>USA</td>\n",
       "      <td>NaN</td>\n",
       "      <td>Yu</td>\n",
       "      <td>Kwai</td>\n",
       "      <td>Small</td>\n",
       "    </tr>\n",
       "    <tr>\n",
       "      <th>1</th>\n",
       "      <td>10121</td>\n",
       "      <td>34</td>\n",
       "      <td>81.35</td>\n",
       "      <td>5</td>\n",
       "      <td>2765.90</td>\n",
       "      <td>5/7/2003 0:00</td>\n",
       "      <td>Shipped</td>\n",
       "      <td>2</td>\n",
       "      <td>5</td>\n",
       "      <td>2003</td>\n",
       "      <td>...</td>\n",
       "      <td>59 rue de l'Abbaye</td>\n",
       "      <td>NaN</td>\n",
       "      <td>Reims</td>\n",
       "      <td>NaN</td>\n",
       "      <td>51100</td>\n",
       "      <td>France</td>\n",
       "      <td>EMEA</td>\n",
       "      <td>Henriot</td>\n",
       "      <td>Paul</td>\n",
       "      <td>Small</td>\n",
       "    </tr>\n",
       "    <tr>\n",
       "      <th>2</th>\n",
       "      <td>10134</td>\n",
       "      <td>41</td>\n",
       "      <td>94.74</td>\n",
       "      <td>2</td>\n",
       "      <td>3884.34</td>\n",
       "      <td>7/1/2003 0:00</td>\n",
       "      <td>Shipped</td>\n",
       "      <td>3</td>\n",
       "      <td>7</td>\n",
       "      <td>2003</td>\n",
       "      <td>...</td>\n",
       "      <td>27 rue du Colonel Pierre Avia</td>\n",
       "      <td>NaN</td>\n",
       "      <td>Paris</td>\n",
       "      <td>NaN</td>\n",
       "      <td>75508</td>\n",
       "      <td>France</td>\n",
       "      <td>EMEA</td>\n",
       "      <td>Da Cunha</td>\n",
       "      <td>Daniel</td>\n",
       "      <td>Medium</td>\n",
       "    </tr>\n",
       "    <tr>\n",
       "      <th>3</th>\n",
       "      <td>10145</td>\n",
       "      <td>45</td>\n",
       "      <td>83.26</td>\n",
       "      <td>6</td>\n",
       "      <td>3746.70</td>\n",
       "      <td>8/25/2003 0:00</td>\n",
       "      <td>Shipped</td>\n",
       "      <td>3</td>\n",
       "      <td>8</td>\n",
       "      <td>2003</td>\n",
       "      <td>...</td>\n",
       "      <td>78934 Hillside Dr.</td>\n",
       "      <td>NaN</td>\n",
       "      <td>Pasadena</td>\n",
       "      <td>CA</td>\n",
       "      <td>90003</td>\n",
       "      <td>USA</td>\n",
       "      <td>NaN</td>\n",
       "      <td>Young</td>\n",
       "      <td>Julie</td>\n",
       "      <td>Medium</td>\n",
       "    </tr>\n",
       "    <tr>\n",
       "      <th>4</th>\n",
       "      <td>10159</td>\n",
       "      <td>49</td>\n",
       "      <td>100.00</td>\n",
       "      <td>14</td>\n",
       "      <td>5205.27</td>\n",
       "      <td>10/10/2003 0:00</td>\n",
       "      <td>Shipped</td>\n",
       "      <td>4</td>\n",
       "      <td>10</td>\n",
       "      <td>2003</td>\n",
       "      <td>...</td>\n",
       "      <td>7734 Strong St.</td>\n",
       "      <td>NaN</td>\n",
       "      <td>San Francisco</td>\n",
       "      <td>CA</td>\n",
       "      <td>NaN</td>\n",
       "      <td>USA</td>\n",
       "      <td>NaN</td>\n",
       "      <td>Brown</td>\n",
       "      <td>Julie</td>\n",
       "      <td>Medium</td>\n",
       "    </tr>\n",
       "    <tr>\n",
       "      <th>...</th>\n",
       "      <td>...</td>\n",
       "      <td>...</td>\n",
       "      <td>...</td>\n",
       "      <td>...</td>\n",
       "      <td>...</td>\n",
       "      <td>...</td>\n",
       "      <td>...</td>\n",
       "      <td>...</td>\n",
       "      <td>...</td>\n",
       "      <td>...</td>\n",
       "      <td>...</td>\n",
       "      <td>...</td>\n",
       "      <td>...</td>\n",
       "      <td>...</td>\n",
       "      <td>...</td>\n",
       "      <td>...</td>\n",
       "      <td>...</td>\n",
       "      <td>...</td>\n",
       "      <td>...</td>\n",
       "      <td>...</td>\n",
       "      <td>...</td>\n",
       "    </tr>\n",
       "    <tr>\n",
       "      <th>2818</th>\n",
       "      <td>10350</td>\n",
       "      <td>20</td>\n",
       "      <td>100.00</td>\n",
       "      <td>15</td>\n",
       "      <td>2244.40</td>\n",
       "      <td>12/2/2004 0:00</td>\n",
       "      <td>Shipped</td>\n",
       "      <td>4</td>\n",
       "      <td>12</td>\n",
       "      <td>2004</td>\n",
       "      <td>...</td>\n",
       "      <td>C/ Moralzarzal, 86</td>\n",
       "      <td>NaN</td>\n",
       "      <td>Madrid</td>\n",
       "      <td>NaN</td>\n",
       "      <td>28034</td>\n",
       "      <td>Spain</td>\n",
       "      <td>EMEA</td>\n",
       "      <td>Freyre</td>\n",
       "      <td>Diego</td>\n",
       "      <td>Small</td>\n",
       "    </tr>\n",
       "    <tr>\n",
       "      <th>2819</th>\n",
       "      <td>10373</td>\n",
       "      <td>29</td>\n",
       "      <td>100.00</td>\n",
       "      <td>1</td>\n",
       "      <td>3978.51</td>\n",
       "      <td>1/31/2005 0:00</td>\n",
       "      <td>Shipped</td>\n",
       "      <td>1</td>\n",
       "      <td>1</td>\n",
       "      <td>2005</td>\n",
       "      <td>...</td>\n",
       "      <td>Torikatu 38</td>\n",
       "      <td>NaN</td>\n",
       "      <td>Oulu</td>\n",
       "      <td>NaN</td>\n",
       "      <td>90110</td>\n",
       "      <td>Finland</td>\n",
       "      <td>EMEA</td>\n",
       "      <td>Koskitalo</td>\n",
       "      <td>Pirkko</td>\n",
       "      <td>Medium</td>\n",
       "    </tr>\n",
       "    <tr>\n",
       "      <th>2820</th>\n",
       "      <td>10386</td>\n",
       "      <td>43</td>\n",
       "      <td>100.00</td>\n",
       "      <td>4</td>\n",
       "      <td>5417.57</td>\n",
       "      <td>3/1/2005 0:00</td>\n",
       "      <td>Resolved</td>\n",
       "      <td>1</td>\n",
       "      <td>3</td>\n",
       "      <td>2005</td>\n",
       "      <td>...</td>\n",
       "      <td>C/ Moralzarzal, 86</td>\n",
       "      <td>NaN</td>\n",
       "      <td>Madrid</td>\n",
       "      <td>NaN</td>\n",
       "      <td>28034</td>\n",
       "      <td>Spain</td>\n",
       "      <td>EMEA</td>\n",
       "      <td>Freyre</td>\n",
       "      <td>Diego</td>\n",
       "      <td>Medium</td>\n",
       "    </tr>\n",
       "    <tr>\n",
       "      <th>2821</th>\n",
       "      <td>10397</td>\n",
       "      <td>34</td>\n",
       "      <td>62.24</td>\n",
       "      <td>1</td>\n",
       "      <td>2116.16</td>\n",
       "      <td>3/28/2005 0:00</td>\n",
       "      <td>Shipped</td>\n",
       "      <td>1</td>\n",
       "      <td>3</td>\n",
       "      <td>2005</td>\n",
       "      <td>...</td>\n",
       "      <td>1 rue Alsace-Lorraine</td>\n",
       "      <td>NaN</td>\n",
       "      <td>Toulouse</td>\n",
       "      <td>NaN</td>\n",
       "      <td>31000</td>\n",
       "      <td>France</td>\n",
       "      <td>EMEA</td>\n",
       "      <td>Roulet</td>\n",
       "      <td>Annette</td>\n",
       "      <td>Small</td>\n",
       "    </tr>\n",
       "    <tr>\n",
       "      <th>2822</th>\n",
       "      <td>10414</td>\n",
       "      <td>47</td>\n",
       "      <td>65.52</td>\n",
       "      <td>9</td>\n",
       "      <td>3079.44</td>\n",
       "      <td>5/6/2005 0:00</td>\n",
       "      <td>On Hold</td>\n",
       "      <td>2</td>\n",
       "      <td>5</td>\n",
       "      <td>2005</td>\n",
       "      <td>...</td>\n",
       "      <td>8616 Spinnaker Dr.</td>\n",
       "      <td>NaN</td>\n",
       "      <td>Boston</td>\n",
       "      <td>MA</td>\n",
       "      <td>51003</td>\n",
       "      <td>USA</td>\n",
       "      <td>NaN</td>\n",
       "      <td>Yoshido</td>\n",
       "      <td>Juri</td>\n",
       "      <td>Medium</td>\n",
       "    </tr>\n",
       "  </tbody>\n",
       "</table>\n",
       "<p>2823 rows × 25 columns</p>\n",
       "</div>"
      ],
      "text/plain": [
       "      ORDERNUMBER  QUANTITYORDERED  PRICEEACH  ORDERLINENUMBER    SALES  \\\n",
       "0           10107               30      95.70                2  2871.00   \n",
       "1           10121               34      81.35                5  2765.90   \n",
       "2           10134               41      94.74                2  3884.34   \n",
       "3           10145               45      83.26                6  3746.70   \n",
       "4           10159               49     100.00               14  5205.27   \n",
       "...           ...              ...        ...              ...      ...   \n",
       "2818        10350               20     100.00               15  2244.40   \n",
       "2819        10373               29     100.00                1  3978.51   \n",
       "2820        10386               43     100.00                4  5417.57   \n",
       "2821        10397               34      62.24                1  2116.16   \n",
       "2822        10414               47      65.52                9  3079.44   \n",
       "\n",
       "            ORDERDATE    STATUS  QTR_ID  MONTH_ID  YEAR_ID  ...  \\\n",
       "0      2/24/2003 0:00   Shipped       1         2     2003  ...   \n",
       "1       5/7/2003 0:00   Shipped       2         5     2003  ...   \n",
       "2       7/1/2003 0:00   Shipped       3         7     2003  ...   \n",
       "3      8/25/2003 0:00   Shipped       3         8     2003  ...   \n",
       "4     10/10/2003 0:00   Shipped       4        10     2003  ...   \n",
       "...               ...       ...     ...       ...      ...  ...   \n",
       "2818   12/2/2004 0:00   Shipped       4        12     2004  ...   \n",
       "2819   1/31/2005 0:00   Shipped       1         1     2005  ...   \n",
       "2820    3/1/2005 0:00  Resolved       1         3     2005  ...   \n",
       "2821   3/28/2005 0:00   Shipped       1         3     2005  ...   \n",
       "2822    5/6/2005 0:00   On Hold       2         5     2005  ...   \n",
       "\n",
       "                       ADDRESSLINE1  ADDRESSLINE2           CITY STATE  \\\n",
       "0           897 Long Airport Avenue           NaN            NYC    NY   \n",
       "1                59 rue de l'Abbaye           NaN          Reims   NaN   \n",
       "2     27 rue du Colonel Pierre Avia           NaN          Paris   NaN   \n",
       "3                78934 Hillside Dr.           NaN       Pasadena    CA   \n",
       "4                   7734 Strong St.           NaN  San Francisco    CA   \n",
       "...                             ...           ...            ...   ...   \n",
       "2818             C/ Moralzarzal, 86           NaN         Madrid   NaN   \n",
       "2819                    Torikatu 38           NaN           Oulu   NaN   \n",
       "2820             C/ Moralzarzal, 86           NaN         Madrid   NaN   \n",
       "2821          1 rue Alsace-Lorraine           NaN       Toulouse   NaN   \n",
       "2822             8616 Spinnaker Dr.           NaN         Boston    MA   \n",
       "\n",
       "     POSTALCODE  COUNTRY TERRITORY CONTACTLASTNAME CONTACTFIRSTNAME DEALSIZE  \n",
       "0         10022      USA       NaN              Yu             Kwai    Small  \n",
       "1         51100   France      EMEA         Henriot             Paul    Small  \n",
       "2         75508   France      EMEA        Da Cunha           Daniel   Medium  \n",
       "3         90003      USA       NaN           Young            Julie   Medium  \n",
       "4           NaN      USA       NaN           Brown            Julie   Medium  \n",
       "...         ...      ...       ...             ...              ...      ...  \n",
       "2818      28034    Spain      EMEA          Freyre            Diego    Small  \n",
       "2819      90110  Finland      EMEA       Koskitalo           Pirkko   Medium  \n",
       "2820      28034    Spain      EMEA          Freyre            Diego   Medium  \n",
       "2821      31000   France      EMEA          Roulet          Annette    Small  \n",
       "2822      51003      USA       NaN         Yoshido             Juri   Medium  \n",
       "\n",
       "[2823 rows x 25 columns]"
      ]
     },
     "execution_count": 2,
     "metadata": {},
     "output_type": "execute_result"
    }
   ],
   "source": [
    "# importing a dataset onto python\n",
    "df = pd.read_csv(\"D:/Z/Downloads/sales_data_sample.csv\", encoding='iso-8859-1')\n",
    "df"
   ]
  },
  {
   "cell_type": "markdown",
   "id": "0e77f0c5",
   "metadata": {},
   "source": [
    "# `Openpyxl`"
   ]
  },
  {
   "cell_type": "code",
   "execution_count": 3,
   "id": "b6aa8596",
   "metadata": {},
   "outputs": [],
   "source": [
    "# importing all the necessary libraries/modules\n",
    "import openpyxl"
   ]
  },
  {
   "cell_type": "markdown",
   "id": "a994fd68",
   "metadata": {},
   "source": [
    "**Instantiating an Excel Workbook**"
   ]
  },
  {
   "cell_type": "code",
   "execution_count": 4,
   "id": "20b6d8fc",
   "metadata": {},
   "outputs": [],
   "source": [
    "# creating a new workbook\n",
    "workbook = openpyxl.Workbook()\n",
    "\n",
    "# creating a new sheet and writing the data onto the specified sheet\n",
    "sheet = workbook.active\n",
    "\n",
    "# labelling the sheet\n",
    "sheet.title = 'Sales Data'"
   ]
  },
  {
   "cell_type": "markdown",
   "id": "94be59ec",
   "metadata": {},
   "source": [
    "**Assigning the headers in top row**"
   ]
  },
  {
   "cell_type": "code",
   "execution_count": 5,
   "id": "011da11d",
   "metadata": {},
   "outputs": [
    {
     "name": "stdout",
     "output_type": "stream",
     "text": [
      "['A1', 'B1', 'C1', 'D1', 'E1', 'F1', 'G1', 'H1', 'I1', 'J1', 'K1', 'L1', 'M1', 'N1', 'O1', 'P1', 'Q1', 'R1', 'S1', 'T1', 'U1', 'V1', 'W1', 'X1', 'Y1']\n"
     ]
    }
   ],
   "source": [
    "# Storing the name of all the columns in a list\n",
    "columns = list(df.columns)\n",
    "\n",
    "# storing the cell values where the values are to be appeneded\n",
    "header_cells = []\n",
    "\n",
    "# appending the values in the header_cells list\n",
    "for i in range(1, 26):\n",
    "    header_cells.append(f\"{chr(64 + i)}1\")\n",
    "\n",
    "print(header_cells)"
   ]
  },
  {
   "cell_type": "code",
   "execution_count": 6,
   "id": "231aa1f1",
   "metadata": {},
   "outputs": [],
   "source": [
    "# Assigning the header values to the cells\n",
    "for i in range(len(header_cells)):\n",
    "    sheet[header_cells[i]] = columns[i]"
   ]
  },
  {
   "cell_type": "markdown",
   "id": "2410701e",
   "metadata": {},
   "source": [
    "**formatting the cells**"
   ]
  },
  {
   "cell_type": "code",
   "execution_count": 7,
   "id": "6a322e7a",
   "metadata": {},
   "outputs": [],
   "source": [
    "from openpyxl.styles import Font, Alignment"
   ]
  },
  {
   "cell_type": "code",
   "execution_count": 8,
   "id": "50143b33",
   "metadata": {},
   "outputs": [],
   "source": [
    "# formatting the cells\n",
    "for i in range(len(header_cells)):\n",
    "    sheet[header_cells[i]].font = Font(bold = True)\n",
    "    sheet[header_cells[i]].alignment = Alignment(horizontal = 'center')"
   ]
  },
  {
   "cell_type": "code",
   "execution_count": 9,
   "id": "0fe16917",
   "metadata": {},
   "outputs": [],
   "source": [
    "# Save the workbook with the added data\n",
    "workbook.save('Sales Data.xlsx')"
   ]
  },
  {
   "cell_type": "markdown",
   "id": "0a08d704",
   "metadata": {},
   "source": [
    "**adding a sample of data into the excel sheet**"
   ]
  },
  {
   "cell_type": "code",
   "execution_count": 10,
   "id": "364b17ff",
   "metadata": {},
   "outputs": [],
   "source": [
    "# importing all the necessary libraries/modules\n",
    "from openpyxl import load_workbook"
   ]
  },
  {
   "cell_type": "code",
   "execution_count": 11,
   "id": "b25914ad",
   "metadata": {},
   "outputs": [],
   "source": [
    "# Loading the existing workbook\n",
    "workbook = load_workbook('Sales Data.xlsx')\n",
    "\n",
    "# Getting the active sheet\n",
    "sheet = workbook.active"
   ]
  },
  {
   "cell_type": "code",
   "execution_count": 12,
   "id": "bf29f61c",
   "metadata": {},
   "outputs": [],
   "source": [
    "# Randomly select 10% of the rows\n",
    "sampled_data = df.sample(frac=0.1, random_state=42) \n",
    "\n",
    "# Start writing data from the second row, below the headers\n",
    "start_row = sheet.max_row + 1\n",
    "\n",
    "# Iterating through the sampled data and write it to the sheet sequentially\n",
    "for _, row_data in sampled_data.iterrows():\n",
    "    sheet.append(list(row_data))\n",
    "\n",
    "# Formatting the cells\n",
    "for i in range(1, len(df.columns) + 1):\n",
    "    header_cell = sheet.cell(row=1, column=i)\n",
    "    header_cell.alignment = Alignment(horizontal='center')"
   ]
  },
  {
   "cell_type": "code",
   "execution_count": 13,
   "id": "f94f17b1",
   "metadata": {},
   "outputs": [],
   "source": [
    "# Save the workbook with the added data\n",
    "workbook.save('Sales Data.xlsx')"
   ]
  },
  {
   "cell_type": "markdown",
   "id": "c9b364b2",
   "metadata": {},
   "source": [
    "**creating a new sheet within the workbook**"
   ]
  },
  {
   "cell_type": "code",
   "execution_count": 14,
   "id": "321eaaf3",
   "metadata": {},
   "outputs": [],
   "source": [
    "from openpyxl import load_workbook"
   ]
  },
  {
   "cell_type": "code",
   "execution_count": 15,
   "id": "d018b808",
   "metadata": {},
   "outputs": [],
   "source": [
    "# Create a new sheet in the existing workbook\n",
    "sheet2 = workbook.create_sheet(title='Basic Analytics')"
   ]
  },
  {
   "cell_type": "markdown",
   "id": "4a874380",
   "metadata": {},
   "source": [
    "**Adding basic analytics on the data into the new sheet**"
   ]
  },
  {
   "cell_type": "code",
   "execution_count": 16,
   "id": "ed788572",
   "metadata": {},
   "outputs": [],
   "source": [
    "# storing the summary by pandas into a seperate dataframe\n",
    "summary_df = sampled_data.describe()"
   ]
  },
  {
   "cell_type": "code",
   "execution_count": 17,
   "id": "ae490bb2",
   "metadata": {},
   "outputs": [],
   "source": [
    "# Write the header row to the 'Basic Analytics' sheet\n",
    "header_row = [''] + list(summary_df.columns)\n",
    "sheet2.append(header_row)\n",
    "\n",
    "# Write the summary statistics to the new sheet\n",
    "for index, row in summary_df.iterrows():\n",
    "    row_data = [index] + row.tolist()\n",
    "    sheet2.append(row_data)\n",
    "\n",
    "# Format the cells\n",
    "for row in sheet2.iter_rows(min_row=1, max_row=1):\n",
    "    for cell in row:\n",
    "        cell.font = Font(bold=True)"
   ]
  },
  {
   "cell_type": "code",
   "execution_count": 18,
   "id": "637b745b",
   "metadata": {},
   "outputs": [],
   "source": [
    "# Save the workbook with the new 'Basic Analytics' sheet\n",
    "workbook.save('Sales Data.xlsx')"
   ]
  },
  {
   "cell_type": "markdown",
   "id": "c0e0c1fd",
   "metadata": {},
   "source": [
    "**creating charts on the basic analytics**"
   ]
  },
  {
   "cell_type": "code",
   "execution_count": 19,
   "id": "589bdc6f",
   "metadata": {},
   "outputs": [],
   "source": [
    "# Import the necessary libraries\n",
    "import matplotlib.pyplot as plt\n",
    "from openpyxl.utils.dataframe import dataframe_to_rows\n",
    "from io import BytesIO"
   ]
  },
  {
   "cell_type": "code",
   "execution_count": 20,
   "id": "9dd8319b",
   "metadata": {},
   "outputs": [
    {
     "data": {
      "image/png": "[encoded data removed]",
      "text/plain": [
       "<Figure size 800x600 with 1 Axes>"
      ]
     },
     "metadata": {},
     "output_type": "display_data"
    }
   ],
   "source": [
    "# Loading the existing workbook\n",
    "workbook = openpyxl.load_workbook('Sales Data.xlsx')\n",
    "\n",
    "# Creating a new sheet named 'Charts'\n",
    "sheet3 = workbook.create_sheet(title='Charts')\n",
    "\n",
    "# Loading the 'Sales Data' sheet\n",
    "sales_data_sheet = workbook['Sales Data']\n",
    "\n",
    "# defining the column names for visualization\n",
    "x_column = 'PRICEEACH'\n",
    "y_column = 'SALES'\n",
    "\n",
    "# Extracting the data from the 'Sales Data' sheet for the selected columns\n",
    "data = list(dataframe_to_rows(pd.read_excel('Sales Data.xlsx', sheet_name='Sales Data')))\n",
    "\n",
    "# Converting the data to a DataFrame\n",
    "df = pd.DataFrame(data[1:], columns=data[0])\n",
    "\n",
    "# Creating a scatter plot using the selected columns\n",
    "plt.figure(figsize=(8, 6))\n",
    "plt.scatter(df[x_column], df[y_column])\n",
    "plt.title(f'{x_column} vs. {y_column}')\n",
    "plt.xlabel(x_column)\n",
    "plt.ylabel(y_column)\n",
    "\n",
    "# Saving the chart as an image in memory\n",
    "img_buffer = BytesIO()\n",
    "plt.savefig(img_buffer, format='png')\n",
    "img_buffer.seek(0)\n",
    "\n",
    "# Adding the image to the 'Charts' sheet\n",
    "img = openpyxl.drawing.image.Image(img_buffer)\n",
    "sheet3.add_image(img, 'A1')"
   ]
  },
  {
   "cell_type": "code",
   "execution_count": 21,
   "id": "bd883fbd",
   "metadata": {},
   "outputs": [],
   "source": [
    "# Save the workbook with the new 'Charts' sheet and chart\n",
    "workbook.save('Sales Data.xlsx')"
   ]
  },
  {
   "cell_type": "markdown",
   "id": "1af11bd1",
   "metadata": {},
   "source": [
    "<hr>"
   ]
  }
 ],
 "metadata": {
  "kernelspec": {
   "display_name": "Python 3 (ipykernel)",
   "language": "python",
   "name": "python3"
  },
  "language_info": {
   "codemirror_mode": {
    "name": "ipython",
    "version": 3
   },
   "file_extension": ".py",
   "mimetype": "text/x-python",
   "name": "python",
   "nbconvert_exporter": "python",
   "pygments_lexer": "ipython3",
   "version": "3.11.5"
  }
 },
 "nbformat": 4,
 "nbformat_minor": 5
}
