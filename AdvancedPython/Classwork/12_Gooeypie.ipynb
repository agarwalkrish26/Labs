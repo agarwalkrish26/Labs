{
 "cells": [
  {
   "cell_type": "code",
   "execution_count": 1,
   "id": "8c90d94f",
   "metadata": {
    "scrolled": true
   },
   "outputs": [],
   "source": [
    "import gooeypie as gp"
   ]
  },
  {
   "cell_type": "code",
   "execution_count": 2,
   "id": "eb48a2b6",
   "metadata": {},
   "outputs": [],
   "source": [
    "# Initiating the GUI\n",
    "app = gp.GooeyPieApp(\"Hello\") # Hello is on the task bar\n",
    "app.run()"
   ]
  },
  {
   "cell_type": "code",
   "execution_count": 3,
   "id": "fc99a909",
   "metadata": {},
   "outputs": [],
   "source": [
    "app = gp.GooeyPieApp(\"Hello\") # Hello is on the task bar\n",
    "\n",
    "# Setting the width of the window\n",
    "app.width = 250\n",
    "app.height = 250\n",
    "\n",
    "# creating the widgets, button, labels, etc.\n",
    "\n",
    "hello_button = gp.Button(app, \"Click Me!\", None)\n",
    "hello_label = gp.Label(app, 'Yeet')\n",
    "\n",
    "# creating 2 widgets\n",
    "app.set_grid(4, 1) # 2 rows, 1 column\n",
    "app.add(hello_button, 2, 1, align='center') # row, column\n",
    "app.add(hello_label, 3, 1, align='center')\n",
    "\n",
    "app.run()"
   ]
  },
  {
   "cell_type": "code",
   "execution_count": null,
   "id": "83f75760",
   "metadata": {},
   "outputs": [],
   "source": []
  }
 ],
 "metadata": {
  "kernelspec": {
   "display_name": "Python 3 (ipykernel)",
   "language": "python",
   "name": "python3"
  },
  "language_info": {
   "codemirror_mode": {
    "name": "ipython",
    "version": 3
   },
   "file_extension": ".py",
   "mimetype": "text/x-python",
   "name": "python",
   "nbconvert_exporter": "python",
   "pygments_lexer": "ipython3",
   "version": "3.11.5"
  }
 },
 "nbformat": 4,
 "nbformat_minor": 5
}
