{
 "cells": [
  {
   "cell_type": "code",
   "execution_count": 17,
   "id": "f8a4b556",
   "metadata": {},
   "outputs": [],
   "source": [
    "# importing all the necessary libraries\n",
    "import tkinter as tk\n",
    "from tkinter import ttk\n",
    "from math import sin, cos, tan, log, sqrt"
   ]
  },
  {
   "cell_type": "code",
   "execution_count": 20,
   "id": "750186a8",
   "metadata": {},
   "outputs": [],
   "source": [
    "# user-defined function for factorization\n",
    "def factorization(number):\n",
    "    result = 1\n",
    "    for i in range(1, number+1):\n",
    "        result*=i\n",
    "    return result\n",
    "\n",
    "# user-defined function for evaluation\n",
    "def evaluate():\n",
    "    try:\n",
    "        # capturing the user input\n",
    "        expression = entry.get()\n",
    "        \n",
    "        # changes sin30 to sin(30) and similarly does the same to all other trignometric functions\n",
    "        if \"sin\" in expression:\n",
    "            expression = expression.replace('sin', 'sin(') + ')'\n",
    "        elif \"cos\" in expression:\n",
    "            expression = expression.replace('cos', 'cos(') + ')'\n",
    "        elif \"tan\" in expression:\n",
    "            expression = expression.replace('tan', 'tan(') + ')'\n",
    "        elif \"log\" in expression:\n",
    "            expression = expression.replace('log', 'log(') + ')'\n",
    "        elif \"sqrt\" in expression:\n",
    "            expression = expression.replace('sqrt', 'sqrt(') + ')'\n",
    "        elif \"factor\" in expression:\n",
    "            num = int(expression.split('factor')[1]) #exctract the number out of text\n",
    "            factors = factorization(num)\n",
    "            entry.delete(0, tk.END)\n",
    "            entry.insert(tk.END, str(factors))\n",
    "            return\n",
    "\n",
    "        result = eval(expression)\n",
    "        entry.delete(0, tk.END)\n",
    "        entry.insert(tk.END, str(result))\n",
    "        \n",
    "    except Exception as e:\n",
    "        entry.delete(0, tk.END)\n",
    "        entry.insert(tk.END, \"Error\")\n",
    "\n",
    "def clear():\n",
    "    entry.delete(0, tk.END)"
   ]
  },
  {
   "cell_type": "code",
   "execution_count": 23,
   "id": "db6ecaad",
   "metadata": {},
   "outputs": [],
   "source": [
    "# instantiating the tkinter window\n",
    "root = tk.Tk()\n",
    "root.title(\"Calculator\")\n",
    "\n",
    "# \n",
    "entry = ttk.Entry(root, width=40)\n",
    "entry.grid(row=0, column=0, columnspan=5)\n",
    "\n",
    "buttons = [\n",
    "    '7', '8', '9', '+', 'sin',\n",
    "    '4', '5', '6', '-', 'cos',\n",
    "    '1', '2', '3', '*', 'tan',\n",
    "    '0', '.', '=', '/', 'log',\n",
    "    '(', ')', 'C', 'sqrt', 'factor'\n",
    "]\n",
    "\n",
    "row_val = 1\n",
    "col_val = 0\n",
    "\n",
    "for button in buttons:\n",
    "    ttk.Button(root, text=button, command=lambda b=button: entry.insert(tk.END, b) if b not in ['=', 'C'] else evaluate() if b == '=' else clear()).grid(row=row_val, column=col_val)\n",
    "    col_val += 1\n",
    "    if col_val > 4:\n",
    "        col_val = 0\n",
    "        row_val += 1\n",
    "\n",
    "root.mainloop()"
   ]
  },
  {
   "cell_type": "code",
   "execution_count": null,
   "id": "a7ade8ae",
   "metadata": {},
   "outputs": [],
   "source": []
  }
 ],
 "metadata": {
  "kernelspec": {
   "display_name": "Python 3 (ipykernel)",
   "language": "python",
   "name": "python3"
  },
  "language_info": {
   "codemirror_mode": {
    "name": "ipython",
    "version": 3
   },
   "file_extension": ".py",
   "mimetype": "text/x-python",
   "name": "python",
   "nbconvert_exporter": "python",
   "pygments_lexer": "ipython3",
   "version": "3.11.5"
  }
 },
 "nbformat": 4,
 "nbformat_minor": 5
}
