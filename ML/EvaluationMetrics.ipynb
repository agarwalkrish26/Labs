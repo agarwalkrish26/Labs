{
 "cells": [
  {
   "cell_type": "markdown",
   "id": "a494abb7",
   "metadata": {},
   "source": [
    "# Lab 2: Understanding Preprocessing/Evaluation Metrics\n",
    "Name: **Krish Agarwal** <br>\n",
    "Reg No: **21112016** <br>\n",
    "Class: **4BSc DS A** <br>\n",
    "\n",
    "---------------"
   ]
  },
  {
   "cell_type": "markdown",
   "id": "df39415e",
   "metadata": {},
   "source": [
    "### `Objectives:`\n",
    "<br>\n",
    "\n",
    "1) From the attached file, load the three different sheets as \"df1\", \"df2\", and \"df3\" onto the memory of Jupyter Notebook, as Python DataFrames.  <br>\n",
    "2) Write the user defined functions for the implementation of following -  \n",
    "2.1) To find the measures of central tendency. Another function parameter can select what type of value should be returned.\n",
    "- Mean\n",
    "- Median\n",
    "- Mode\n",
    "2.2) To scale a list of Numerical Values between 0 and 1 (minimum and maximum will be respectively 0, and 1).  \n",
    "2.3) Given a number and a set of values (in a list), find the percentile of the number in that array set.  \n",
    "2.4) Given a set of values, categorise the datapoints into - LEFT_OUTLIER, MIN, Q1, Q2, Q3, MAX, RIGHT_OUTLIER, and plot the above values onto an axis.  \n",
    "2.5) Given two sets of values, find the correlation between them.  \n",
    "2.6)To encode and decode a Categorical Variable into a Numerical Representation.  \n",
    "2.7) To check the goodness of fit for the Regression Model using Evaluation Metrics. The evaluation metrics can be selected based on a parameter (\"R2\", \"MSE\", \"MAE\").  \n",
    "- R-Squared (R² or the coefficient of determination)\n",
    "- Mean Squared Error\n",
    "- Mean Absolute Error\n",
    "\n",
    "3) Make use of the above user-defined functions, and illustrate the results. In addition that, perform the below tasks -\n",
    "3.1) Test the User Defined Functions that you code for various functionalities, and verify its validity by comparing with functions in sklearn.preprocessing.  \n",
    "3.2) Find the percentile of the number \"last two digits of your register number + 10\" in df2.  \n",
    "3.3) Check whether the dataset size affects the values of Regression Evaluation Metrics.  \n",
    "3.4) Is there any relationship between the Squared Pearson Correlation Coefficient and R2 value?"
   ]
  },
  {
   "cell_type": "markdown",
   "id": "7c413ba3",
   "metadata": {},
   "source": [
    "### `Problem Definition: `\n",
    "Creating user-defined functions of already existing sci-kit pre-processing functions."
   ]
  },
  {
   "cell_type": "markdown",
   "id": "c5562f6f",
   "metadata": {},
   "source": [
    "### `Results:`  \n",
    "1. As the size of the dataset increases, the MAE also increases.  \n",
    "2. It can be seen that the square of correlation if almost equal to the R2 Score.  \n",
    "3. The user-defined functions and the in-built functions give the same results."
   ]
  },
  {
   "cell_type": "markdown",
   "id": "ebdb278e",
   "metadata": {},
   "source": [
    "### `References:  `\n",
    "1. Stack Overflow  \n",
    "2. Geeks for Geeks  \n",
    "3. scikit-learn API \n",
    "4. W3School\n",
    "5. Matplotlib API"
   ]
  },
  {
   "cell_type": "markdown",
   "id": "0d858892",
   "metadata": {},
   "source": [
    "### `Completion Status:`\n",
    "\n",
    "| Question Number | Status |\n",
    "| --- | --- |\n",
    "| 1 | Completed |\n",
    "| 2 | Completed |\n",
    "| 2.1 | Completed |\n",
    "| 2.2 | Completed |\n",
    "| 2.3 | Completed |\n",
    "| 2.4 | Completed |\n",
    "| 2.5 | Completed |\n",
    "| 2.6 | Completed |\n",
    "| 2.7.1 | Completed |\n",
    "| 2.7.2 | Completed |\n",
    "| 2.7.3 | Completed |\n",
    "| 3.1 | Completed |\n",
    "| 3.2 | Completed |\n",
    "| 3.3 | Completed |\n",
    "| 3.4 | Completed |"
   ]
  },
  {
   "cell_type": "markdown",
   "id": "19ddba35",
   "metadata": {},
   "source": [
    "## `Code:`"
   ]
  },
  {
   "cell_type": "markdown",
   "id": "e708042b",
   "metadata": {},
   "source": [
    "#### Q1)  From the attached file, load the three different sheets as \"df1\", \"df2\", and \"df3\" onto the memory of Jupyter Notebook, as Python DataFrames."
   ]
  },
  {
   "cell_type": "code",
   "execution_count": 49,
   "id": "1ea603bf",
   "metadata": {},
   "outputs": [],
   "source": [
    "# Importing all the necessary libraries/modules\n",
    "import pandas as pd\n",
    "import matplotlib.pyplot as plt\n",
    "import statistics\n",
    "import random\n",
    "import numpy\n",
    "from secrets import randbelow\n",
    "from sklearn.metrics import r2_score\n",
    "from sklearn.metrics import mean_squared_error\n",
    "from sklearn.metrics import mean_absolute_error"
   ]
  },
  {
   "cell_type": "code",
   "execution_count": 2,
   "id": "2af62793",
   "metadata": {},
   "outputs": [],
   "source": [
    "# --- Importing the datsets onto python ---\n",
    "\n",
    "df1 = pd.read_excel(\"D:/Z/Downloads/Lab2_UDF_Labs.xlsx\", sheet_name = 'Dataset1')\n",
    "df2 = pd.read_excel(\"D:/Z/Downloads/Lab2_UDF_Labs.xlsx\", sheet_name = 'Dataset2')\n",
    "df3 = pd.read_excel(\"D:/Z/Downloads/Lab2_UDF_Labs.xlsx\", sheet_name = 'Dataset3')"
   ]
  },
  {
   "cell_type": "code",
   "execution_count": 3,
   "id": "3f858c83",
   "metadata": {},
   "outputs": [
    {
     "data": {
      "text/html": [
       "<div>\n",
       "<style scoped>\n",
       "    .dataframe tbody tr th:only-of-type {\n",
       "        vertical-align: middle;\n",
       "    }\n",
       "\n",
       "    .dataframe tbody tr th {\n",
       "        vertical-align: top;\n",
       "    }\n",
       "\n",
       "    .dataframe thead th {\n",
       "        text-align: right;\n",
       "    }\n",
       "</style>\n",
       "<table border=\"1\" class=\"dataframe\">\n",
       "  <thead>\n",
       "    <tr style=\"text-align: right;\">\n",
       "      <th></th>\n",
       "      <th>True_Value</th>\n",
       "      <th>Predicted_Value</th>\n",
       "    </tr>\n",
       "  </thead>\n",
       "  <tbody>\n",
       "    <tr>\n",
       "      <th>0</th>\n",
       "      <td>10</td>\n",
       "      <td>10</td>\n",
       "    </tr>\n",
       "    <tr>\n",
       "      <th>1</th>\n",
       "      <td>17</td>\n",
       "      <td>17</td>\n",
       "    </tr>\n",
       "    <tr>\n",
       "      <th>2</th>\n",
       "      <td>26</td>\n",
       "      <td>24</td>\n",
       "    </tr>\n",
       "    <tr>\n",
       "      <th>3</th>\n",
       "      <td>30</td>\n",
       "      <td>31</td>\n",
       "    </tr>\n",
       "    <tr>\n",
       "      <th>4</th>\n",
       "      <td>31</td>\n",
       "      <td>31</td>\n",
       "    </tr>\n",
       "  </tbody>\n",
       "</table>\n",
       "</div>"
      ],
      "text/plain": [
       "   True_Value  Predicted_Value\n",
       "0          10               10\n",
       "1          17               17\n",
       "2          26               24\n",
       "3          30               31\n",
       "4          31               31"
      ]
     },
     "execution_count": 3,
     "metadata": {},
     "output_type": "execute_result"
    }
   ],
   "source": [
    "df1.head()"
   ]
  },
  {
   "cell_type": "code",
   "execution_count": 4,
   "id": "4713b2f7",
   "metadata": {},
   "outputs": [
    {
     "data": {
      "text/html": [
       "<div>\n",
       "<style scoped>\n",
       "    .dataframe tbody tr th:only-of-type {\n",
       "        vertical-align: middle;\n",
       "    }\n",
       "\n",
       "    .dataframe tbody tr th {\n",
       "        vertical-align: top;\n",
       "    }\n",
       "\n",
       "    .dataframe thead th {\n",
       "        text-align: right;\n",
       "    }\n",
       "</style>\n",
       "<table border=\"1\" class=\"dataframe\">\n",
       "  <thead>\n",
       "    <tr style=\"text-align: right;\">\n",
       "      <th></th>\n",
       "      <th>True_Value</th>\n",
       "      <th>Predicted_Value</th>\n",
       "    </tr>\n",
       "  </thead>\n",
       "  <tbody>\n",
       "    <tr>\n",
       "      <th>0</th>\n",
       "      <td>10</td>\n",
       "      <td>10</td>\n",
       "    </tr>\n",
       "    <tr>\n",
       "      <th>1</th>\n",
       "      <td>16</td>\n",
       "      <td>17</td>\n",
       "    </tr>\n",
       "    <tr>\n",
       "      <th>2</th>\n",
       "      <td>17</td>\n",
       "      <td>17</td>\n",
       "    </tr>\n",
       "    <tr>\n",
       "      <th>3</th>\n",
       "      <td>20</td>\n",
       "      <td>19</td>\n",
       "    </tr>\n",
       "    <tr>\n",
       "      <th>4</th>\n",
       "      <td>26</td>\n",
       "      <td>24</td>\n",
       "    </tr>\n",
       "  </tbody>\n",
       "</table>\n",
       "</div>"
      ],
      "text/plain": [
       "   True_Value  Predicted_Value\n",
       "0          10               10\n",
       "1          16               17\n",
       "2          17               17\n",
       "3          20               19\n",
       "4          26               24"
      ]
     },
     "execution_count": 4,
     "metadata": {},
     "output_type": "execute_result"
    }
   ],
   "source": [
    "df2.head()"
   ]
  },
  {
   "cell_type": "code",
   "execution_count": 5,
   "id": "7e11a6bc",
   "metadata": {},
   "outputs": [
    {
     "data": {
      "text/html": [
       "<div>\n",
       "<style scoped>\n",
       "    .dataframe tbody tr th:only-of-type {\n",
       "        vertical-align: middle;\n",
       "    }\n",
       "\n",
       "    .dataframe tbody tr th {\n",
       "        vertical-align: top;\n",
       "    }\n",
       "\n",
       "    .dataframe thead th {\n",
       "        text-align: right;\n",
       "    }\n",
       "</style>\n",
       "<table border=\"1\" class=\"dataframe\">\n",
       "  <thead>\n",
       "    <tr style=\"text-align: right;\">\n",
       "      <th></th>\n",
       "      <th>True_Value</th>\n",
       "      <th>Result</th>\n",
       "      <th>Predicted_Value</th>\n",
       "    </tr>\n",
       "  </thead>\n",
       "  <tbody>\n",
       "    <tr>\n",
       "      <th>0</th>\n",
       "      <td>10</td>\n",
       "      <td>Fail</td>\n",
       "      <td>10</td>\n",
       "    </tr>\n",
       "    <tr>\n",
       "      <th>1</th>\n",
       "      <td>16</td>\n",
       "      <td>Fail</td>\n",
       "      <td>17</td>\n",
       "    </tr>\n",
       "    <tr>\n",
       "      <th>2</th>\n",
       "      <td>17</td>\n",
       "      <td>Fail</td>\n",
       "      <td>17</td>\n",
       "    </tr>\n",
       "    <tr>\n",
       "      <th>3</th>\n",
       "      <td>20</td>\n",
       "      <td>Fail</td>\n",
       "      <td>19</td>\n",
       "    </tr>\n",
       "    <tr>\n",
       "      <th>4</th>\n",
       "      <td>26</td>\n",
       "      <td>Fail</td>\n",
       "      <td>24</td>\n",
       "    </tr>\n",
       "  </tbody>\n",
       "</table>\n",
       "</div>"
      ],
      "text/plain": [
       "   True_Value Result  Predicted_Value\n",
       "0          10   Fail               10\n",
       "1          16   Fail               17\n",
       "2          17   Fail               17\n",
       "3          20   Fail               19\n",
       "4          26   Fail               24"
      ]
     },
     "execution_count": 5,
     "metadata": {},
     "output_type": "execute_result"
    }
   ],
   "source": [
    "df3.head()"
   ]
  },
  {
   "cell_type": "markdown",
   "id": "ecc5f731",
   "metadata": {},
   "source": [
    "#### Q2.1) To find the measures of central tendency. Another function parameter can select what type of value should be returned.  \n",
    "- Mean\n",
    "- Median\n",
    "- Mode"
   ]
  },
  {
   "cell_type": "code",
   "execution_count": 6,
   "id": "e99c4da4",
   "metadata": {},
   "outputs": [],
   "source": [
    "# --- Bubble sort to sort an array ---\n",
    "def bubbleSort(array):\n",
    "    \n",
    "    array_ = array\n",
    "    length = len(array_)\n",
    "    for i in range(0, length):\n",
    "        for j in range(0, length-i-1):\n",
    "            \n",
    "            if array_[j] > array_[j+1]:\n",
    "                \n",
    "                temp = array_[j]\n",
    "                array_[j] = array_[j+1]\n",
    "                array_[j+1] = temp\n",
    "    return array_"
   ]
  },
  {
   "cell_type": "code",
   "execution_count": 7,
   "id": "5484bc43",
   "metadata": {},
   "outputs": [],
   "source": [
    "# --- Count of occurence of each element in a list ---\n",
    "def countUnique(unique_list, array):\n",
    "    count_unique = {}\n",
    "    \n",
    "    for i in range(len(unique_list)):\n",
    "        k = 0\n",
    "        for j in range(len(array)):\n",
    "            if array[j] == unique_list[i]:\n",
    "                k += 1\n",
    "        count_unique[unique_list[i]] = k\n",
    "    return count_unique"
   ]
  },
  {
   "cell_type": "code",
   "execution_count": 8,
   "id": "3ed3f52c",
   "metadata": {},
   "outputs": [],
   "source": [
    "def cenTen(array, cen_ten):\n",
    "    \n",
    "    if (cen_ten == \"Mean\") or (cen_ten == \"mean\"):\n",
    "        mean = 0\n",
    "        for i in range(len(array)):\n",
    "            mean += array[i]\n",
    "        mean /= len(array)\n",
    "        return mean\n",
    "        \n",
    "    elif (cen_ten == \"Median\") or (cen_ten == \"median\"):\n",
    "        median = 0\n",
    "        col = array\n",
    "        col = bubbleSort(col)\n",
    "        \n",
    "        if (len(col) % 2) == 0:\n",
    "            mid_num = int(len(col)/2 - 1)\n",
    "            next_num = int((len(col)/2))\n",
    "            median = (col[mid_num] + col[next_num]) / 2\n",
    "            \n",
    "        else:\n",
    "            mid_num = (len(col)+1)/2 - 1\n",
    "            median = col[mid_num]\n",
    "        return median\n",
    "            \n",
    "    else:\n",
    "        list_unique = []\n",
    "        for item in array: \n",
    "            if item not in list_unique: \n",
    "                list_unique.append(item) \n",
    "                \n",
    "        dict_ = countUnique(list_unique, array)\n",
    "        mode = 0\n",
    "        \n",
    "        for key in dict_:\n",
    "            value = dict_[key]\n",
    "            if value>mode:\n",
    "                mode = value\n",
    "        mode = [i for i in dict_ if dict_[i]==mode]\n",
    "        return mode[0]"
   ]
  },
  {
   "cell_type": "markdown",
   "id": "61304df2",
   "metadata": {},
   "source": [
    "#### Q2.2) To scale a list of Numerical Values between 0 and 1 (minimum and maximum will be respectively 0, and 1)  <br>\n",
    "*Formula* : x_new = x - Min / Max - Min"
   ]
  },
  {
   "cell_type": "code",
   "execution_count": 9,
   "id": "9587a5b3",
   "metadata": {},
   "outputs": [],
   "source": [
    "def scale(array, scale):\n",
    "    array_new = []\n",
    "    for i in range(len(array)):\n",
    "        array_new.append(((array[i] - min(array))/(max(array)-min(array)))*scale)\n",
    "    return array_new"
   ]
  },
  {
   "cell_type": "markdown",
   "id": "0f20435c",
   "metadata": {},
   "source": [
    "#### Q2.3) Given a number and a set of values (in a list), find the percentile of the number in that array set.  \n",
    "<br>\n",
    "Percentile = (Number of Values Below “x” / Total Number of Values) × 100"
   ]
  },
  {
   "cell_type": "code",
   "execution_count": 81,
   "id": "c154368b",
   "metadata": {},
   "outputs": [],
   "source": [
    "def percentile(array):\n",
    "    array_ = bubbleSort(array)\n",
    "    array_new = []\n",
    "    dict_new = {}\n",
    "    \n",
    "    for i in range(len(array_)):\n",
    "        array_new.append(round(((len(array_[:i]))/len(array_))*100))\n",
    "        dict_new[array_[i]] = array_new[i]\n",
    "    \n",
    "    return dict_new"
   ]
  },
  {
   "cell_type": "code",
   "execution_count": 82,
   "id": "b4d2be11",
   "metadata": {},
   "outputs": [
    {
     "data": {
      "text/plain": [
       "{1: 0, 2: 6, 3: 18, 4: 53, 5: 88, 6: 94}"
      ]
     },
     "execution_count": 82,
     "metadata": {},
     "output_type": "execute_result"
    }
   ],
   "source": [
    "# --- Testing Percentile ---\n",
    "set1 = [1, 5, 5, 5, 5, 2, 3, 3, 4, 4, 4, 5, 5, 6, 4, 4, 4]\n",
    "percentile(set1)"
   ]
  },
  {
   "cell_type": "markdown",
   "id": "42967c18",
   "metadata": {},
   "source": [
    "#### Q2.4) Given a set of values, categorise the datapoints into - LEFT_OUTLIER, MIN, Q1, Q2, Q3, MAX, RIGHT_OUTLIER, and plot the above values onto an axis"
   ]
  },
  {
   "cell_type": "code",
   "execution_count": 112,
   "id": "c0af4a5f",
   "metadata": {},
   "outputs": [],
   "source": [
    "def boxPlot(array):\n",
    "    array_ = bubbleSort(array)\n",
    "    print(array_)\n",
    "    \n",
    "    q1 = array[(len(array_)+1)//4]\n",
    "    q2 = array[(len(array_)+1)//2]\n",
    "    q3 = array[(3*(len(array_)+1))//4]\n",
    "    iqr = q3 - q1\n",
    "    minimum = q1 - (iqr*1.5)\n",
    "    maximum = q3 + (iqr*1.5)\n",
    "    \n",
    "    if max(array_)<maximum:\n",
    "        maximum = max(array_)\n",
    "    \n",
    "    if min(array_)>minimum:\n",
    "        minimum = min(array_)\n",
    "        \n",
    "    left_outlier = []\n",
    "    right_outlier = []\n",
    "    \n",
    "    for i in range(len(array_)):\n",
    "        if array_[i] < minimum:\n",
    "            left_outlier.append(array_[i])\n",
    "        if array_[i] > maximum:\n",
    "            right_outlier.append(array_[i])\n",
    "            \n",
    "    left_y = [0] * len(left_outlier)\n",
    "    right_y = [0] * len(right_outlier)\n",
    "    \n",
    "    print(\"\\nMinimum:\", minimum, \"\\nQ1:\", q1, \"\\nQ2:\", q2, \"\\nQ3:\", q3, \"\\nMaximum:\", maximum)\n",
    "    print(\"\\nLeft Outilers (magenta):\", left_outlier, \"\\nRight Outliers (magenta):\", right_outlier)\n",
    "        \n",
    "    values = [minimum, q1, q2, q3, maximum]\n",
    "    labels = [0, 0, 0, 0, 0]\n",
    "    fig = plt.scatter(x = values, y = labels, color = ['black', 'blue', 'red', 'blue', 'black'])\n",
    "    fig2 = plt.scatter(x = left_outlier, y = left_y, color = 'magenta')\n",
    "    fig3 = plt.scatter(x = right_outlier, y = right_y, color = 'magenta')"
   ]
  },
  {
   "cell_type": "code",
   "execution_count": 113,
   "id": "7a4aa3e2",
   "metadata": {},
   "outputs": [
    {
     "name": "stdout",
     "output_type": "stream",
     "text": [
      "[10, 17, 26, 30, 31, 32, 35, 36, 38, 39, 40, 40, 42, 44, 48]\n",
      "\n",
      "Minimum: 14.5 \n",
      "Q1: 31 \n",
      "Q2: 38 \n",
      "Q3: 42 \n",
      "Maximum: 48\n",
      "\n",
      "Left Outilers (magenta): [10] \n",
      "Right Outliers (magenta): []\n"
     ]
    },
    {
     "data": {
      "image/png": "[encoded data removed]",
      "text/plain": [
       "<Figure size 640x480 with 1 Axes>"
      ]
     },
     "metadata": {},
     "output_type": "display_data"
    }
   ],
   "source": [
    "boxPlot(df1['True_Value'].to_list())"
   ]
  },
  {
   "cell_type": "markdown",
   "id": "a3038c74",
   "metadata": {},
   "source": [
    "#### Q2.5) Given two sets of values, find the correlation between them"
   ]
  },
  {
   "cell_type": "code",
   "execution_count": 66,
   "id": "cad6eccb",
   "metadata": {},
   "outputs": [],
   "source": [
    "def correlation(array1, array2):\n",
    "    mean_arr1 = cenTen(array1, \"mean\")\n",
    "    mean_arr2 = cenTen(array2, \"mean\")\n",
    "    \n",
    "    numerator = 0\n",
    "    denominator1 = 0\n",
    "    denominator2 = 0\n",
    "    for i in range(len(array1)):\n",
    "        numerator += (array1[i] - mean_arr1)*(array2[i] - mean_arr2)\n",
    "        denominator1 += (array1[i] - mean_arr1)**2\n",
    "        denominator2 += (array2[i] - mean_arr2)**2\n",
    "        \n",
    "    denominator = ((denominator1)*(denominator2))**(1/2)\n",
    "    correlation = (numerator/denominator)\n",
    "    \n",
    "    return correlation"
   ]
  },
  {
   "cell_type": "code",
   "execution_count": 67,
   "id": "2668dba1",
   "metadata": {},
   "outputs": [],
   "source": [
    "# --- Testing Correlation ---\n",
    "set1 = [1, 5, 5, 5, 5, 2, 3, 3, 4, 4, 4, 5, 5, 6, 4, 4, 4]\n",
    "set2 = [3, 3, 4, 4, 4, 5, 5, 6, 4, 4, 4, 1, 5, 5, 5, 5, 2]"
   ]
  },
  {
   "cell_type": "code",
   "execution_count": 68,
   "id": "0446d5c2",
   "metadata": {},
   "outputs": [
    {
     "data": {
      "text/plain": [
       "-0.12264150943396238"
      ]
     },
     "execution_count": 68,
     "metadata": {},
     "output_type": "execute_result"
    }
   ],
   "source": [
    "correlation(set1, set2)"
   ]
  },
  {
   "cell_type": "code",
   "execution_count": 69,
   "id": "6382386c",
   "metadata": {},
   "outputs": [
    {
     "data": {
      "text/plain": [
       "array([[ 1.        , -0.12264151],\n",
       "       [-0.12264151,  1.        ]])"
      ]
     },
     "execution_count": 69,
     "metadata": {},
     "output_type": "execute_result"
    }
   ],
   "source": [
    "numpy.corrcoef(set1,set2)"
   ]
  },
  {
   "cell_type": "markdown",
   "id": "3ed8ce15",
   "metadata": {},
   "source": [
    "The user-defined function and the in-built function give the same results"
   ]
  },
  {
   "cell_type": "markdown",
   "id": "2bf6270f",
   "metadata": {},
   "source": [
    "#### Q2.6) To encode and decode a Categorical Variable into a Numerical Representation."
   ]
  },
  {
   "cell_type": "code",
   "execution_count": 18,
   "id": "6343d8f8",
   "metadata": {},
   "outputs": [],
   "source": [
    "def encodeCat(arr):\n",
    "    array = arr.copy()\n",
    "    list_unique = []\n",
    "    for item in array: \n",
    "        if item not in list_unique: \n",
    "            list_unique.append(item) \n",
    "            \n",
    "    list_unique.sort()\n",
    "    \n",
    "    range_ = []\n",
    "    for i in range(len(list_unique)):\n",
    "        range_.append(i)\n",
    "        \n",
    "    for i in range(len(list_unique)):\n",
    "        for j in range(len(array)):\n",
    "            if array[j] == list_unique[i]:\n",
    "                array[j] = range_[i]\n",
    "    return array"
   ]
  },
  {
   "cell_type": "code",
   "execution_count": 19,
   "id": "fab9ec92",
   "metadata": {},
   "outputs": [],
   "source": [
    "def decodeCat(arr, categories):\n",
    "    array = arr.copy()\n",
    "    list_unique = []\n",
    "    for item in array: \n",
    "        if item not in list_unique: \n",
    "            list_unique.append(item) \n",
    "            \n",
    "    list_unique.sort()\n",
    "    categories.sort()\n",
    "    \n",
    "    for i in range(len(list_unique)):\n",
    "        for j in range(len(array)):\n",
    "            if array[j] == list_unique[i]:\n",
    "                array[j] = categories[i]\n",
    "    return array"
   ]
  },
  {
   "cell_type": "markdown",
   "id": "83574818",
   "metadata": {},
   "source": [
    "#### Q2.7) To check the goodness of fit for the Regression Model using Evaluation Metrics. The evaluation metrics can be selected based on a parameter (\"R2\", \"MSE\", \"MAE\").\n",
    "- R-Squared (R² or the coefficient of determination)\n",
    "- Mean Squared Error\n",
    "- Mean Absolute Error"
   ]
  },
  {
   "cell_type": "code",
   "execution_count": 20,
   "id": "0366bc48",
   "metadata": {},
   "outputs": [],
   "source": [
    "def evaluationMetrics(true_arr, predicted_arr, type_of_metric):\n",
    "    if type_of_metric == \"R2\":\n",
    "        true_arr_mean = cenTen(true_arr, \"mean\")\n",
    "        SSR = 0\n",
    "        SST = 0\n",
    "        \n",
    "        for i in range(len(true_arr)):\n",
    "            SSR += (true_arr[i] - predicted_arr[i])**2\n",
    "            SST += (true_arr[i] - true_arr_mean)**2\n",
    "            \n",
    "        r2_score = 1 - (SSR/SST)\n",
    "        return r2_score\n",
    "        \n",
    "    if type_of_metric == \"MSE\":\n",
    "        mse = 0\n",
    "        \n",
    "        for i in range(len(true_arr)):\n",
    "            mse += (true_arr[i] - predicted_arr[i])**2\n",
    "            \n",
    "        mse /= len(true_arr)\n",
    "        return mse\n",
    "    \n",
    "    if type_of_metric == \"MAE\":\n",
    "        mae = 0\n",
    "        \n",
    "        for i in range(len(true_arr)):\n",
    "            mae += abs((predicted_arr[i] - true_arr[i]))\n",
    "            \n",
    "        mae /= len(true_arr)\n",
    "        return mae"
   ]
  },
  {
   "cell_type": "markdown",
   "id": "2bc4002f",
   "metadata": {},
   "source": [
    "#### Q3.1) Test the User Defined Functions that you code for various functionalities, and verify its validity by comparing with functions in sklearn.preprocessing "
   ]
  },
  {
   "cell_type": "code",
   "execution_count": 50,
   "id": "e9d2afb6",
   "metadata": {},
   "outputs": [
    {
     "name": "stdout",
     "output_type": "stream",
     "text": [
      "The user-defined function and the in-built function give the same results: True\n"
     ]
    }
   ],
   "source": [
    "# --- Testing Mean ---\n",
    "mean_mct = cenTen(df3[\"Predicted_Value\"].to_list(), \"mean\")\n",
    "mean_ = df3[\"Predicted_Value\"].mean()\n",
    "\n",
    "print(\"The user-defined function and the in-built function give the same results:\", mean_mct == mean_)"
   ]
  },
  {
   "cell_type": "code",
   "execution_count": 51,
   "id": "69838bc0",
   "metadata": {},
   "outputs": [
    {
     "name": "stdout",
     "output_type": "stream",
     "text": [
      "The user-defined function and the in-built function give the same results: True\n"
     ]
    }
   ],
   "source": [
    "# --- Testing Median ---\n",
    "median_mct = cenTen(df2[\"True_Value\"].to_list(), \"median\")\n",
    "median_ = statistics.median(df2[\"True_Value\"])\n",
    "\n",
    "print(\"The user-defined function and the in-built function give the same results:\", median_mct == median_)"
   ]
  },
  {
   "cell_type": "code",
   "execution_count": 52,
   "id": "39ee051f",
   "metadata": {},
   "outputs": [
    {
     "name": "stdout",
     "output_type": "stream",
     "text": [
      "The user-defined function and the in-built function give the same results: True\n"
     ]
    }
   ],
   "source": [
    "# --- Testing Mode ---\n",
    "mode_mct = cenTen(df2[\"True_Value\"].to_list(), \"mode\")\n",
    "mode_ = statistics.mode(df2[\"True_Value\"])\n",
    "\n",
    "print(\"The user-defined function and the in-built function give the same results:\", mode_mct == mode_)"
   ]
  },
  {
   "cell_type": "code",
   "execution_count": 24,
   "id": "80084caf",
   "metadata": {},
   "outputs": [],
   "source": [
    "# --- Testing Encoding --- \n",
    "list1 = ['Car', 'Car', 'Bike', 'Activa', 'Activa', 'Bike', 'Bike']\n",
    "list2 = [2, 2, 1, 0, 0, 1, 1]"
   ]
  },
  {
   "cell_type": "code",
   "execution_count": 25,
   "id": "8be49995",
   "metadata": {},
   "outputs": [
    {
     "data": {
      "text/plain": [
       "[2, 2, 1, 0, 0, 1, 1]"
      ]
     },
     "execution_count": 25,
     "metadata": {},
     "output_type": "execute_result"
    }
   ],
   "source": [
    "encodeCat(list1)"
   ]
  },
  {
   "cell_type": "code",
   "execution_count": 26,
   "id": "62c4c69f",
   "metadata": {},
   "outputs": [
    {
     "data": {
      "text/plain": [
       "['Car', 'Car', 'Bike', 'Activa', 'Activa', 'Bike', 'Bike']"
      ]
     },
     "execution_count": 26,
     "metadata": {},
     "output_type": "execute_result"
    }
   ],
   "source": [
    "decodeCat(list1, ['Car', 'Bike', 'Activa'])"
   ]
  },
  {
   "cell_type": "code",
   "execution_count": 27,
   "id": "1adaba96",
   "metadata": {},
   "outputs": [
    {
     "data": {
      "text/plain": [
       "[0.0,\n",
       " 79.2,\n",
       " 79.2,\n",
       " 79.2,\n",
       " 79.2,\n",
       " 19.8,\n",
       " 39.6,\n",
       " 39.6,\n",
       " 59.4,\n",
       " 59.4,\n",
       " 59.4,\n",
       " 79.2,\n",
       " 79.2,\n",
       " 99.0,\n",
       " 59.4,\n",
       " 59.4,\n",
       " 59.4]"
      ]
     },
     "execution_count": 27,
     "metadata": {},
     "output_type": "execute_result"
    }
   ],
   "source": [
    "# --- Testing Scaling ---\n",
    "set1 = [1, 5, 5, 5, 5, 2, 3, 3, 4, 4, 4, 5, 5, 6, 4, 4, 4]\n",
    "scale_ = scale(set1, 99)\n",
    "scale_"
   ]
  },
  {
   "cell_type": "code",
   "execution_count": 37,
   "id": "ea2d452f",
   "metadata": {},
   "outputs": [
    {
     "name": "stdout",
     "output_type": "stream",
     "text": [
      "The user-defined function and the in-built function give the same results: True\n"
     ]
    }
   ],
   "source": [
    "# --- Testing R2 Score \n",
    "r2_score_func = evaluationMetrics(df1['True_Value'].to_list(), df1['Predicted_Value'].to_list(), \"R2\")\n",
    "r2 = r2_score(df1['True_Value'], df1['Predicted_Value'])\n",
    "\n",
    "print(\"The user-defined function and the in-built function give the same results:\", r2_score_func == r2)"
   ]
  },
  {
   "cell_type": "code",
   "execution_count": 38,
   "id": "9bf68553",
   "metadata": {},
   "outputs": [
    {
     "name": "stdout",
     "output_type": "stream",
     "text": [
      "The user-defined function and the in-built function give the same results: True\n"
     ]
    }
   ],
   "source": [
    "# --- Testing MSE ---\n",
    "mse_func = evaluationMetrics(df2['True_Value'].to_list(), df2['Predicted_Value'].to_list(), \"MSE\")\n",
    "mse = mean_squared_error(df2['True_Value'], df2['Predicted_Value'])\n",
    "\n",
    "print(\"The user-defined function and the in-built function give the same results:\", mse_func == mse)"
   ]
  },
  {
   "cell_type": "code",
   "execution_count": 39,
   "id": "d48f5ea0",
   "metadata": {},
   "outputs": [
    {
     "name": "stdout",
     "output_type": "stream",
     "text": [
      "The user-defined function and the in-built function give the same results: True\n"
     ]
    }
   ],
   "source": [
    "# --- Testing MAE ---\n",
    "mae_func = evaluationMetrics(df3['True_Value'].to_list(), df3['Predicted_Value'].to_list(), \"MAE\")\n",
    "mae = mean_absolute_error(df3['True_Value'], df3['Predicted_Value'])\n",
    "\n",
    "print(\"The user-defined function and the in-built function give the same results:\", mae_func == mae)"
   ]
  },
  {
   "cell_type": "markdown",
   "id": "55e7a5b4",
   "metadata": {},
   "source": [
    "#### Q3.2) Find the percentile of the number \"last two digits of your register number + 10\" in df2."
   ]
  },
  {
   "cell_type": "code",
   "execution_count": 83,
   "id": "9c14cdae",
   "metadata": {},
   "outputs": [
    {
     "data": {
      "text/plain": [
       "{10: 0,\n",
       " 16: 3,\n",
       " 17: 6,\n",
       " 20: 10,\n",
       " 26: 16,\n",
       " 28: 19,\n",
       " 30: 23,\n",
       " 31: 29,\n",
       " 32: 35,\n",
       " 34: 39,\n",
       " 35: 42,\n",
       " 36: 48,\n",
       " 37: 52,\n",
       " 38: 58,\n",
       " 39: 65,\n",
       " 40: 74,\n",
       " 41: 77,\n",
       " 42: 84,\n",
       " 44: 87,\n",
       " 46: 90,\n",
       " 48: 94,\n",
       " 49: 97}"
      ]
     },
     "execution_count": 83,
     "metadata": {},
     "output_type": "execute_result"
    }
   ],
   "source": [
    "perc_list1 = list(df2['True_Value'])\n",
    "perc_list1.append(26) # 16(register number) + 10 = 26\n",
    "\n",
    "percentile(perc_list1)"
   ]
  },
  {
   "cell_type": "code",
   "execution_count": 84,
   "id": "98cdbe09",
   "metadata": {},
   "outputs": [
    {
     "data": {
      "text/plain": [
       "{10: 0,\n",
       " 16: 3,\n",
       " 17: 6,\n",
       " 20: 10,\n",
       " 26: 16,\n",
       " 28: 19,\n",
       " 30: 23,\n",
       " 31: 29,\n",
       " 32: 35,\n",
       " 34: 39,\n",
       " 35: 42,\n",
       " 36: 48,\n",
       " 37: 52,\n",
       " 38: 58,\n",
       " 39: 65,\n",
       " 40: 74,\n",
       " 41: 77,\n",
       " 42: 84,\n",
       " 44: 87,\n",
       " 46: 90,\n",
       " 48: 94,\n",
       " 49: 97}"
      ]
     },
     "execution_count": 84,
     "metadata": {},
     "output_type": "execute_result"
    }
   ],
   "source": [
    "perc_list2 = list(df2['True_Value'])\n",
    "perc_list2.append(26) # 16(register number) + 10 = 26\n",
    "\n",
    "percentile(perc_list2)"
   ]
  },
  {
   "cell_type": "markdown",
   "id": "5afd9e82",
   "metadata": {},
   "source": [
    "#### Q3.3) Check whether the dataset size affects the values of Regression Evaluation Metrics"
   ]
  },
  {
   "cell_type": "code",
   "execution_count": 34,
   "id": "495ea926",
   "metadata": {},
   "outputs": [],
   "source": [
    "# Creating a user-defined function to generate a list of random numbers within a range\n",
    "def Rand(start, end, num):\n",
    "    res = []\n",
    " \n",
    "    for j in range(num):\n",
    "        res.append(random.randint(start, end))\n",
    " \n",
    "    return res"
   ]
  },
  {
   "cell_type": "code",
   "execution_count": 80,
   "id": "265a5783",
   "metadata": {},
   "outputs": [
    {
     "name": "stdout",
     "output_type": "stream",
     "text": [
      "MAE of df1: 0.8666666666666667\n",
      "MAE df2: 0.9\n"
     ]
    }
   ],
   "source": [
    "print(\"MAE of df1:\", evaluationMetrics(df1['True_Value'].to_list(), df1['Predicted_Value'].to_list(), \"MAE\"))\n",
    "print(\"MAE df2:\", evaluationMetrics(df2['True_Value'].to_list(), df2['Predicted_Value'].to_list(), \"MAE\"))"
   ]
  },
  {
   "cell_type": "markdown",
   "id": "eb303d28",
   "metadata": {},
   "source": [
    "*Inference*: As the size of the dataset increases, the MAE also increases."
   ]
  },
  {
   "cell_type": "markdown",
   "id": "f1f63c78",
   "metadata": {},
   "source": [
    "#### Q3.4) Is there any relationship between the Squared Pearson Correlation Coefficient and R2 value?"
   ]
  },
  {
   "cell_type": "code",
   "execution_count": 70,
   "id": "8e73ab30",
   "metadata": {},
   "outputs": [
    {
     "data": {
      "text/plain": [
       "0.9926079531311157"
      ]
     },
     "execution_count": 70,
     "metadata": {},
     "output_type": "execute_result"
    }
   ],
   "source": [
    "# --- Correlation ---\n",
    "correlation(df1['True_Value'].to_list(), df1['Predicted_Value'].to_list())"
   ]
  },
  {
   "cell_type": "code",
   "execution_count": 71,
   "id": "7c53b678",
   "metadata": {},
   "outputs": [
    {
     "data": {
      "text/plain": [
       "0.9825872956909361"
      ]
     },
     "execution_count": 71,
     "metadata": {},
     "output_type": "execute_result"
    }
   ],
   "source": [
    "# --- R2 Score ---\n",
    "evaluationMetrics(df1['True_Value'].to_list(), df1['Predicted_Value'].to_list(), \"R2\")"
   ]
  },
  {
   "cell_type": "code",
   "execution_count": 72,
   "id": "6abcada7",
   "metadata": {},
   "outputs": [
    {
     "data": {
      "text/plain": [
       "0.9852705486191432"
      ]
     },
     "execution_count": 72,
     "metadata": {},
     "output_type": "execute_result"
    }
   ],
   "source": [
    "# It can be seen that the square of correlation if almost equal to the R2 Score\n",
    "(correlation(df1['True_Value'].to_list(), df1['Predicted_Value'].to_list()))**2"
   ]
  },
  {
   "cell_type": "markdown",
   "id": "c20fb9e2",
   "metadata": {},
   "source": [
    "<hr>"
   ]
  }
 ],
 "metadata": {
  "kernelspec": {
   "display_name": "Python 3 (ipykernel)",
   "language": "python",
   "name": "python3"
  },
  "language_info": {
   "codemirror_mode": {
    "name": "ipython",
    "version": 3
   },
   "file_extension": ".py",
   "mimetype": "text/x-python",
   "name": "python",
   "nbconvert_exporter": "python",
   "pygments_lexer": "ipython3",
   "version": "3.9.13"
  }
 },
 "nbformat": 4,
 "nbformat_minor": 5
}
