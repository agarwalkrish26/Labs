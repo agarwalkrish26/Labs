{
 "cells": [
  {
   "cell_type": "markdown",
   "id": "9332bc4d",
   "metadata": {},
   "source": [
    "# Bonus Lab: Classification Evaluation Metrics\n",
    "\n",
    "Name: **Krish Agarwal** <br>\n",
    "Reg No: **21112016** <br>\n",
    "Class: **4BSc DS A** <br>\n",
    "\n",
    "---------------"
   ]
  },
  {
   "cell_type": "markdown",
   "id": "f93fd343",
   "metadata": {},
   "source": [
    "### `Objective`:  \n",
    "Create user defined functions for creating the following for a binary classification problem, when y_pred and y_test is given.\n",
    "\n",
    "- Confusion Matrix\n",
    "- Accuracy Score\n",
    "- Precision\n",
    "- Recall\n",
    "- F1 Score\n",
    "- Plotting points on a AUC Curve"
   ]
  },
  {
   "cell_type": "markdown",
   "id": "518cf73d",
   "metadata": {},
   "source": [
    "### `Probelm Definition`:  \n",
    "Create user defined functions for creating the following for a binary classification problem, when y_pred and y_test is given.\n",
    "\n",
    "- Confusion Matrix\n",
    "- Accuracy Score\n",
    "- Precision\n",
    "- Recall\n",
    "- F1 Score\n",
    "- Plotting points on a AUC Curve"
   ]
  },
  {
   "cell_type": "markdown",
   "id": "feec50a3",
   "metadata": {},
   "source": [
    "### `References`:  \n",
    "1. StackOverflow  \n",
    "2. GeekfroGeeks\n",
    "3. W3School  \n",
    "4. TutorialPoints"
   ]
  },
  {
   "cell_type": "markdown",
   "id": "c6e9ada7",
   "metadata": {},
   "source": [
    "### `Code`:"
   ]
  },
  {
   "cell_type": "code",
   "execution_count": 1,
   "id": "49a3c2d6",
   "metadata": {},
   "outputs": [],
   "source": [
    "# importing all the necessary libraries / modules\n",
    "import pandas as pd\n",
    "import numpy as np\n",
    "import pickle\n",
    "import regex as re\n",
    "import seaborn as sns\n",
    "import matplotlib.pyplot as plt\n",
    "import random\n",
    "from sklearn.datasets import load_breast_cancer\n",
    "from sklearn.model_selection import train_test_split\n",
    "from sklearn.linear_model import LogisticRegression\n",
    "from sklearn.metrics import confusion_matrix\n",
    "from sklearn.metrics import ConfusionMatrixDisplay\n",
    "import statsmodels.api as sm\n",
    "import warnings\n",
    "warnings.filterwarnings(\"ignore\")"
   ]
  },
  {
   "cell_type": "code",
   "execution_count": 2,
   "id": "1e8db661",
   "metadata": {},
   "outputs": [],
   "source": [
    "# Loading the breast cancer dataset dataset onto python\n",
    "cancer = load_breast_cancer()\n",
    "df = pd.DataFrame(data = cancer.data, columns = [cancer.feature_names]) # converting array into dataframes\n",
    "df['Target'] = cancer.target # adding the target variable to the dataframe"
   ]
  },
  {
   "cell_type": "code",
   "execution_count": 3,
   "id": "7101e20e",
   "metadata": {},
   "outputs": [
    {
     "data": {
      "text/html": [
       "<div>\n",
       "<style scoped>\n",
       "    .dataframe tbody tr th:only-of-type {\n",
       "        vertical-align: middle;\n",
       "    }\n",
       "\n",
       "    .dataframe tbody tr th {\n",
       "        vertical-align: top;\n",
       "    }\n",
       "\n",
       "    .dataframe thead tr th {\n",
       "        text-align: left;\n",
       "    }\n",
       "</style>\n",
       "<table border=\"1\" class=\"dataframe\">\n",
       "  <thead>\n",
       "    <tr>\n",
       "      <th></th>\n",
       "      <th>mean radius</th>\n",
       "      <th>mean texture</th>\n",
       "      <th>mean perimeter</th>\n",
       "      <th>mean area</th>\n",
       "      <th>mean smoothness</th>\n",
       "      <th>mean compactness</th>\n",
       "      <th>mean concavity</th>\n",
       "      <th>mean concave points</th>\n",
       "      <th>mean symmetry</th>\n",
       "      <th>mean fractal dimension</th>\n",
       "      <th>...</th>\n",
       "      <th>worst texture</th>\n",
       "      <th>worst perimeter</th>\n",
       "      <th>worst area</th>\n",
       "      <th>worst smoothness</th>\n",
       "      <th>worst compactness</th>\n",
       "      <th>worst concavity</th>\n",
       "      <th>worst concave points</th>\n",
       "      <th>worst symmetry</th>\n",
       "      <th>worst fractal dimension</th>\n",
       "      <th>Target</th>\n",
       "    </tr>\n",
       "  </thead>\n",
       "  <tbody>\n",
       "    <tr>\n",
       "      <th>0</th>\n",
       "      <td>17.99</td>\n",
       "      <td>10.38</td>\n",
       "      <td>122.80</td>\n",
       "      <td>1001.0</td>\n",
       "      <td>0.11840</td>\n",
       "      <td>0.27760</td>\n",
       "      <td>0.30010</td>\n",
       "      <td>0.14710</td>\n",
       "      <td>0.2419</td>\n",
       "      <td>0.07871</td>\n",
       "      <td>...</td>\n",
       "      <td>17.33</td>\n",
       "      <td>184.60</td>\n",
       "      <td>2019.0</td>\n",
       "      <td>0.16220</td>\n",
       "      <td>0.66560</td>\n",
       "      <td>0.7119</td>\n",
       "      <td>0.2654</td>\n",
       "      <td>0.4601</td>\n",
       "      <td>0.11890</td>\n",
       "      <td>0</td>\n",
       "    </tr>\n",
       "    <tr>\n",
       "      <th>1</th>\n",
       "      <td>20.57</td>\n",
       "      <td>17.77</td>\n",
       "      <td>132.90</td>\n",
       "      <td>1326.0</td>\n",
       "      <td>0.08474</td>\n",
       "      <td>0.07864</td>\n",
       "      <td>0.08690</td>\n",
       "      <td>0.07017</td>\n",
       "      <td>0.1812</td>\n",
       "      <td>0.05667</td>\n",
       "      <td>...</td>\n",
       "      <td>23.41</td>\n",
       "      <td>158.80</td>\n",
       "      <td>1956.0</td>\n",
       "      <td>0.12380</td>\n",
       "      <td>0.18660</td>\n",
       "      <td>0.2416</td>\n",
       "      <td>0.1860</td>\n",
       "      <td>0.2750</td>\n",
       "      <td>0.08902</td>\n",
       "      <td>0</td>\n",
       "    </tr>\n",
       "    <tr>\n",
       "      <th>2</th>\n",
       "      <td>19.69</td>\n",
       "      <td>21.25</td>\n",
       "      <td>130.00</td>\n",
       "      <td>1203.0</td>\n",
       "      <td>0.10960</td>\n",
       "      <td>0.15990</td>\n",
       "      <td>0.19740</td>\n",
       "      <td>0.12790</td>\n",
       "      <td>0.2069</td>\n",
       "      <td>0.05999</td>\n",
       "      <td>...</td>\n",
       "      <td>25.53</td>\n",
       "      <td>152.50</td>\n",
       "      <td>1709.0</td>\n",
       "      <td>0.14440</td>\n",
       "      <td>0.42450</td>\n",
       "      <td>0.4504</td>\n",
       "      <td>0.2430</td>\n",
       "      <td>0.3613</td>\n",
       "      <td>0.08758</td>\n",
       "      <td>0</td>\n",
       "    </tr>\n",
       "    <tr>\n",
       "      <th>3</th>\n",
       "      <td>11.42</td>\n",
       "      <td>20.38</td>\n",
       "      <td>77.58</td>\n",
       "      <td>386.1</td>\n",
       "      <td>0.14250</td>\n",
       "      <td>0.28390</td>\n",
       "      <td>0.24140</td>\n",
       "      <td>0.10520</td>\n",
       "      <td>0.2597</td>\n",
       "      <td>0.09744</td>\n",
       "      <td>...</td>\n",
       "      <td>26.50</td>\n",
       "      <td>98.87</td>\n",
       "      <td>567.7</td>\n",
       "      <td>0.20980</td>\n",
       "      <td>0.86630</td>\n",
       "      <td>0.6869</td>\n",
       "      <td>0.2575</td>\n",
       "      <td>0.6638</td>\n",
       "      <td>0.17300</td>\n",
       "      <td>0</td>\n",
       "    </tr>\n",
       "    <tr>\n",
       "      <th>4</th>\n",
       "      <td>20.29</td>\n",
       "      <td>14.34</td>\n",
       "      <td>135.10</td>\n",
       "      <td>1297.0</td>\n",
       "      <td>0.10030</td>\n",
       "      <td>0.13280</td>\n",
       "      <td>0.19800</td>\n",
       "      <td>0.10430</td>\n",
       "      <td>0.1809</td>\n",
       "      <td>0.05883</td>\n",
       "      <td>...</td>\n",
       "      <td>16.67</td>\n",
       "      <td>152.20</td>\n",
       "      <td>1575.0</td>\n",
       "      <td>0.13740</td>\n",
       "      <td>0.20500</td>\n",
       "      <td>0.4000</td>\n",
       "      <td>0.1625</td>\n",
       "      <td>0.2364</td>\n",
       "      <td>0.07678</td>\n",
       "      <td>0</td>\n",
       "    </tr>\n",
       "    <tr>\n",
       "      <th>...</th>\n",
       "      <td>...</td>\n",
       "      <td>...</td>\n",
       "      <td>...</td>\n",
       "      <td>...</td>\n",
       "      <td>...</td>\n",
       "      <td>...</td>\n",
       "      <td>...</td>\n",
       "      <td>...</td>\n",
       "      <td>...</td>\n",
       "      <td>...</td>\n",
       "      <td>...</td>\n",
       "      <td>...</td>\n",
       "      <td>...</td>\n",
       "      <td>...</td>\n",
       "      <td>...</td>\n",
       "      <td>...</td>\n",
       "      <td>...</td>\n",
       "      <td>...</td>\n",
       "      <td>...</td>\n",
       "      <td>...</td>\n",
       "      <td>...</td>\n",
       "    </tr>\n",
       "    <tr>\n",
       "      <th>564</th>\n",
       "      <td>21.56</td>\n",
       "      <td>22.39</td>\n",
       "      <td>142.00</td>\n",
       "      <td>1479.0</td>\n",
       "      <td>0.11100</td>\n",
       "      <td>0.11590</td>\n",
       "      <td>0.24390</td>\n",
       "      <td>0.13890</td>\n",
       "      <td>0.1726</td>\n",
       "      <td>0.05623</td>\n",
       "      <td>...</td>\n",
       "      <td>26.40</td>\n",
       "      <td>166.10</td>\n",
       "      <td>2027.0</td>\n",
       "      <td>0.14100</td>\n",
       "      <td>0.21130</td>\n",
       "      <td>0.4107</td>\n",
       "      <td>0.2216</td>\n",
       "      <td>0.2060</td>\n",
       "      <td>0.07115</td>\n",
       "      <td>0</td>\n",
       "    </tr>\n",
       "    <tr>\n",
       "      <th>565</th>\n",
       "      <td>20.13</td>\n",
       "      <td>28.25</td>\n",
       "      <td>131.20</td>\n",
       "      <td>1261.0</td>\n",
       "      <td>0.09780</td>\n",
       "      <td>0.10340</td>\n",
       "      <td>0.14400</td>\n",
       "      <td>0.09791</td>\n",
       "      <td>0.1752</td>\n",
       "      <td>0.05533</td>\n",
       "      <td>...</td>\n",
       "      <td>38.25</td>\n",
       "      <td>155.00</td>\n",
       "      <td>1731.0</td>\n",
       "      <td>0.11660</td>\n",
       "      <td>0.19220</td>\n",
       "      <td>0.3215</td>\n",
       "      <td>0.1628</td>\n",
       "      <td>0.2572</td>\n",
       "      <td>0.06637</td>\n",
       "      <td>0</td>\n",
       "    </tr>\n",
       "    <tr>\n",
       "      <th>566</th>\n",
       "      <td>16.60</td>\n",
       "      <td>28.08</td>\n",
       "      <td>108.30</td>\n",
       "      <td>858.1</td>\n",
       "      <td>0.08455</td>\n",
       "      <td>0.10230</td>\n",
       "      <td>0.09251</td>\n",
       "      <td>0.05302</td>\n",
       "      <td>0.1590</td>\n",
       "      <td>0.05648</td>\n",
       "      <td>...</td>\n",
       "      <td>34.12</td>\n",
       "      <td>126.70</td>\n",
       "      <td>1124.0</td>\n",
       "      <td>0.11390</td>\n",
       "      <td>0.30940</td>\n",
       "      <td>0.3403</td>\n",
       "      <td>0.1418</td>\n",
       "      <td>0.2218</td>\n",
       "      <td>0.07820</td>\n",
       "      <td>0</td>\n",
       "    </tr>\n",
       "    <tr>\n",
       "      <th>567</th>\n",
       "      <td>20.60</td>\n",
       "      <td>29.33</td>\n",
       "      <td>140.10</td>\n",
       "      <td>1265.0</td>\n",
       "      <td>0.11780</td>\n",
       "      <td>0.27700</td>\n",
       "      <td>0.35140</td>\n",
       "      <td>0.15200</td>\n",
       "      <td>0.2397</td>\n",
       "      <td>0.07016</td>\n",
       "      <td>...</td>\n",
       "      <td>39.42</td>\n",
       "      <td>184.60</td>\n",
       "      <td>1821.0</td>\n",
       "      <td>0.16500</td>\n",
       "      <td>0.86810</td>\n",
       "      <td>0.9387</td>\n",
       "      <td>0.2650</td>\n",
       "      <td>0.4087</td>\n",
       "      <td>0.12400</td>\n",
       "      <td>0</td>\n",
       "    </tr>\n",
       "    <tr>\n",
       "      <th>568</th>\n",
       "      <td>7.76</td>\n",
       "      <td>24.54</td>\n",
       "      <td>47.92</td>\n",
       "      <td>181.0</td>\n",
       "      <td>0.05263</td>\n",
       "      <td>0.04362</td>\n",
       "      <td>0.00000</td>\n",
       "      <td>0.00000</td>\n",
       "      <td>0.1587</td>\n",
       "      <td>0.05884</td>\n",
       "      <td>...</td>\n",
       "      <td>30.37</td>\n",
       "      <td>59.16</td>\n",
       "      <td>268.6</td>\n",
       "      <td>0.08996</td>\n",
       "      <td>0.06444</td>\n",
       "      <td>0.0000</td>\n",
       "      <td>0.0000</td>\n",
       "      <td>0.2871</td>\n",
       "      <td>0.07039</td>\n",
       "      <td>1</td>\n",
       "    </tr>\n",
       "  </tbody>\n",
       "</table>\n",
       "<p>569 rows × 31 columns</p>\n",
       "</div>"
      ],
      "text/plain": [
       "    mean radius mean texture mean perimeter mean area mean smoothness  \\\n",
       "0         17.99        10.38         122.80    1001.0         0.11840   \n",
       "1         20.57        17.77         132.90    1326.0         0.08474   \n",
       "2         19.69        21.25         130.00    1203.0         0.10960   \n",
       "3         11.42        20.38          77.58     386.1         0.14250   \n",
       "4         20.29        14.34         135.10    1297.0         0.10030   \n",
       "..          ...          ...            ...       ...             ...   \n",
       "564       21.56        22.39         142.00    1479.0         0.11100   \n",
       "565       20.13        28.25         131.20    1261.0         0.09780   \n",
       "566       16.60        28.08         108.30     858.1         0.08455   \n",
       "567       20.60        29.33         140.10    1265.0         0.11780   \n",
       "568        7.76        24.54          47.92     181.0         0.05263   \n",
       "\n",
       "    mean compactness mean concavity mean concave points mean symmetry  \\\n",
       "0            0.27760        0.30010             0.14710        0.2419   \n",
       "1            0.07864        0.08690             0.07017        0.1812   \n",
       "2            0.15990        0.19740             0.12790        0.2069   \n",
       "3            0.28390        0.24140             0.10520        0.2597   \n",
       "4            0.13280        0.19800             0.10430        0.1809   \n",
       "..               ...            ...                 ...           ...   \n",
       "564          0.11590        0.24390             0.13890        0.1726   \n",
       "565          0.10340        0.14400             0.09791        0.1752   \n",
       "566          0.10230        0.09251             0.05302        0.1590   \n",
       "567          0.27700        0.35140             0.15200        0.2397   \n",
       "568          0.04362        0.00000             0.00000        0.1587   \n",
       "\n",
       "    mean fractal dimension  ... worst texture worst perimeter worst area  \\\n",
       "0                  0.07871  ...         17.33          184.60     2019.0   \n",
       "1                  0.05667  ...         23.41          158.80     1956.0   \n",
       "2                  0.05999  ...         25.53          152.50     1709.0   \n",
       "3                  0.09744  ...         26.50           98.87      567.7   \n",
       "4                  0.05883  ...         16.67          152.20     1575.0   \n",
       "..                     ...  ...           ...             ...        ...   \n",
       "564                0.05623  ...         26.40          166.10     2027.0   \n",
       "565                0.05533  ...         38.25          155.00     1731.0   \n",
       "566                0.05648  ...         34.12          126.70     1124.0   \n",
       "567                0.07016  ...         39.42          184.60     1821.0   \n",
       "568                0.05884  ...         30.37           59.16      268.6   \n",
       "\n",
       "    worst smoothness worst compactness worst concavity worst concave points  \\\n",
       "0            0.16220           0.66560          0.7119               0.2654   \n",
       "1            0.12380           0.18660          0.2416               0.1860   \n",
       "2            0.14440           0.42450          0.4504               0.2430   \n",
       "3            0.20980           0.86630          0.6869               0.2575   \n",
       "4            0.13740           0.20500          0.4000               0.1625   \n",
       "..               ...               ...             ...                  ...   \n",
       "564          0.14100           0.21130          0.4107               0.2216   \n",
       "565          0.11660           0.19220          0.3215               0.1628   \n",
       "566          0.11390           0.30940          0.3403               0.1418   \n",
       "567          0.16500           0.86810          0.9387               0.2650   \n",
       "568          0.08996           0.06444          0.0000               0.0000   \n",
       "\n",
       "    worst symmetry worst fractal dimension Target  \n",
       "0           0.4601                 0.11890      0  \n",
       "1           0.2750                 0.08902      0  \n",
       "2           0.3613                 0.08758      0  \n",
       "3           0.6638                 0.17300      0  \n",
       "4           0.2364                 0.07678      0  \n",
       "..             ...                     ...    ...  \n",
       "564         0.2060                 0.07115      0  \n",
       "565         0.2572                 0.06637      0  \n",
       "566         0.2218                 0.07820      0  \n",
       "567         0.4087                 0.12400      0  \n",
       "568         0.2871                 0.07039      1  \n",
       "\n",
       "[569 rows x 31 columns]"
      ]
     },
     "execution_count": 3,
     "metadata": {},
     "output_type": "execute_result"
    }
   ],
   "source": [
    "df"
   ]
  },
  {
   "cell_type": "markdown",
   "id": "938a8cef",
   "metadata": {},
   "source": [
    "### Machine Learning"
   ]
  },
  {
   "cell_type": "code",
   "execution_count": 4,
   "id": "aff79137",
   "metadata": {},
   "outputs": [],
   "source": [
    "# Defining X and y\n",
    "X = df[cancer.feature_names]\n",
    "y = df['Target']"
   ]
  },
  {
   "cell_type": "code",
   "execution_count": 5,
   "id": "12d67d37",
   "metadata": {},
   "outputs": [],
   "source": [
    "# Splitting the data into training and testing\n",
    "X_train, X_test, y_train, y_test = train_test_split(X, y, random_state = 69)"
   ]
  },
  {
   "cell_type": "code",
   "execution_count": 6,
   "id": "bfe16852",
   "metadata": {},
   "outputs": [],
   "source": [
    "# Training a model to generate predicted values\n",
    "log = LogisticRegression()\n",
    "log.fit(X_train, y_train)\n",
    "y_pred = log.predict(X_test)"
   ]
  },
  {
   "cell_type": "markdown",
   "id": "362cac20",
   "metadata": {},
   "source": [
    "### Confusion Metrics and it's evaluation Metrics"
   ]
  },
  {
   "cell_type": "code",
   "execution_count": 7,
   "id": "6920ee6a",
   "metadata": {},
   "outputs": [],
   "source": [
    "def confustionMatrix(y_test, y_pred, kind = None):  \n",
    "    \n",
    "    true_positive = 0\n",
    "    true_negative = 0\n",
    "    false_positive = 0\n",
    "    false_negative = 0\n",
    "\n",
    "    for i, j in zip(y_test.values.tolist(), y_pred): \n",
    "        if i == j: # (1, 1) or (0, 0)\n",
    "            if j == 1:\n",
    "                true_positive += 1\n",
    "            else:\n",
    "                true_negative += 1\n",
    "        else:\n",
    "            if j == 1: # (1, 0) or (0, 1)\n",
    "                false_positive += 1\n",
    "            else:\n",
    "                false_negative += 1\n",
    "\n",
    "    # Creating a matrix of all the combinations\n",
    "    confusion_matrix = np.matrix([[true_negative, false_positive], [false_negative, true_positive]])\n",
    "    \n",
    "    # Plotting the above matrix\n",
    "    if kind.lower() == \"confusion matrix\":\n",
    "        s = sns.heatmap(confusion_matrix, annot = True)\n",
    "        s.set_xlabel('Predicted Label', fontsize=10)\n",
    "        s.set_ylabel('Actual Label', fontsize=10)\n",
    "        \n",
    "    elif kind.lower() == \"accuracy score\":\n",
    "        accuracy_score = (true_positive + true_negative)/(true_positive + true_negative + false_positive + false_negative)\n",
    "        return accuracy_score\n",
    "    \n",
    "    elif kind.lower() == \"precision\":\n",
    "        precision = true_positive/(true_positive + false_positive)\n",
    "        return precision\n",
    "        \n",
    "    elif kind.lower() == \"recall\":\n",
    "        recall = true_positive/(true_positive + false_negative)\n",
    "        return recall\n",
    "        \n",
    "    elif kind.lower() == \"f1 score\":\n",
    "        precision = true_positive/(true_positive + false_positive)\n",
    "        recall = true_positive/(true_positive + false_negative)\n",
    "        f1 =  2/((1/recall) + (1/precision)) #harmonic mean\n",
    "        return f1\n",
    "    \n",
    "    elif kind.lower() == \"roc\":\n",
    "        tpr = true_positive/(true_positive + false_negative)\n",
    "        fpr = false_positive/(false_positive + true_negative)\n",
    "        \n",
    "        p = plt.plot(tpr, fpr)"
   ]
  },
  {
   "cell_type": "code",
   "execution_count": 8,
   "id": "678570f3",
   "metadata": {
    "scrolled": false
   },
   "outputs": [
    {
     "data": {
      "image/png": "[encoded data removed]",
      "text/plain": [
       "<Figure size 640x480 with 2 Axes>"
      ]
     },
     "metadata": {},
     "output_type": "display_data"
    }
   ],
   "source": [
    "confustionMatrix(y_test, y_pred, kind = \"Confusion Matrix\")"
   ]
  },
  {
   "cell_type": "code",
   "execution_count": 9,
   "id": "8e64bb53",
   "metadata": {},
   "outputs": [
    {
     "data": {
      "image/png": "[encoded data removed]",
      "text/plain": [
       "<Figure size 640x480 with 1 Axes>"
      ]
     },
     "metadata": {},
     "output_type": "display_data"
    }
   ],
   "source": [
    "# revision on AUC-ROC curve is much needed :(\n",
    "confustionMatrix(y_test, y_pred, kind = \"roc\")"
   ]
  },
  {
   "cell_type": "code",
   "execution_count": 10,
   "id": "2f977c52",
   "metadata": {},
   "outputs": [
    {
     "name": "stdout",
     "output_type": "stream",
     "text": [
      " Accuracy Score: 0.9370629370629371\n"
     ]
    }
   ],
   "source": [
    "print(\" Accuracy Score:\", confustionMatrix(y_test, y_pred, kind = \"Accuracy score\"))"
   ]
  },
  {
   "cell_type": "code",
   "execution_count": 11,
   "id": "73cdcf43",
   "metadata": {},
   "outputs": [
    {
     "name": "stdout",
     "output_type": "stream",
     "text": [
      " Accuracy Score: 0.961038961038961\n"
     ]
    }
   ],
   "source": [
    "print(\" Accuracy Score:\", confustionMatrix(y_test, y_pred, kind = \"recalL\"))"
   ]
  },
  {
   "cell_type": "code",
   "execution_count": 12,
   "id": "fd5cbd01",
   "metadata": {},
   "outputs": [
    {
     "name": "stdout",
     "output_type": "stream",
     "text": [
      " Accuracy Score: 0.925\n"
     ]
    }
   ],
   "source": [
    "print(\" Accuracy Score:\", confustionMatrix(y_test, y_pred, kind = \"precision\"))"
   ]
  },
  {
   "cell_type": "code",
   "execution_count": 13,
   "id": "7ce70d94",
   "metadata": {
    "scrolled": true
   },
   "outputs": [
    {
     "name": "stdout",
     "output_type": "stream",
     "text": [
      " Accuracy Score: 0.9426751592356688\n"
     ]
    }
   ],
   "source": [
    "print(\" Accuracy Score:\", confustionMatrix(y_test, y_pred, kind = \"f1 score\"))"
   ]
  },
  {
   "cell_type": "markdown",
   "id": "217093db",
   "metadata": {},
   "source": [
    "### Playground"
   ]
  },
  {
   "cell_type": "markdown",
   "id": "add0c446",
   "metadata": {},
   "source": [
    "#### Accuracy"
   ]
  },
  {
   "cell_type": "code",
   "execution_count": 14,
   "id": "6f2b5b6b",
   "metadata": {},
   "outputs": [],
   "source": [
    "def confustionMatrixAccuracy(y_test, y_pred):  \n",
    "    \n",
    "    true_positive = 0\n",
    "    true_negative = 0\n",
    "    false_positive = 0\n",
    "    false_negative = 0\n",
    "\n",
    "    for i, j in zip(y_test.values.tolist(), y_pred):\n",
    "        if i == j: # (1, 1) or (0, 0)\n",
    "            if j == 1:\n",
    "                true_positive += 1\n",
    "            else:\n",
    "                true_negative += 1\n",
    "        else:\n",
    "            if j == 1: # (1, 0) or (0, 1)\n",
    "                false_positive += 1\n",
    "            else:\n",
    "                false_negative += 1\n",
    "\n",
    "    # Creating a matrix of all the combinations\n",
    "    confusion_matrix = [[true_negative, false_positive], [false_negative, true_positive]]\n",
    "    \n",
    "    num = 0\n",
    "    denom = 0\n",
    "\n",
    "    for i in range(len(confusion_matrix)):\n",
    "        for j in range(len(confusion_matrix)):\n",
    "            if i == j:\n",
    "                 num += confusion_matrix[i][j]\n",
    "            else: \n",
    "                denom += confusion_matrix[i][j]\n",
    "\n",
    "    accuracy = num/(num+denom)\n",
    "    \n",
    "    return accuracy"
   ]
  },
  {
   "cell_type": "code",
   "execution_count": 15,
   "id": "37d5aa0b",
   "metadata": {},
   "outputs": [
    {
     "data": {
      "text/plain": [
       "True"
      ]
     },
     "execution_count": 15,
     "metadata": {},
     "output_type": "execute_result"
    }
   ],
   "source": [
    "confustionMatrixAccuracy(y_test, y_pred) == confustionMatrix(y_test, y_pred, kind = \"AccuRacy ScORe\")"
   ]
  },
  {
   "cell_type": "markdown",
   "id": "c13255f2",
   "metadata": {},
   "source": [
    "#### Precision  \n",
    "precision = true_positive/(true_positive + false_positive)"
   ]
  },
  {
   "cell_type": "code",
   "execution_count": 16,
   "id": "0773a607",
   "metadata": {},
   "outputs": [],
   "source": [
    "def confustionMatrixPrecision(y_test, y_pred):  \n",
    "    \n",
    "    true_positive = 0\n",
    "    true_negative = 0\n",
    "    false_positive = 0\n",
    "    false_negative = 0\n",
    "\n",
    "    for i, j in zip(y_test.values.tolist(), y_pred):\n",
    "        if i == j: # (1, 1) or (0, 0)\n",
    "            if j == 1:\n",
    "                true_positive += 1\n",
    "            else:\n",
    "                true_negative += 1\n",
    "        else:\n",
    "            if j == 1: # (1, 0) or (0, 1)\n",
    "                false_positive += 1\n",
    "            else:\n",
    "                false_negative += 1\n",
    "\n",
    "    # Creating a matrix of all the combinations\n",
    "    confusion_matrix = [[true_negative, false_positive], [false_negative, true_positive]]\n",
    "    \n",
    "    return confusion_matrix"
   ]
  },
  {
   "cell_type": "code",
   "execution_count": 17,
   "id": "65cba0d1",
   "metadata": {},
   "outputs": [
    {
     "data": {
      "text/plain": [
       "[[60, 6], [3, 74]]"
      ]
     },
     "execution_count": 17,
     "metadata": {},
     "output_type": "execute_result"
    }
   ],
   "source": [
    "hi = confustionMatrixPrecision(y_test, y_pred)\n",
    "hi"
   ]
  },
  {
   "cell_type": "code",
   "execution_count": 18,
   "id": "bbba94dd",
   "metadata": {},
   "outputs": [
    {
     "data": {
      "text/plain": [
       "74"
      ]
     },
     "execution_count": 18,
     "metadata": {},
     "output_type": "execute_result"
    }
   ],
   "source": [
    "hi[-1][-1]"
   ]
  },
  {
   "cell_type": "code",
   "execution_count": 19,
   "id": "e5ccd940",
   "metadata": {},
   "outputs": [],
   "source": [
    "num = 0\n",
    "denom = 0\n",
    "\n",
    "for i in range(len(hi)):\n",
    "    for j in range(len(hi)):\n",
    "        if j == 1:\n",
    "            num += hi[i][i]\n",
    "        if (i, j == 1, 1):\n",
    "            denom += hi[i][j]\n",
    "            \n",
    "precision = num/denom"
   ]
  },
  {
   "cell_type": "code",
   "execution_count": 20,
   "id": "2b5451ee",
   "metadata": {},
   "outputs": [
    {
     "data": {
      "text/plain": [
       "0.9370629370629371"
      ]
     },
     "execution_count": 20,
     "metadata": {},
     "output_type": "execute_result"
    }
   ],
   "source": [
    "precision"
   ]
  },
  {
   "cell_type": "markdown",
   "id": "54efe466",
   "metadata": {},
   "source": [
    "#### Recall"
   ]
  },
  {
   "cell_type": "code",
   "execution_count": 21,
   "id": "ac269480",
   "metadata": {},
   "outputs": [
    {
     "data": {
      "text/plain": [
       "0.961038961038961"
      ]
     },
     "execution_count": 21,
     "metadata": {},
     "output_type": "execute_result"
    }
   ],
   "source": [
    "confustionMatrix(y_test, y_pred, kind = \"recall\")"
   ]
  },
  {
   "cell_type": "code",
   "execution_count": 22,
   "id": "6251e623",
   "metadata": {},
   "outputs": [
    {
     "data": {
      "text/plain": [
       "0.925"
      ]
     },
     "execution_count": 22,
     "metadata": {},
     "output_type": "execute_result"
    }
   ],
   "source": [
    "confustionMatrix(y_test, y_pred, kind = \"precision\")"
   ]
  },
  {
   "cell_type": "code",
   "execution_count": 23,
   "id": "18a03607",
   "metadata": {},
   "outputs": [
    {
     "data": {
      "text/plain": [
       "0.9426751592356688"
      ]
     },
     "execution_count": 23,
     "metadata": {},
     "output_type": "execute_result"
    }
   ],
   "source": [
    "confustionMatrix(y_test, y_pred, kind = \"f1 score\")"
   ]
  }
 ],
 "metadata": {
  "kernelspec": {
   "display_name": "Python 3 (ipykernel)",
   "language": "python",
   "name": "python3"
  },
  "language_info": {
   "codemirror_mode": {
    "name": "ipython",
    "version": 3
   },
   "file_extension": ".py",
   "mimetype": "text/x-python",
   "name": "python",
   "nbconvert_exporter": "python",
   "pygments_lexer": "ipython3",
   "version": "3.9.13"
  }
 },
 "nbformat": 4,
 "nbformat_minor": 5
}
