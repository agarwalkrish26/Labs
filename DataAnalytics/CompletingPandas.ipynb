{
 "cells": [
  {
   "cell_type": "markdown",
   "metadata": {
    "id": "pU-8-hFO77ss"
   },
   "source": [
    "# Lab 2: Completing Pandas\n",
    "\n",
    "Name: **Krish Agarwal** <br>\n",
    "Reg No: **21112016** <br>\n",
    "Class: **3BSc DS A** <br>\n",
    "\n",
    "---------------"
   ]
  },
  {
   "cell_type": "markdown",
   "metadata": {
    "id": "vpOBAI7s8CQF"
   },
   "source": [
    "## **Objective**:  \n",
    "  \n"
   ]
  },
  {
   "cell_type": "markdown",
   "metadata": {
    "id": "rXKcYJwZZV9r"
   },
   "source": [
    "\n",
    "1.   Understand the nature of Titanic Dataset (Link) using methods available in Pandas Library. Before you proceed with the Exploration of Dataset, try to - \n",
    "\n",
    "\n",
    "*   Change Titles of at least 3 different attributes (For Eg, change Survived --> Survival_Status).  \n",
    "*   The Fare, which is mentioned in USD, convert to INR based on the current exchange rate.  \n",
    "\n",
    "2.   Once the dataset is downloaded, you can use the pd.read_csv() method for loading the data to Python as a DataFrame. \n",
    "\n",
    "3.   During exploration process, try to go beyond the regular (for eg, finding Nulls, finding Total No of Entries, Finding No of Males/Females etc) Data Exploration and Clearning Process. That is, try to find data based on multiple conditions. For instance, How many Married and Unmarried Woman travelled (based on Mrs or Miss at the starting of the names), How many would have paid more than Rs 3000 for their journey. \n",
    "\n",
    "5.   Apply CRUD application to the datset  \n",
    "\n",
    "Note: Make use of the Pandas Double Indexing (Conditions within a DataFrame selection), along with other Pandas Methods for the same"
   ]
  },
  {
   "cell_type": "markdown",
   "metadata": {
    "id": "MNsadj4HNMTn"
   },
   "source": [
    "## **Problem Definition**:\n"
   ]
  },
  {
   "cell_type": "markdown",
   "metadata": {
    "id": "Uc9jAgrpPdHb"
   },
   "source": [
    "Explore advance Pandas functions and methods to make meaningful insights from the dataset and present the same in a proper manner. "
   ]
  },
  {
   "cell_type": "markdown",
   "metadata": {
    "id": "SnLHgnmBNRPg"
   },
   "source": [
    "## **Approach/Method**:"
   ]
  },
  {
   "cell_type": "markdown",
   "metadata": {
    "id": "NKQeyCMcRl86"
   },
   "source": [
    "1) Going through the provided csv in excel itself anf getting to know the dataset  \n",
    "2) Importing of the dataset and converting the columns to their respective datasets.  \n",
    "3) Making meaningful inferences from the dataset using methods and ideas viz -  \n",
    "  &emsp;a. rename()  \n",
    "  &emsp;b. Indexing  \n",
    "  &emsp;c. double Indexing  \n",
    "  &emsp;d. as.type()  \n",
    "  &emsp;e. contains()  \n",
    "  &emsp;f. logical operators  \n",
    "  &emsp;g. count()  \n",
    "  &emsp;h. basic statical methods (describe(), mean(), sum(), etc.)  \n",
    "  &emsp;i. Visualization  \n",
    "  &emsp;j. Subsset of dataframe  "
   ]
  },
  {
   "cell_type": "markdown",
   "metadata": {
    "id": "k1v-3LI8NUm-"
   },
   "source": [
    "## **Observation**:  \n",
    "1. There were 184 unmarried women on the boat out of which 129 women survived the crash and 55 died during the crash.  \n",
    "2. There were 126 married women on the boat out of which 100 survived the crash and 26 died.  \n",
    "3. There are total 310 females (with categorized Titles) out of which 54 died and had atleast 1 family member and the other 27 who died had no family.  \n",
    "4. There are total 40 men under the age of 18 out of which 23 survived the crash and the other 17 died during the crash.  \n",
    "5. There are total 514 men above the age of 18 out of which 81 survived the crash and the other 432 died during the crash.  \n",
    "6. There are total 554 men (with categorizable Titles) out of which 117 died and had atleast one family member and the other 332 who died had no family.  \n",
    "7. When the average survival rate of total men and women were compared, then it was seen that women had more survival ratio than men.  \n",
    "8. The dataset was divided on the basis of their Pclass values; 1 signifying lower class, 2 signifying middle class and 3 signifying rich class. Rich class bought tickets roughly worth upto Rs. 6822.12 while middle class bought tickets roughly worth Rs. 1691.39 and the lower class bought tickets roughly worth Rs. 1094.50.  \n",
    "9. When the total was disrtibuted and plotted between all the classes of passengers, it was noticed that Rich class contributed the most (63.4%), followed by the lower class (23.3%) and then the middle class (13.3%).  \n",
    "10. 15 people hadn't paid any fare for their tickets and they seem to have no family as well. This may conclude they were either orphans or loners and the people who did pass on their tickets probably had done this out of empathy.  \n",
    "11. When the total fare was distributed amongst the males and females, it was noticed that men contributed the majority by a small margin.  \n",
    "12. It was noticed that 16 entries didn't had general titles. Out of these 16, 15 are males and 1 is a female. None of them belong to the lower cost. Amongst them, only 4 survived (1 Colonel and 3 Doctors).  \n",
    "13. It was noticed that there exists 7 wrong entries with age 0 and which is not possible."
   ]
  },
  {
   "cell_type": "markdown",
   "metadata": {
    "id": "73G43lahOC20"
   },
   "source": [
    "## **Results**:  \n",
    "Titanic dataset contains of 887 entities and 8 features. It contains the data of people that boarded The Titanic before it crashed and whether they survived the same. Various inferences could be made out from this dataset viz there was more female survival ratio than male, Rich people tended to have paid more for the tickets followed by middle class and then the lower class,  etc."
   ]
  },
  {
   "cell_type": "markdown",
   "metadata": {
    "id": "fK3pkw-HOFqv"
   },
   "source": [
    "## **Learning and Reflections**:  \n",
    "I learned various advance features and techniques that can be used to make an inference and how the same can be made to understand better by visualization. "
   ]
  },
  {
   "cell_type": "markdown",
   "metadata": {
    "id": "Dc9MlYiIOJN7"
   },
   "source": [
    "## **Refrences**:\n",
    "\n",
    "1. https://www.w3schools.com/python/pandas/default.asp\n",
    "1. https://www.kaggle.com/code/kaustubhshirpurkar/exploring-titanic-data-using-pandas-dataframes\n",
    "1. https://www.kaggle.com/code/faressayah/data-science-best-practices-using-pandas-titanic\n",
    "1. https://stackoverflow.com/questions/36921951/truth-value-of-a-series-is-ambiguous-use-a-empty-a-bool-a-item-a-any-o\n",
    "1. https://pandas.pydata.org/docs/user_guide/merging.html\n",
    "1. https://www.geeksforgeeks.org/convert-the-data-type-of-pandas-column-to-int/\n",
    "1. https://stackoverflow.com/questions/15891038/change-column-type-in-pandas\n",
    "1. https://www.tutorialsandyou.com/matplotlib/how-to-show-percentage-and-value-in-matplotlib-pie-chart-12.html#:~:text=If%20you%20want%20to%20show,be%20enclosed%20within%20the%20%25%20sign.\n",
    "1. https://www.geeksforgeeks.org/plot-a-pie-chart-in-python-using-matplotlib/\n",
    "1. https://www.statology.org/pandas-rename-columns/\n",
    "1. https://www.geeksforgeeks.org/how-to-add-one-row-in-an-existing-pandas-dataframe/  \n",
    "1. https://www.tutorialspoint.com/python-pandas-how-to-delete-a-row-from-a-dataframe  \n",
    "1. https://www.w3schools.com/python/pandas/trypandas.asp?filename=demo_ref_df_iterrows  \n"
   ]
  },
  {
   "cell_type": "markdown",
   "metadata": {
    "id": "SZmFQBxuOMoP"
   },
   "source": [
    "## **Completion Status**:\n",
    "\n",
    "| Question Number | Status |\n",
    "| --- | --- |\n",
    "| 1 | Completed |\n",
    "| 2 | Completed |\n",
    "| 3 A | Completed |\n",
    "| 3 B| Completed |\n",
    "| 3 C| Completed |\n",
    "| 3 D| Completed |\n",
    "| 3 E| Completed |\n",
    "| 3 F| Completed |\n",
    "| 3 G| Completed |\n",
    "| 3 H| Completed |\n",
    "| 3 I| Completed |\n",
    "| 3 J| Completed |\n",
    "| 3 K| Completed |\n",
    "| 3 L| Completed |\n",
    "| 3 M| Completed |\n",
    "| 3 N| Completed |\n",
    "| 4 | Completed |"
   ]
  },
  {
   "cell_type": "code",
   "execution_count": null,
   "metadata": {
    "id": "boy_2O9kYdQJ"
   },
   "outputs": [],
   "source": [
    "# Importing necessary libraries/modules\n",
    "import pandas as pd\n",
    "import matplotlib.pyplot as plt\n",
    "import numpy as np\n",
    "import seaborn as sns"
   ]
  },
  {
   "cell_type": "code",
   "execution_count": null,
   "metadata": {
    "id": "8Bp0PcMlYt6V"
   },
   "outputs": [],
   "source": [
    "# Importing titanic csv in df variable\n",
    "df = pd.read_csv('D:/Z/Downloads/titanic.csv')"
   ]
  },
  {
   "cell_type": "code",
   "execution_count": null,
   "metadata": {
    "id": "cikyH0KsZKHf"
   },
   "outputs": [],
   "source": [
    "# --- Q1 --- \n",
    "# Renaming column names\n",
    "df.rename(columns = {'Survived':'Survival_Status', 'Sex':'Gender', 'Fare':'Fare (in INR)'}, inplace = True)"
   ]
  },
  {
   "cell_type": "code",
   "execution_count": null,
   "metadata": {
    "id": "A1NwTMqnaeGP"
   },
   "outputs": [],
   "source": [
    "# --- Q2 ---\n",
    "# Converting the fare from USD to INR \n",
    "# 1 USD = 79.19 INR (exchange rate at the moment)\n",
    "df['Fare (in INR)'] = df['Fare (in INR)'] * 79.19"
   ]
  },
  {
   "cell_type": "code",
   "execution_count": null,
   "metadata": {
    "colab": {
     "base_uri": "https://localhost:8080/",
     "height": 424
    },
    "executionInfo": {
     "elapsed": 138,
     "status": "ok",
     "timestamp": 1663091316766,
     "user": {
      "displayName": "Krish Agarwal",
      "userId": "14065299221286972614"
     },
     "user_tz": -330
    },
    "id": "-gjAk4CrazP6",
    "outputId": "89917bbe-a007-4b52-c2ca-d84e8b7b86fb"
   },
   "outputs": [
    {
     "data": {
      "text/html": [
       "\n",
       "  <div id=\"df-d077ccb7-dc0e-47be-a50b-fd5fcbe0f1e3\">\n",
       "    <div class=\"colab-df-container\">\n",
       "      <div>\n",
       "<style scoped>\n",
       "    .dataframe tbody tr th:only-of-type {\n",
       "        vertical-align: middle;\n",
       "    }\n",
       "\n",
       "    .dataframe tbody tr th {\n",
       "        vertical-align: top;\n",
       "    }\n",
       "\n",
       "    .dataframe thead th {\n",
       "        text-align: right;\n",
       "    }\n",
       "</style>\n",
       "<table border=\"1\" class=\"dataframe\">\n",
       "  <thead>\n",
       "    <tr style=\"text-align: right;\">\n",
       "      <th></th>\n",
       "      <th>Survival_Status</th>\n",
       "      <th>Pclass</th>\n",
       "      <th>Name</th>\n",
       "      <th>Gender</th>\n",
       "      <th>Age</th>\n",
       "      <th>Siblings/Spouses Aboard</th>\n",
       "      <th>Parents/Children Aboard</th>\n",
       "      <th>Fare (in INR)</th>\n",
       "    </tr>\n",
       "  </thead>\n",
       "  <tbody>\n",
       "    <tr>\n",
       "      <th>0</th>\n",
       "      <td>0</td>\n",
       "      <td>3</td>\n",
       "      <td>Mr. Owen Harris Braund</td>\n",
       "      <td>male</td>\n",
       "      <td>22.0</td>\n",
       "      <td>1</td>\n",
       "      <td>0</td>\n",
       "      <td>574.127500</td>\n",
       "    </tr>\n",
       "    <tr>\n",
       "      <th>1</th>\n",
       "      <td>1</td>\n",
       "      <td>1</td>\n",
       "      <td>Mrs. John Bradley (Florence Briggs Thayer) Cum...</td>\n",
       "      <td>female</td>\n",
       "      <td>38.0</td>\n",
       "      <td>1</td>\n",
       "      <td>0</td>\n",
       "      <td>5644.924527</td>\n",
       "    </tr>\n",
       "    <tr>\n",
       "      <th>2</th>\n",
       "      <td>1</td>\n",
       "      <td>3</td>\n",
       "      <td>Miss. Laina Heikkinen</td>\n",
       "      <td>female</td>\n",
       "      <td>26.0</td>\n",
       "      <td>0</td>\n",
       "      <td>0</td>\n",
       "      <td>627.580750</td>\n",
       "    </tr>\n",
       "    <tr>\n",
       "      <th>3</th>\n",
       "      <td>1</td>\n",
       "      <td>1</td>\n",
       "      <td>Mrs. Jacques Heath (Lily May Peel) Futrelle</td>\n",
       "      <td>female</td>\n",
       "      <td>35.0</td>\n",
       "      <td>1</td>\n",
       "      <td>0</td>\n",
       "      <td>4204.989000</td>\n",
       "    </tr>\n",
       "    <tr>\n",
       "      <th>4</th>\n",
       "      <td>0</td>\n",
       "      <td>3</td>\n",
       "      <td>Mr. William Henry Allen</td>\n",
       "      <td>male</td>\n",
       "      <td>35.0</td>\n",
       "      <td>0</td>\n",
       "      <td>0</td>\n",
       "      <td>637.479500</td>\n",
       "    </tr>\n",
       "    <tr>\n",
       "      <th>...</th>\n",
       "      <td>...</td>\n",
       "      <td>...</td>\n",
       "      <td>...</td>\n",
       "      <td>...</td>\n",
       "      <td>...</td>\n",
       "      <td>...</td>\n",
       "      <td>...</td>\n",
       "      <td>...</td>\n",
       "    </tr>\n",
       "    <tr>\n",
       "      <th>882</th>\n",
       "      <td>0</td>\n",
       "      <td>2</td>\n",
       "      <td>Rev. Juozas Montvila</td>\n",
       "      <td>male</td>\n",
       "      <td>27.0</td>\n",
       "      <td>0</td>\n",
       "      <td>0</td>\n",
       "      <td>1029.470000</td>\n",
       "    </tr>\n",
       "    <tr>\n",
       "      <th>883</th>\n",
       "      <td>1</td>\n",
       "      <td>1</td>\n",
       "      <td>Miss. Margaret Edith Graham</td>\n",
       "      <td>female</td>\n",
       "      <td>19.0</td>\n",
       "      <td>0</td>\n",
       "      <td>0</td>\n",
       "      <td>2375.700000</td>\n",
       "    </tr>\n",
       "    <tr>\n",
       "      <th>884</th>\n",
       "      <td>0</td>\n",
       "      <td>3</td>\n",
       "      <td>Miss. Catherine Helen Johnston</td>\n",
       "      <td>female</td>\n",
       "      <td>7.0</td>\n",
       "      <td>1</td>\n",
       "      <td>2</td>\n",
       "      <td>1857.005500</td>\n",
       "    </tr>\n",
       "    <tr>\n",
       "      <th>885</th>\n",
       "      <td>1</td>\n",
       "      <td>1</td>\n",
       "      <td>Mr. Karl Howell Behr</td>\n",
       "      <td>male</td>\n",
       "      <td>26.0</td>\n",
       "      <td>0</td>\n",
       "      <td>0</td>\n",
       "      <td>2375.700000</td>\n",
       "    </tr>\n",
       "    <tr>\n",
       "      <th>886</th>\n",
       "      <td>0</td>\n",
       "      <td>3</td>\n",
       "      <td>Mr. Patrick Dooley</td>\n",
       "      <td>male</td>\n",
       "      <td>32.0</td>\n",
       "      <td>0</td>\n",
       "      <td>0</td>\n",
       "      <td>613.722500</td>\n",
       "    </tr>\n",
       "  </tbody>\n",
       "</table>\n",
       "<p>887 rows × 8 columns</p>\n",
       "</div>\n",
       "      <button class=\"colab-df-convert\" onclick=\"convertToInteractive('df-d077ccb7-dc0e-47be-a50b-fd5fcbe0f1e3')\"\n",
       "              title=\"Convert this dataframe to an interactive table.\"\n",
       "              style=\"display:none;\">\n",
       "        \n",
       "  <svg xmlns=\"http://www.w3.org/2000/svg\" height=\"24px\"viewBox=\"0 0 24 24\"\n",
       "       width=\"24px\">\n",
       "    <path d=\"M0 0h24v24H0V0z\" fill=\"none\"/>\n",
       "    <path d=\"M18.56 5.44l.94 2.06.94-2.06 2.06-.94-2.06-.94-.94-2.06-.94 2.06-2.06.94zm-11 1L8.5 8.5l.94-2.06 2.06-.94-2.06-.94L8.5 2.5l-.94 2.06-2.06.94zm10 10l.94 2.06.94-2.06 2.06-.94-2.06-.94-.94-2.06-.94 2.06-2.06.94z\"/><path d=\"M17.41 7.96l-1.37-1.37c-.4-.4-.92-.59-1.43-.59-.52 0-1.04.2-1.43.59L10.3 9.45l-7.72 7.72c-.78.78-.78 2.05 0 2.83L4 21.41c.39.39.9.59 1.41.59.51 0 1.02-.2 1.41-.59l7.78-7.78 2.81-2.81c.8-.78.8-2.07 0-2.86zM5.41 20L4 18.59l7.72-7.72 1.47 1.35L5.41 20z\"/>\n",
       "  </svg>\n",
       "      </button>\n",
       "      \n",
       "  <style>\n",
       "    .colab-df-container {\n",
       "      display:flex;\n",
       "      flex-wrap:wrap;\n",
       "      gap: 12px;\n",
       "    }\n",
       "\n",
       "    .colab-df-convert {\n",
       "      background-color: #E8F0FE;\n",
       "      border: none;\n",
       "      border-radius: 50%;\n",
       "      cursor: pointer;\n",
       "      display: none;\n",
       "      fill: #1967D2;\n",
       "      height: 32px;\n",
       "      padding: 0 0 0 0;\n",
       "      width: 32px;\n",
       "    }\n",
       "\n",
       "    .colab-df-convert:hover {\n",
       "      background-color: #E2EBFA;\n",
       "      box-shadow: 0px 1px 2px rgba(60, 64, 67, 0.3), 0px 1px 3px 1px rgba(60, 64, 67, 0.15);\n",
       "      fill: #174EA6;\n",
       "    }\n",
       "\n",
       "    [theme=dark] .colab-df-convert {\n",
       "      background-color: #3B4455;\n",
       "      fill: #D2E3FC;\n",
       "    }\n",
       "\n",
       "    [theme=dark] .colab-df-convert:hover {\n",
       "      background-color: #434B5C;\n",
       "      box-shadow: 0px 1px 3px 1px rgba(0, 0, 0, 0.15);\n",
       "      filter: drop-shadow(0px 1px 2px rgba(0, 0, 0, 0.3));\n",
       "      fill: #FFFFFF;\n",
       "    }\n",
       "  </style>\n",
       "\n",
       "      <script>\n",
       "        const buttonEl =\n",
       "          document.querySelector('#df-d077ccb7-dc0e-47be-a50b-fd5fcbe0f1e3 button.colab-df-convert');\n",
       "        buttonEl.style.display =\n",
       "          google.colab.kernel.accessAllowed ? 'block' : 'none';\n",
       "\n",
       "        async function convertToInteractive(key) {\n",
       "          const element = document.querySelector('#df-d077ccb7-dc0e-47be-a50b-fd5fcbe0f1e3');\n",
       "          const dataTable =\n",
       "            await google.colab.kernel.invokeFunction('convertToInteractive',\n",
       "                                                     [key], {});\n",
       "          if (!dataTable) return;\n",
       "\n",
       "          const docLinkHtml = 'Like what you see? Visit the ' +\n",
       "            '<a target=\"_blank\" href=https://colab.research.google.com/notebooks/data_table.ipynb>data table notebook</a>'\n",
       "            + ' to learn more about interactive tables.';\n",
       "          element.innerHTML = '';\n",
       "          dataTable['output_type'] = 'display_data';\n",
       "          await google.colab.output.renderOutput(dataTable, element);\n",
       "          const docLink = document.createElement('div');\n",
       "          docLink.innerHTML = docLinkHtml;\n",
       "          element.appendChild(docLink);\n",
       "        }\n",
       "      </script>\n",
       "    </div>\n",
       "  </div>\n",
       "  "
      ],
      "text/plain": [
       "     Survival_Status  Pclass  \\\n",
       "0                  0       3   \n",
       "1                  1       1   \n",
       "2                  1       3   \n",
       "3                  1       1   \n",
       "4                  0       3   \n",
       "..               ...     ...   \n",
       "882                0       2   \n",
       "883                1       1   \n",
       "884                0       3   \n",
       "885                1       1   \n",
       "886                0       3   \n",
       "\n",
       "                                                  Name  Gender   Age  \\\n",
       "0                               Mr. Owen Harris Braund    male  22.0   \n",
       "1    Mrs. John Bradley (Florence Briggs Thayer) Cum...  female  38.0   \n",
       "2                                Miss. Laina Heikkinen  female  26.0   \n",
       "3          Mrs. Jacques Heath (Lily May Peel) Futrelle  female  35.0   \n",
       "4                              Mr. William Henry Allen    male  35.0   \n",
       "..                                                 ...     ...   ...   \n",
       "882                               Rev. Juozas Montvila    male  27.0   \n",
       "883                        Miss. Margaret Edith Graham  female  19.0   \n",
       "884                     Miss. Catherine Helen Johnston  female   7.0   \n",
       "885                               Mr. Karl Howell Behr    male  26.0   \n",
       "886                                 Mr. Patrick Dooley    male  32.0   \n",
       "\n",
       "     Siblings/Spouses Aboard  Parents/Children Aboard  Fare (in INR)  \n",
       "0                          1                        0     574.127500  \n",
       "1                          1                        0    5644.924527  \n",
       "2                          0                        0     627.580750  \n",
       "3                          1                        0    4204.989000  \n",
       "4                          0                        0     637.479500  \n",
       "..                       ...                      ...            ...  \n",
       "882                        0                        0    1029.470000  \n",
       "883                        0                        0    2375.700000  \n",
       "884                        1                        2    1857.005500  \n",
       "885                        0                        0    2375.700000  \n",
       "886                        0                        0     613.722500  \n",
       "\n",
       "[887 rows x 8 columns]"
      ]
     },
     "execution_count": 365,
     "metadata": {},
     "output_type": "execute_result"
    }
   ],
   "source": [
    "df"
   ]
  },
  {
   "cell_type": "markdown",
   "metadata": {
    "id": "bbvObiTWbqJC"
   },
   "source": [
    "#### Data Normalization and Standardisation"
   ]
  },
  {
   "cell_type": "code",
   "execution_count": null,
   "metadata": {
    "colab": {
     "base_uri": "https://localhost:8080/"
    },
    "executionInfo": {
     "elapsed": 135,
     "status": "ok",
     "timestamp": 1663091316767,
     "user": {
      "displayName": "Krish Agarwal",
      "userId": "14065299221286972614"
     },
     "user_tz": -330
    },
    "id": "nNepZSQ_a0RX",
    "outputId": "e476efa9-5b64-450d-ac89-003fe1d09eb6"
   },
   "outputs": [
    {
     "data": {
      "text/plain": [
       "0"
      ]
     },
     "execution_count": 366,
     "metadata": {},
     "output_type": "execute_result"
    }
   ],
   "source": [
    "# Checking if there are any NA values\n",
    "df.isnull().sum().sum()"
   ]
  },
  {
   "cell_type": "code",
   "execution_count": null,
   "metadata": {
    "colab": {
     "base_uri": "https://localhost:8080/"
    },
    "executionInfo": {
     "elapsed": 126,
     "status": "ok",
     "timestamp": 1663091316769,
     "user": {
      "displayName": "Krish Agarwal",
      "userId": "14065299221286972614"
     },
     "user_tz": -330
    },
    "id": "MLtpRUbNboJI",
    "outputId": "10616e10-89b7-4256-d8db-ddc9d64fd391"
   },
   "outputs": [
    {
     "data": {
      "text/plain": [
       "Survival_Status              int64\n",
       "Pclass                       int64\n",
       "Name                        object\n",
       "Gender                      object\n",
       "Age                        float64\n",
       "Siblings/Spouses Aboard      int64\n",
       "Parents/Children Aboard      int64\n",
       "Fare (in INR)              float64\n",
       "dtype: object"
      ]
     },
     "execution_count": 367,
     "metadata": {},
     "output_type": "execute_result"
    }
   ],
   "source": [
    "# Checking the respective data types\n",
    "df.dtypes"
   ]
  },
  {
   "cell_type": "code",
   "execution_count": null,
   "metadata": {
    "id": "e72jRsXp67KD"
   },
   "outputs": [],
   "source": [
    "# converting the age column to integer data type\n",
    "df['Age'] = df['Age'].astype(int)"
   ]
  },
  {
   "cell_type": "code",
   "execution_count": null,
   "metadata": {
    "colab": {
     "base_uri": "https://localhost:8080/"
    },
    "executionInfo": {
     "elapsed": 120,
     "status": "ok",
     "timestamp": 1663091316771,
     "user": {
      "displayName": "Krish Agarwal",
      "userId": "14065299221286972614"
     },
     "user_tz": -330
    },
    "id": "y-fvFBjjcM_F",
    "outputId": "728c0227-8582-415b-a9c5-841c89799b34"
   },
   "outputs": [
    {
     "data": {
      "text/plain": [
       "array(['male', 'female'], dtype=object)"
      ]
     },
     "execution_count": 369,
     "metadata": {},
     "output_type": "execute_result"
    }
   ],
   "source": [
    "# Checking the unique values in certain columns\n",
    "df['Gender'].unique()"
   ]
  },
  {
   "cell_type": "code",
   "execution_count": null,
   "metadata": {
    "colab": {
     "base_uri": "https://localhost:8080/"
    },
    "executionInfo": {
     "elapsed": 112,
     "status": "ok",
     "timestamp": 1663091316772,
     "user": {
      "displayName": "Krish Agarwal",
      "userId": "14065299221286972614"
     },
     "user_tz": -330
    },
    "id": "2ISYvHRAcryu",
    "outputId": "f0cf63c6-d288-4719-f32c-62325fc53f61"
   },
   "outputs": [
    {
     "data": {
      "text/plain": [
       "array([3, 1, 2])"
      ]
     },
     "execution_count": 370,
     "metadata": {},
     "output_type": "execute_result"
    }
   ],
   "source": [
    "df['Pclass'].unique()"
   ]
  },
  {
   "cell_type": "code",
   "execution_count": null,
   "metadata": {
    "colab": {
     "base_uri": "https://localhost:8080/"
    },
    "executionInfo": {
     "elapsed": 106,
     "status": "ok",
     "timestamp": 1663091316773,
     "user": {
      "displayName": "Krish Agarwal",
      "userId": "14065299221286972614"
     },
     "user_tz": -330
    },
    "id": "9i-on6Z5c3at",
    "outputId": "f57fc1ec-0aac-490f-b905-d3d2d8c8b55f"
   },
   "outputs": [
    {
     "data": {
      "text/plain": [
       "array([1, 0, 3, 4, 2, 5, 8])"
      ]
     },
     "execution_count": 371,
     "metadata": {},
     "output_type": "execute_result"
    }
   ],
   "source": [
    "df['Siblings/Spouses Aboard'].unique()"
   ]
  },
  {
   "cell_type": "code",
   "execution_count": null,
   "metadata": {
    "colab": {
     "base_uri": "https://localhost:8080/"
    },
    "executionInfo": {
     "elapsed": 101,
     "status": "ok",
     "timestamp": 1663091316775,
     "user": {
      "displayName": "Krish Agarwal",
      "userId": "14065299221286972614"
     },
     "user_tz": -330
    },
    "id": "oiGd6X7JdFOH",
    "outputId": "60df833f-8c35-4b4e-ee05-f71df3a5c609"
   },
   "outputs": [
    {
     "data": {
      "text/plain": [
       "array([0, 1, 2, 5, 3, 4, 6])"
      ]
     },
     "execution_count": 372,
     "metadata": {},
     "output_type": "execute_result"
    }
   ],
   "source": [
    "df['Parents/Children Aboard'].unique()"
   ]
  },
  {
   "cell_type": "markdown",
   "metadata": {
    "id": "xLcZCn6ReHQk"
   },
   "source": [
    "#### Exploration and Insights"
   ]
  },
  {
   "cell_type": "code",
   "execution_count": null,
   "metadata": {
    "id": "TcFF8zSvdJg_"
   },
   "outputs": [],
   "source": [
    "# --- Q3 A ---\n",
    "unmarried_women  = df[df['Name'].str.contains('Miss.', regex=False) | df['Name'].str.contains('Mlle', regex=False)]"
   ]
  },
  {
   "cell_type": "code",
   "execution_count": null,
   "metadata": {
    "colab": {
     "base_uri": "https://localhost:8080/"
    },
    "executionInfo": {
     "elapsed": 8,
     "status": "ok",
     "timestamp": 1663094659875,
     "user": {
      "displayName": "Krish Agarwal",
      "userId": "14065299221286972614"
     },
     "user_tz": -330
    },
    "id": "Zp1GbYW5eD2H",
    "outputId": "48dbddb5-2b9b-43e4-93bd-d1d9640ddb6c"
   },
   "outputs": [
    {
     "data": {
      "text/plain": [
       "129"
      ]
     },
     "execution_count": 436,
     "metadata": {},
     "output_type": "execute_result"
    }
   ],
   "source": [
    "unmarried_women['Survival_Status'][unmarried_women['Survival_Status']==1].count()"
   ]
  },
  {
   "cell_type": "markdown",
   "metadata": {
    "id": "pT251GDxYc1U"
   },
   "source": [
    "*Inference:* There were 184 unmarried women on the boat out of which 129 women survived the crash and 55 died during the crash."
   ]
  },
  {
   "cell_type": "code",
   "execution_count": null,
   "metadata": {
    "id": "jhwD7b8Cf1lr"
   },
   "outputs": [],
   "source": [
    "# --- Q3 B ---\n",
    "married_women = df[df['Name'].str.contains('Mrs.', regex=False) | df['Name'].str.contains('Lady.', regex=False)]"
   ]
  },
  {
   "cell_type": "code",
   "execution_count": null,
   "metadata": {
    "colab": {
     "base_uri": "https://localhost:8080/"
    },
    "executionInfo": {
     "elapsed": 8,
     "status": "ok",
     "timestamp": 1663094649267,
     "user": {
      "displayName": "Krish Agarwal",
      "userId": "14065299221286972614"
     },
     "user_tz": -330
    },
    "id": "9gyujVwJgWc3",
    "outputId": "527721a5-1e91-4f52-a0df-24c274f4b306"
   },
   "outputs": [
    {
     "data": {
      "text/plain": [
       "100"
      ]
     },
     "execution_count": 435,
     "metadata": {},
     "output_type": "execute_result"
    }
   ],
   "source": [
    "married_women['Survival_Status'][married_women['Survival_Status']==1].count()"
   ]
  },
  {
   "cell_type": "markdown",
   "metadata": {
    "id": "pNhBCJ_9g99w"
   },
   "source": [
    "*Inference:* There were 126 married women on the boat out of which 100 survived the crash and 26 died. "
   ]
  },
  {
   "cell_type": "code",
   "execution_count": null,
   "metadata": {
    "id": "j5G5PXA6htqF"
   },
   "outputs": [],
   "source": [
    "# --- Q3 C ---\n",
    "total_wom = [unmarried_women, married_women]\n",
    "total_women =  pd.concat(total_wom)"
   ]
  },
  {
   "cell_type": "code",
   "execution_count": null,
   "metadata": {
    "colab": {
     "base_uri": "https://localhost:8080/"
    },
    "executionInfo": {
     "elapsed": 417,
     "status": "ok",
     "timestamp": 1663094602596,
     "user": {
      "displayName": "Krish Agarwal",
      "userId": "14065299221286972614"
     },
     "user_tz": -330
    },
    "id": "e_ryixGZiITs",
    "outputId": "4b861b97-ca47-42b2-c020-7337c4664b48"
   },
   "outputs": [
    {
     "data": {
      "text/plain": [
       "54"
      ]
     },
     "execution_count": 433,
     "metadata": {},
     "output_type": "execute_result"
    }
   ],
   "source": [
    "total_women['Survival_Status'][((total_women['Siblings/Spouses Aboard']>0) | (total_women['Parents/Children Aboard']>0)) & (total_women['Survival_Status']==0)].count()"
   ]
  },
  {
   "cell_type": "code",
   "execution_count": null,
   "metadata": {
    "colab": {
     "base_uri": "https://localhost:8080/"
    },
    "executionInfo": {
     "elapsed": 8,
     "status": "ok",
     "timestamp": 1663094596445,
     "user": {
      "displayName": "Krish Agarwal",
      "userId": "14065299221286972614"
     },
     "user_tz": -330
    },
    "id": "XzbESZTRr4qF",
    "outputId": "e33b2380-6bc8-4915-83d9-3cb01b095fcf"
   },
   "outputs": [
    {
     "data": {
      "text/plain": [
       "27"
      ]
     },
     "execution_count": 432,
     "metadata": {},
     "output_type": "execute_result"
    }
   ],
   "source": [
    "total_women['Survival_Status'][((total_women['Siblings/Spouses Aboard']==0) & (total_women['Parents/Children Aboard']==0)) & (total_women['Survival_Status']==0)].count()"
   ]
  },
  {
   "cell_type": "markdown",
   "metadata": {
    "id": "WeUoukzxiQdV"
   },
   "source": [
    "*Inference:* There are total 310 females (with categorized Titles) out of which 54 died and had atleast 1 family member and the other 27 who died had no family."
   ]
  },
  {
   "cell_type": "code",
   "execution_count": null,
   "metadata": {
    "id": "6nKaMoZCjz8j"
   },
   "outputs": [],
   "source": [
    "# --- Q3 D --- \n",
    "underage_men = df[df['Name'].str.contains('Master', regex=False)]"
   ]
  },
  {
   "cell_type": "code",
   "execution_count": null,
   "metadata": {
    "colab": {
     "base_uri": "https://localhost:8080/"
    },
    "executionInfo": {
     "elapsed": 2,
     "status": "ok",
     "timestamp": 1663094586939,
     "user": {
      "displayName": "Krish Agarwal",
      "userId": "14065299221286972614"
     },
     "user_tz": -330
    },
    "id": "1ndkdDBgn9dq",
    "outputId": "a921de1b-4e84-4d13-f0d5-81e80fa5a84a"
   },
   "outputs": [
    {
     "data": {
      "text/plain": [
       "40"
      ]
     },
     "execution_count": 431,
     "metadata": {},
     "output_type": "execute_result"
    }
   ],
   "source": [
    "underage_men['Survival_Status'].count()"
   ]
  },
  {
   "cell_type": "code",
   "execution_count": null,
   "metadata": {
    "colab": {
     "base_uri": "https://localhost:8080/"
    },
    "executionInfo": {
     "elapsed": 533,
     "status": "ok",
     "timestamp": 1663094563193,
     "user": {
      "displayName": "Krish Agarwal",
      "userId": "14065299221286972614"
     },
     "user_tz": -330
    },
    "id": "rbq5xBmEoOsr",
    "outputId": "d454e0c3-7d02-4448-c412-77a3efd2d4b5"
   },
   "outputs": [
    {
     "data": {
      "text/plain": [
       "23"
      ]
     },
     "execution_count": 430,
     "metadata": {},
     "output_type": "execute_result"
    }
   ],
   "source": [
    "underage_men['Survival_Status'][underage_men['Survival_Status']==1].count()"
   ]
  },
  {
   "cell_type": "markdown",
   "metadata": {
    "id": "8X6nkuCSkOHW"
   },
   "source": [
    "*Inference:* There are total 40 men under the age of 18 out of which 23 survived the crash and the other 17 died during the crash. "
   ]
  },
  {
   "cell_type": "code",
   "execution_count": null,
   "metadata": {
    "id": "Ti69cHPyoXRP"
   },
   "outputs": [],
   "source": [
    "# --- Q3 E --- \n",
    "men = df[df['Name'].str.contains('Mr.', regex=False) | df['Name'].str.contains('Sir', regex=False)]"
   ]
  },
  {
   "cell_type": "code",
   "execution_count": null,
   "metadata": {
    "colab": {
     "base_uri": "https://localhost:8080/"
    },
    "executionInfo": {
     "elapsed": 626,
     "status": "ok",
     "timestamp": 1663094677336,
     "user": {
      "displayName": "Krish Agarwal",
      "userId": "14065299221286972614"
     },
     "user_tz": -330
    },
    "id": "dD6rbpY5o-Oo",
    "outputId": "34982538-5142-41d1-ad61-74ca29840ed2"
   },
   "outputs": [
    {
     "data": {
      "text/plain": [
       "82"
      ]
     },
     "execution_count": 437,
     "metadata": {},
     "output_type": "execute_result"
    }
   ],
   "source": [
    "men['Survival_Status'][men['Survival_Status']==1].count()"
   ]
  },
  {
   "cell_type": "markdown",
   "metadata": {
    "id": "qftNKHzBmlRE"
   },
   "source": [
    "*Inference:* There are total 514 men above the age of 18 out of which 81 survived the crash and the other 432 died during the crash."
   ]
  },
  {
   "cell_type": "code",
   "execution_count": null,
   "metadata": {
    "id": "AJi0z_1yqBBk"
   },
   "outputs": [],
   "source": [
    "# --- Q3 F ---\n",
    "total_mn = [underage_men, men]\n",
    "total_men = pd.concat(total_mn)"
   ]
  },
  {
   "cell_type": "code",
   "execution_count": null,
   "metadata": {
    "colab": {
     "base_uri": "https://localhost:8080/"
    },
    "executionInfo": {
     "elapsed": 437,
     "status": "ok",
     "timestamp": 1663094552457,
     "user": {
      "displayName": "Krish Agarwal",
      "userId": "14065299221286972614"
     },
     "user_tz": -330
    },
    "id": "3RrhK2g6rN8X",
    "outputId": "9e23e04e-1260-453d-99f1-a6a285846578"
   },
   "outputs": [
    {
     "data": {
      "text/plain": [
       "117"
      ]
     },
     "execution_count": 429,
     "metadata": {},
     "output_type": "execute_result"
    }
   ],
   "source": [
    "total_men['Survival_Status'][((total_men['Siblings/Spouses Aboard']>0) | (total_men['Parents/Children Aboard']>0)) & (total_men['Survival_Status']==0)].count()"
   ]
  },
  {
   "cell_type": "code",
   "execution_count": null,
   "metadata": {
    "colab": {
     "base_uri": "https://localhost:8080/"
    },
    "executionInfo": {
     "elapsed": 490,
     "status": "ok",
     "timestamp": 1663094540676,
     "user": {
      "displayName": "Krish Agarwal",
      "userId": "14065299221286972614"
     },
     "user_tz": -330
    },
    "id": "XMXp0FtIrb65",
    "outputId": "baeeb914-7c24-4b40-b60d-d59404f092c8"
   },
   "outputs": [
    {
     "data": {
      "text/plain": [
       "332"
      ]
     },
     "execution_count": 428,
     "metadata": {},
     "output_type": "execute_result"
    }
   ],
   "source": [
    "total_men['Survival_Status'][((total_men['Siblings/Spouses Aboard']==0) & (total_men['Parents/Children Aboard']==0)) & (total_men['Survival_Status']==0)].count()"
   ]
  },
  {
   "cell_type": "markdown",
   "metadata": {
    "id": "mczQsDHBnUOs"
   },
   "source": [
    "*Inference:* There are total 554 men (with categorizable Titles) out of which 117 died and had atleast one family member and the other 332 who died had no family. "
   ]
  },
  {
   "cell_type": "code",
   "execution_count": null,
   "metadata": {
    "colab": {
     "base_uri": "https://localhost:8080/"
    },
    "executionInfo": {
     "elapsed": 97,
     "status": "ok",
     "timestamp": 1663091318157,
     "user": {
      "displayName": "Krish Agarwal",
      "userId": "14065299221286972614"
     },
     "user_tz": -330
    },
    "id": "6OkvkYLfoHUV",
    "outputId": "c184cb53-dd5f-4eed-9654-287f0d40b17f"
   },
   "outputs": [
    {
     "data": {
      "text/plain": [
       "0.19022687609075042"
      ]
     },
     "execution_count": 388,
     "metadata": {},
     "output_type": "execute_result"
    }
   ],
   "source": [
    "# --- Q3 G ---\n",
    "df[df['Gender']==\"male\"][\"Survival_Status\"].mean()"
   ]
  },
  {
   "cell_type": "code",
   "execution_count": null,
   "metadata": {
    "colab": {
     "base_uri": "https://localhost:8080/"
    },
    "executionInfo": {
     "elapsed": 90,
     "status": "ok",
     "timestamp": 1663091318158,
     "user": {
      "displayName": "Krish Agarwal",
      "userId": "14065299221286972614"
     },
     "user_tz": -330
    },
    "id": "ASOgMACpoGYp",
    "outputId": "282eb5db-4fd3-4cde-dfc5-285fa1b3f624"
   },
   "outputs": [
    {
     "data": {
      "text/plain": [
       "0.7420382165605095"
      ]
     },
     "execution_count": 389,
     "metadata": {},
     "output_type": "execute_result"
    }
   ],
   "source": [
    "df[df['Gender']==\"female\"][\"Survival_Status\"].mean()"
   ]
  },
  {
   "cell_type": "markdown",
   "metadata": {
    "id": "wvdDtOYGoLB1"
   },
   "source": [
    "*Inference*: When the average survival rate of total men and women were compared, then it was seen that women had more survival ratio than men."
   ]
  },
  {
   "cell_type": "code",
   "execution_count": null,
   "metadata": {
    "id": "2Cfgbx0Dsdsu"
   },
   "outputs": [],
   "source": [
    "# --- Q3 H --- \n",
    "rich_class = df[df['Pclass']==1]\n",
    "middle_class = df[df['Pclass']==2]\n",
    "lower_class = df[df['Pclass']==3]"
   ]
  },
  {
   "cell_type": "code",
   "execution_count": null,
   "metadata": {
    "colab": {
     "base_uri": "https://localhost:8080/"
    },
    "executionInfo": {
     "elapsed": 83,
     "status": "ok",
     "timestamp": 1663091318159,
     "user": {
      "displayName": "Krish Agarwal",
      "userId": "14065299221286972614"
     },
     "user_tz": -330
    },
    "id": "p7Yz7Jccu8_a",
    "outputId": "c1a639b3-0431-4669-b601-3287523c46d1"
   },
   "outputs": [
    {
     "data": {
      "text/plain": [
       "count      211.000000\n",
       "mean      6822.129364\n",
       "std       6193.620549\n",
       "min        395.950000\n",
       "25%       2606.174576\n",
       "50%       4908.132848\n",
       "75%       7916.030375\n",
       "max      40571.349348\n",
       "Name: Fare (in INR), dtype: float64"
      ]
     },
     "execution_count": 391,
     "metadata": {},
     "output_type": "execute_result"
    }
   ],
   "source": [
    "rich_class['Fare (in INR)'][rich_class['Fare (in INR)'] != 0].describe()"
   ]
  },
  {
   "cell_type": "code",
   "execution_count": null,
   "metadata": {
    "colab": {
     "base_uri": "https://localhost:8080/"
    },
    "executionInfo": {
     "elapsed": 76,
     "status": "ok",
     "timestamp": 1663091318159,
     "user": {
      "displayName": "Krish Agarwal",
      "userId": "14065299221286972614"
     },
     "user_tz": -330
    },
    "id": "K3juL6Whufx1",
    "outputId": "4cb195ea-7c78-4d39-a01f-55fb6b535706"
   },
   "outputs": [
    {
     "data": {
      "text/plain": [
       "count     178.000000\n",
       "mean     1691.392383\n",
       "std      1036.056125\n",
       "min       831.495000\n",
       "25%      1029.470000\n",
       "50%      1189.663451\n",
       "75%      2058.940000\n",
       "max      5820.465000\n",
       "Name: Fare (in INR), dtype: float64"
      ]
     },
     "execution_count": 392,
     "metadata": {},
     "output_type": "execute_result"
    }
   ],
   "source": [
    "middle_class['Fare (in INR)'][middle_class['Fare (in INR)'] != 0].describe()"
   ]
  },
  {
   "cell_type": "code",
   "execution_count": null,
   "metadata": {
    "colab": {
     "base_uri": "https://localhost:8080/"
    },
    "executionInfo": {
     "elapsed": 68,
     "status": "ok",
     "timestamp": 1663091318160,
     "user": {
      "displayName": "Krish Agarwal",
      "userId": "14065299221286972614"
     },
     "user_tz": -330
    },
    "id": "0pbhNqVCv249",
    "outputId": "31d83dfc-d5aa-4f6a-d3d8-38a56b1f70c7"
   },
   "outputs": [
    {
     "data": {
      "text/plain": [
       "count     483.000000\n",
       "mean     1094.503107\n",
       "std       934.426684\n",
       "min       317.749875\n",
       "25%       613.722500\n",
       "50%       637.479500\n",
       "75%      1227.445000\n",
       "max      5507.664500\n",
       "Name: Fare (in INR), dtype: float64"
      ]
     },
     "execution_count": 393,
     "metadata": {},
     "output_type": "execute_result"
    }
   ],
   "source": [
    "lower_class['Fare (in INR)'][lower_class['Fare (in INR)'] != 0].describe()"
   ]
  },
  {
   "cell_type": "code",
   "execution_count": null,
   "metadata": {
    "colab": {
     "base_uri": "https://localhost:8080/",
     "height": 264
    },
    "executionInfo": {
     "elapsed": 7,
     "status": "ok",
     "timestamp": 1663093007330,
     "user": {
      "displayName": "Krish Agarwal",
      "userId": "14065299221286972614"
     },
     "user_tz": -330
    },
    "id": "UXMOaKTjDcXA",
    "outputId": "7b895aa2-7a54-4bd4-bc87-65b3312e77c1"
   },
   "outputs": [
    {
     "data": {
      "image/png": "[encoded data removed]",
      "text/plain": [
       "<Figure size 432x288 with 1 Axes>"
      ]
     },
     "metadata": {},
     "output_type": "display_data"
    }
   ],
   "source": [
    "var1 = rich_class['Fare (in INR)'][rich_class['Fare (in INR)'] != 0].mean()\n",
    "var2 = middle_class['Fare (in INR)'][middle_class['Fare (in INR)'] != 0].mean()\n",
    "var3 = lower_class['Fare (in INR)'][lower_class['Fare (in INR)'] != 0].mean()\n",
    "\n",
    "array0 = np.array([var1, var2, var3])\n",
    "plt.pie(array0, labels = [\"Rich Class\", \"Middle Class\", \"Lower Class\"], autopct='%1.1f%%')\n",
    "plt.title('Average Ticket Cost')\n",
    "plt.show()"
   ]
  },
  {
   "cell_type": "markdown",
   "metadata": {
    "id": "siRk9E7_pKfm"
   },
   "source": [
    "*Inference:* The dataset was divided on the basis of their Pclass values; 1 signifying lower class, 2 signifying middle class and 3 signifying rich class. Rich class bought tickets roughly worth upto Rs. 6822.12 while middle class bought tickets roughly worth Rs. 1691.39 and the lower class bought tickets roughly worth Rs. 1094.50."
   ]
  },
  {
   "cell_type": "code",
   "execution_count": null,
   "metadata": {
    "id": "JU62xgs2w-Z5"
   },
   "outputs": [],
   "source": [
    "# --- Q3 I ---\n",
    "var4 = rich_class['Fare (in INR)'].sum()\n",
    "var5 = middle_class['Fare (in INR)'].sum()\n",
    "var6 = lower_class['Fare (in INR)'].sum()"
   ]
  },
  {
   "cell_type": "code",
   "execution_count": null,
   "metadata": {
    "colab": {
     "base_uri": "https://localhost:8080/",
     "height": 264
    },
    "executionInfo": {
     "elapsed": 60,
     "status": "ok",
     "timestamp": 1663091318161,
     "user": {
      "displayName": "Krish Agarwal",
      "userId": "14065299221286972614"
     },
     "user_tz": -330
    },
    "id": "-BYdN8wAxHX9",
    "outputId": "5190cc3a-168f-4462-8b59-d3654ab99e85"
   },
   "outputs": [
    {
     "data": {
      "image/png": "[encoded data removed]",
      "text/plain": [
       "<Figure size 432x288 with 1 Axes>"
      ]
     },
     "metadata": {},
     "output_type": "display_data"
    }
   ],
   "source": [
    "array1 = np.array([var4, var5, var6])\n",
    "plt.pie(array1, labels = [\"Rich Class\", \"Middle Class\", \"Lower Class\"], autopct='%1.1f%%')\n",
    "plt.title('Fair Distribution')\n",
    "plt.show()"
   ]
  },
  {
   "cell_type": "markdown",
   "metadata": {
    "id": "YPw1ngeQqFC6"
   },
   "source": [
    "*Inference:* When the total was disrtibuted and plotted between all the classes of passengers, it was noticed that Rich class contributed the most (63.4%), followed by the lower class (23.3%) and then the middle class (13.3%)."
   ]
  },
  {
   "cell_type": "code",
   "execution_count": null,
   "metadata": {
    "colab": {
     "base_uri": "https://localhost:8080/"
    },
    "executionInfo": {
     "elapsed": 2,
     "status": "ok",
     "timestamp": 1663094710725,
     "user": {
      "displayName": "Krish Agarwal",
      "userId": "14065299221286972614"
     },
     "user_tz": -330
    },
    "id": "vUkrPGWkxdS8",
    "outputId": "0108a0ae-3a9a-49b8-93af-388625867cd7"
   },
   "outputs": [
    {
     "data": {
      "text/plain": [
       "15"
      ]
     },
     "execution_count": 438,
     "metadata": {},
     "output_type": "execute_result"
    }
   ],
   "source": [
    "# --- Q3 J ---\n",
    "df['Fare (in INR)'][df['Fare (in INR)']==0].count()"
   ]
  },
  {
   "cell_type": "markdown",
   "metadata": {
    "id": "XWo3ZnA-qp8N"
   },
   "source": [
    "*Inference:* 15 people hadn't paid any fare for their tickets and they seem to have no family as well. This may conclude they were either orphans or loners and the people who did pass on their tickets probably had done this out of empathy. "
   ]
  },
  {
   "cell_type": "code",
   "execution_count": null,
   "metadata": {
    "id": "TirOM-jC1zzC"
   },
   "outputs": [],
   "source": [
    "# --- Q3 K --- \n",
    "var7 = total_women['Fare (in INR)'].sum()\n",
    "var8 = total_men['Fare (in INR)'].sum()"
   ]
  },
  {
   "cell_type": "code",
   "execution_count": null,
   "metadata": {
    "colab": {
     "base_uri": "https://localhost:8080/",
     "height": 264
    },
    "executionInfo": {
     "elapsed": 54,
     "status": "ok",
     "timestamp": 1663091318162,
     "user": {
      "displayName": "Krish Agarwal",
      "userId": "14065299221286972614"
     },
     "user_tz": -330
    },
    "id": "fnPB-MWG0Dnv",
    "outputId": "74ee531f-08bd-4cf6-87e5-2e1991b05846"
   },
   "outputs": [
    {
     "data": {
      "image/png": "[encoded data removed]",
      "text/plain": [
       "<Figure size 432x288 with 1 Axes>"
      ]
     },
     "metadata": {},
     "output_type": "display_data"
    }
   ],
   "source": [
    "array2 = np.array([var7, var8])\n",
    "plt.pie(array2, labels = [\"Women\", \"Men\"], autopct='%1.1f%%')\n",
    "plt.title('Fair Distribution (M vs F)')\n",
    "plt.show()"
   ]
  },
  {
   "cell_type": "markdown",
   "metadata": {
    "id": "qH_rkDnQrkyW"
   },
   "source": [
    "*Inference:* When the total fare was distributed amongst the males and females, it was noticed that men contributed the majority by a small margin."
   ]
  },
  {
   "cell_type": "code",
   "execution_count": null,
   "metadata": {
    "id": "z9OZVs1w2ET5"
   },
   "outputs": [],
   "source": [
    "# --- Q3 L ---\n",
    "uncategorized = df[df['Name'].str.contains('Dr.', regex=False) | df['Name'].str.contains('Capt.', regex=False) | df['Name'].str.contains('Rev.', regex=False) | df['Name'].str.contains('Col.', regex=False)]"
   ]
  },
  {
   "cell_type": "code",
   "execution_count": null,
   "metadata": {
    "colab": {
     "base_uri": "https://localhost:8080/",
     "height": 551
    },
    "executionInfo": {
     "elapsed": 51,
     "status": "ok",
     "timestamp": 1663091318163,
     "user": {
      "displayName": "Krish Agarwal",
      "userId": "14065299221286972614"
     },
     "user_tz": -330
    },
    "id": "Epz7jalM2f6I",
    "outputId": "1ff74110-8e51-4a3c-d40b-877be1fc372f"
   },
   "outputs": [
    {
     "data": {
      "text/html": [
       "\n",
       "  <div id=\"df-311ef068-f5e8-400a-8935-4b4b215984e5\">\n",
       "    <div class=\"colab-df-container\">\n",
       "      <div>\n",
       "<style scoped>\n",
       "    .dataframe tbody tr th:only-of-type {\n",
       "        vertical-align: middle;\n",
       "    }\n",
       "\n",
       "    .dataframe tbody tr th {\n",
       "        vertical-align: top;\n",
       "    }\n",
       "\n",
       "    .dataframe thead th {\n",
       "        text-align: right;\n",
       "    }\n",
       "</style>\n",
       "<table border=\"1\" class=\"dataframe\">\n",
       "  <thead>\n",
       "    <tr style=\"text-align: right;\">\n",
       "      <th></th>\n",
       "      <th>Survival_Status</th>\n",
       "      <th>Pclass</th>\n",
       "      <th>Name</th>\n",
       "      <th>Gender</th>\n",
       "      <th>Age</th>\n",
       "      <th>Siblings/Spouses Aboard</th>\n",
       "      <th>Parents/Children Aboard</th>\n",
       "      <th>Fare (in INR)</th>\n",
       "    </tr>\n",
       "  </thead>\n",
       "  <tbody>\n",
       "    <tr>\n",
       "      <th>148</th>\n",
       "      <td>0</td>\n",
       "      <td>2</td>\n",
       "      <td>Rev. Thomas Roussel Davids Byles</td>\n",
       "      <td>male</td>\n",
       "      <td>42</td>\n",
       "      <td>0</td>\n",
       "      <td>0</td>\n",
       "      <td>1029.470000</td>\n",
       "    </tr>\n",
       "    <tr>\n",
       "      <th>149</th>\n",
       "      <td>0</td>\n",
       "      <td>2</td>\n",
       "      <td>Rev. Robert James Bateman</td>\n",
       "      <td>male</td>\n",
       "      <td>51</td>\n",
       "      <td>0</td>\n",
       "      <td>0</td>\n",
       "      <td>991.854750</td>\n",
       "    </tr>\n",
       "    <tr>\n",
       "      <th>244</th>\n",
       "      <td>0</td>\n",
       "      <td>1</td>\n",
       "      <td>Dr. William Edward Minahan</td>\n",
       "      <td>male</td>\n",
       "      <td>44</td>\n",
       "      <td>2</td>\n",
       "      <td>0</td>\n",
       "      <td>7127.100000</td>\n",
       "    </tr>\n",
       "    <tr>\n",
       "      <th>248</th>\n",
       "      <td>0</td>\n",
       "      <td>2</td>\n",
       "      <td>Rev. Ernest Courtenay Carter</td>\n",
       "      <td>male</td>\n",
       "      <td>54</td>\n",
       "      <td>1</td>\n",
       "      <td>0</td>\n",
       "      <td>2058.940000</td>\n",
       "    </tr>\n",
       "    <tr>\n",
       "      <th>315</th>\n",
       "      <td>0</td>\n",
       "      <td>2</td>\n",
       "      <td>Dr. Ernest Moraweck</td>\n",
       "      <td>male</td>\n",
       "      <td>54</td>\n",
       "      <td>0</td>\n",
       "      <td>0</td>\n",
       "      <td>1108.660000</td>\n",
       "    </tr>\n",
       "    <tr>\n",
       "      <th>396</th>\n",
       "      <td>0</td>\n",
       "      <td>2</td>\n",
       "      <td>Dr. Alfred Pain</td>\n",
       "      <td>male</td>\n",
       "      <td>23</td>\n",
       "      <td>0</td>\n",
       "      <td>0</td>\n",
       "      <td>831.495000</td>\n",
       "    </tr>\n",
       "    <tr>\n",
       "      <th>623</th>\n",
       "      <td>0</td>\n",
       "      <td>2</td>\n",
       "      <td>Rev. Charles Leonard Kirkland</td>\n",
       "      <td>male</td>\n",
       "      <td>57</td>\n",
       "      <td>0</td>\n",
       "      <td>0</td>\n",
       "      <td>977.996500</td>\n",
       "    </tr>\n",
       "    <tr>\n",
       "      <th>629</th>\n",
       "      <td>1</td>\n",
       "      <td>1</td>\n",
       "      <td>Dr. Max Stahelin-Maeglin</td>\n",
       "      <td>male</td>\n",
       "      <td>32</td>\n",
       "      <td>0</td>\n",
       "      <td>0</td>\n",
       "      <td>2415.295000</td>\n",
       "    </tr>\n",
       "    <tr>\n",
       "      <th>644</th>\n",
       "      <td>1</td>\n",
       "      <td>1</td>\n",
       "      <td>Col. Oberst Alfons Simonius-Blumer</td>\n",
       "      <td>male</td>\n",
       "      <td>56</td>\n",
       "      <td>0</td>\n",
       "      <td>0</td>\n",
       "      <td>2811.245000</td>\n",
       "    </tr>\n",
       "    <tr>\n",
       "      <th>657</th>\n",
       "      <td>1</td>\n",
       "      <td>1</td>\n",
       "      <td>Dr. Henry William Frauenthal</td>\n",
       "      <td>male</td>\n",
       "      <td>50</td>\n",
       "      <td>2</td>\n",
       "      <td>0</td>\n",
       "      <td>10583.743500</td>\n",
       "    </tr>\n",
       "    <tr>\n",
       "      <th>691</th>\n",
       "      <td>0</td>\n",
       "      <td>1</td>\n",
       "      <td>Col. John Weir</td>\n",
       "      <td>male</td>\n",
       "      <td>60</td>\n",
       "      <td>0</td>\n",
       "      <td>0</td>\n",
       "      <td>2102.494500</td>\n",
       "    </tr>\n",
       "    <tr>\n",
       "      <th>741</th>\n",
       "      <td>0</td>\n",
       "      <td>1</td>\n",
       "      <td>Capt. Edward Gifford Crosby</td>\n",
       "      <td>male</td>\n",
       "      <td>70</td>\n",
       "      <td>1</td>\n",
       "      <td>1</td>\n",
       "      <td>5622.490000</td>\n",
       "    </tr>\n",
       "    <tr>\n",
       "      <th>762</th>\n",
       "      <td>0</td>\n",
       "      <td>1</td>\n",
       "      <td>Dr. Arthur Jackson Brewe</td>\n",
       "      <td>male</td>\n",
       "      <td>46</td>\n",
       "      <td>0</td>\n",
       "      <td>0</td>\n",
       "      <td>3135.924000</td>\n",
       "    </tr>\n",
       "    <tr>\n",
       "      <th>792</th>\n",
       "      <td>1</td>\n",
       "      <td>1</td>\n",
       "      <td>Dr. Alice (Farnham) Leader</td>\n",
       "      <td>female</td>\n",
       "      <td>49</td>\n",
       "      <td>0</td>\n",
       "      <td>0</td>\n",
       "      <td>2053.333348</td>\n",
       "    </tr>\n",
       "    <tr>\n",
       "      <th>844</th>\n",
       "      <td>0</td>\n",
       "      <td>2</td>\n",
       "      <td>Rev. John Harper</td>\n",
       "      <td>male</td>\n",
       "      <td>28</td>\n",
       "      <td>0</td>\n",
       "      <td>1</td>\n",
       "      <td>2613.270000</td>\n",
       "    </tr>\n",
       "    <tr>\n",
       "      <th>882</th>\n",
       "      <td>0</td>\n",
       "      <td>2</td>\n",
       "      <td>Rev. Juozas Montvila</td>\n",
       "      <td>male</td>\n",
       "      <td>27</td>\n",
       "      <td>0</td>\n",
       "      <td>0</td>\n",
       "      <td>1029.470000</td>\n",
       "    </tr>\n",
       "  </tbody>\n",
       "</table>\n",
       "</div>\n",
       "      <button class=\"colab-df-convert\" onclick=\"convertToInteractive('df-311ef068-f5e8-400a-8935-4b4b215984e5')\"\n",
       "              title=\"Convert this dataframe to an interactive table.\"\n",
       "              style=\"display:none;\">\n",
       "        \n",
       "  <svg xmlns=\"http://www.w3.org/2000/svg\" height=\"24px\"viewBox=\"0 0 24 24\"\n",
       "       width=\"24px\">\n",
       "    <path d=\"M0 0h24v24H0V0z\" fill=\"none\"/>\n",
       "    <path d=\"M18.56 5.44l.94 2.06.94-2.06 2.06-.94-2.06-.94-.94-2.06-.94 2.06-2.06.94zm-11 1L8.5 8.5l.94-2.06 2.06-.94-2.06-.94L8.5 2.5l-.94 2.06-2.06.94zm10 10l.94 2.06.94-2.06 2.06-.94-2.06-.94-.94-2.06-.94 2.06-2.06.94z\"/><path d=\"M17.41 7.96l-1.37-1.37c-.4-.4-.92-.59-1.43-.59-.52 0-1.04.2-1.43.59L10.3 9.45l-7.72 7.72c-.78.78-.78 2.05 0 2.83L4 21.41c.39.39.9.59 1.41.59.51 0 1.02-.2 1.41-.59l7.78-7.78 2.81-2.81c.8-.78.8-2.07 0-2.86zM5.41 20L4 18.59l7.72-7.72 1.47 1.35L5.41 20z\"/>\n",
       "  </svg>\n",
       "      </button>\n",
       "      \n",
       "  <style>\n",
       "    .colab-df-container {\n",
       "      display:flex;\n",
       "      flex-wrap:wrap;\n",
       "      gap: 12px;\n",
       "    }\n",
       "\n",
       "    .colab-df-convert {\n",
       "      background-color: #E8F0FE;\n",
       "      border: none;\n",
       "      border-radius: 50%;\n",
       "      cursor: pointer;\n",
       "      display: none;\n",
       "      fill: #1967D2;\n",
       "      height: 32px;\n",
       "      padding: 0 0 0 0;\n",
       "      width: 32px;\n",
       "    }\n",
       "\n",
       "    .colab-df-convert:hover {\n",
       "      background-color: #E2EBFA;\n",
       "      box-shadow: 0px 1px 2px rgba(60, 64, 67, 0.3), 0px 1px 3px 1px rgba(60, 64, 67, 0.15);\n",
       "      fill: #174EA6;\n",
       "    }\n",
       "\n",
       "    [theme=dark] .colab-df-convert {\n",
       "      background-color: #3B4455;\n",
       "      fill: #D2E3FC;\n",
       "    }\n",
       "\n",
       "    [theme=dark] .colab-df-convert:hover {\n",
       "      background-color: #434B5C;\n",
       "      box-shadow: 0px 1px 3px 1px rgba(0, 0, 0, 0.15);\n",
       "      filter: drop-shadow(0px 1px 2px rgba(0, 0, 0, 0.3));\n",
       "      fill: #FFFFFF;\n",
       "    }\n",
       "  </style>\n",
       "\n",
       "      <script>\n",
       "        const buttonEl =\n",
       "          document.querySelector('#df-311ef068-f5e8-400a-8935-4b4b215984e5 button.colab-df-convert');\n",
       "        buttonEl.style.display =\n",
       "          google.colab.kernel.accessAllowed ? 'block' : 'none';\n",
       "\n",
       "        async function convertToInteractive(key) {\n",
       "          const element = document.querySelector('#df-311ef068-f5e8-400a-8935-4b4b215984e5');\n",
       "          const dataTable =\n",
       "            await google.colab.kernel.invokeFunction('convertToInteractive',\n",
       "                                                     [key], {});\n",
       "          if (!dataTable) return;\n",
       "\n",
       "          const docLinkHtml = 'Like what you see? Visit the ' +\n",
       "            '<a target=\"_blank\" href=https://colab.research.google.com/notebooks/data_table.ipynb>data table notebook</a>'\n",
       "            + ' to learn more about interactive tables.';\n",
       "          element.innerHTML = '';\n",
       "          dataTable['output_type'] = 'display_data';\n",
       "          await google.colab.output.renderOutput(dataTable, element);\n",
       "          const docLink = document.createElement('div');\n",
       "          docLink.innerHTML = docLinkHtml;\n",
       "          element.appendChild(docLink);\n",
       "        }\n",
       "      </script>\n",
       "    </div>\n",
       "  </div>\n",
       "  "
      ],
      "text/plain": [
       "     Survival_Status  Pclass                                Name  Gender  Age  \\\n",
       "148                0       2    Rev. Thomas Roussel Davids Byles    male   42   \n",
       "149                0       2           Rev. Robert James Bateman    male   51   \n",
       "244                0       1          Dr. William Edward Minahan    male   44   \n",
       "248                0       2        Rev. Ernest Courtenay Carter    male   54   \n",
       "315                0       2                 Dr. Ernest Moraweck    male   54   \n",
       "396                0       2                     Dr. Alfred Pain    male   23   \n",
       "623                0       2       Rev. Charles Leonard Kirkland    male   57   \n",
       "629                1       1            Dr. Max Stahelin-Maeglin    male   32   \n",
       "644                1       1  Col. Oberst Alfons Simonius-Blumer    male   56   \n",
       "657                1       1        Dr. Henry William Frauenthal    male   50   \n",
       "691                0       1                      Col. John Weir    male   60   \n",
       "741                0       1         Capt. Edward Gifford Crosby    male   70   \n",
       "762                0       1            Dr. Arthur Jackson Brewe    male   46   \n",
       "792                1       1          Dr. Alice (Farnham) Leader  female   49   \n",
       "844                0       2                    Rev. John Harper    male   28   \n",
       "882                0       2                Rev. Juozas Montvila    male   27   \n",
       "\n",
       "     Siblings/Spouses Aboard  Parents/Children Aboard  Fare (in INR)  \n",
       "148                        0                        0    1029.470000  \n",
       "149                        0                        0     991.854750  \n",
       "244                        2                        0    7127.100000  \n",
       "248                        1                        0    2058.940000  \n",
       "315                        0                        0    1108.660000  \n",
       "396                        0                        0     831.495000  \n",
       "623                        0                        0     977.996500  \n",
       "629                        0                        0    2415.295000  \n",
       "644                        0                        0    2811.245000  \n",
       "657                        2                        0   10583.743500  \n",
       "691                        0                        0    2102.494500  \n",
       "741                        1                        1    5622.490000  \n",
       "762                        0                        0    3135.924000  \n",
       "792                        0                        0    2053.333348  \n",
       "844                        0                        1    2613.270000  \n",
       "882                        0                        0    1029.470000  "
      ]
     },
     "execution_count": 400,
     "metadata": {},
     "output_type": "execute_result"
    }
   ],
   "source": [
    "uncategorized"
   ]
  },
  {
   "cell_type": "markdown",
   "metadata": {
    "id": "s19GZnYGr_al"
   },
   "source": [
    "*Inference:* It was noticed that 16 entries didn't had general titles. Out of these 16, 15 are males and 1 is a female. None of them belong to the lower cost. Amongst them, only 4 survived (1 Colonel and 3 Doctors)"
   ]
  },
  {
   "cell_type": "code",
   "execution_count": null,
   "metadata": {
    "colab": {
     "base_uri": "https://localhost:8080/",
     "height": 269
    },
    "executionInfo": {
     "elapsed": 47,
     "status": "ok",
     "timestamp": 1663091318163,
     "user": {
      "displayName": "Krish Agarwal",
      "userId": "14065299221286972614"
     },
     "user_tz": -330
    },
    "id": "E94vGX-05zT-",
    "outputId": "fb17e1fd-4c21-4007-c657-af87557a4bf5"
   },
   "outputs": [
    {
     "data": {
      "text/html": [
       "\n",
       "  <div id=\"df-c9ae35dc-a8d5-4165-b464-18b143d44fc5\">\n",
       "    <div class=\"colab-df-container\">\n",
       "      <div>\n",
       "<style scoped>\n",
       "    .dataframe tbody tr th:only-of-type {\n",
       "        vertical-align: middle;\n",
       "    }\n",
       "\n",
       "    .dataframe tbody tr th {\n",
       "        vertical-align: top;\n",
       "    }\n",
       "\n",
       "    .dataframe thead th {\n",
       "        text-align: right;\n",
       "    }\n",
       "</style>\n",
       "<table border=\"1\" class=\"dataframe\">\n",
       "  <thead>\n",
       "    <tr style=\"text-align: right;\">\n",
       "      <th></th>\n",
       "      <th>Survival_Status</th>\n",
       "      <th>Pclass</th>\n",
       "      <th>Name</th>\n",
       "      <th>Gender</th>\n",
       "      <th>Age</th>\n",
       "      <th>Siblings/Spouses Aboard</th>\n",
       "      <th>Parents/Children Aboard</th>\n",
       "      <th>Fare (in INR)</th>\n",
       "    </tr>\n",
       "  </thead>\n",
       "  <tbody>\n",
       "    <tr>\n",
       "      <th>77</th>\n",
       "      <td>1</td>\n",
       "      <td>2</td>\n",
       "      <td>Master. Alden Gates Caldwell</td>\n",
       "      <td>male</td>\n",
       "      <td>0</td>\n",
       "      <td>0</td>\n",
       "      <td>2</td>\n",
       "      <td>2296.510000</td>\n",
       "    </tr>\n",
       "    <tr>\n",
       "      <th>303</th>\n",
       "      <td>1</td>\n",
       "      <td>1</td>\n",
       "      <td>Master. Hudson Trevor Allison</td>\n",
       "      <td>male</td>\n",
       "      <td>0</td>\n",
       "      <td>1</td>\n",
       "      <td>2</td>\n",
       "      <td>12001.244500</td>\n",
       "    </tr>\n",
       "    <tr>\n",
       "      <th>466</th>\n",
       "      <td>1</td>\n",
       "      <td>3</td>\n",
       "      <td>Miss. Helene Barbara Baclini</td>\n",
       "      <td>female</td>\n",
       "      <td>0</td>\n",
       "      <td>2</td>\n",
       "      <td>1</td>\n",
       "      <td>1525.064777</td>\n",
       "    </tr>\n",
       "    <tr>\n",
       "      <th>641</th>\n",
       "      <td>1</td>\n",
       "      <td>3</td>\n",
       "      <td>Miss. Eugenie Baclini</td>\n",
       "      <td>female</td>\n",
       "      <td>0</td>\n",
       "      <td>2</td>\n",
       "      <td>1</td>\n",
       "      <td>1525.064777</td>\n",
       "    </tr>\n",
       "    <tr>\n",
       "      <th>751</th>\n",
       "      <td>1</td>\n",
       "      <td>2</td>\n",
       "      <td>Master. Viljo Hamalainen</td>\n",
       "      <td>male</td>\n",
       "      <td>0</td>\n",
       "      <td>1</td>\n",
       "      <td>1</td>\n",
       "      <td>1148.255000</td>\n",
       "    </tr>\n",
       "    <tr>\n",
       "      <th>799</th>\n",
       "      <td>1</td>\n",
       "      <td>3</td>\n",
       "      <td>Master. Assad Alexander Thomas</td>\n",
       "      <td>male</td>\n",
       "      <td>0</td>\n",
       "      <td>0</td>\n",
       "      <td>1</td>\n",
       "      <td>674.437473</td>\n",
       "    </tr>\n",
       "    <tr>\n",
       "      <th>827</th>\n",
       "      <td>1</td>\n",
       "      <td>2</td>\n",
       "      <td>Master. George Sibley Richards</td>\n",
       "      <td>male</td>\n",
       "      <td>0</td>\n",
       "      <td>1</td>\n",
       "      <td>1</td>\n",
       "      <td>1484.812500</td>\n",
       "    </tr>\n",
       "  </tbody>\n",
       "</table>\n",
       "</div>\n",
       "      <button class=\"colab-df-convert\" onclick=\"convertToInteractive('df-c9ae35dc-a8d5-4165-b464-18b143d44fc5')\"\n",
       "              title=\"Convert this dataframe to an interactive table.\"\n",
       "              style=\"display:none;\">\n",
       "        \n",
       "  <svg xmlns=\"http://www.w3.org/2000/svg\" height=\"24px\"viewBox=\"0 0 24 24\"\n",
       "       width=\"24px\">\n",
       "    <path d=\"M0 0h24v24H0V0z\" fill=\"none\"/>\n",
       "    <path d=\"M18.56 5.44l.94 2.06.94-2.06 2.06-.94-2.06-.94-.94-2.06-.94 2.06-2.06.94zm-11 1L8.5 8.5l.94-2.06 2.06-.94-2.06-.94L8.5 2.5l-.94 2.06-2.06.94zm10 10l.94 2.06.94-2.06 2.06-.94-2.06-.94-.94-2.06-.94 2.06-2.06.94z\"/><path d=\"M17.41 7.96l-1.37-1.37c-.4-.4-.92-.59-1.43-.59-.52 0-1.04.2-1.43.59L10.3 9.45l-7.72 7.72c-.78.78-.78 2.05 0 2.83L4 21.41c.39.39.9.59 1.41.59.51 0 1.02-.2 1.41-.59l7.78-7.78 2.81-2.81c.8-.78.8-2.07 0-2.86zM5.41 20L4 18.59l7.72-7.72 1.47 1.35L5.41 20z\"/>\n",
       "  </svg>\n",
       "      </button>\n",
       "      \n",
       "  <style>\n",
       "    .colab-df-container {\n",
       "      display:flex;\n",
       "      flex-wrap:wrap;\n",
       "      gap: 12px;\n",
       "    }\n",
       "\n",
       "    .colab-df-convert {\n",
       "      background-color: #E8F0FE;\n",
       "      border: none;\n",
       "      border-radius: 50%;\n",
       "      cursor: pointer;\n",
       "      display: none;\n",
       "      fill: #1967D2;\n",
       "      height: 32px;\n",
       "      padding: 0 0 0 0;\n",
       "      width: 32px;\n",
       "    }\n",
       "\n",
       "    .colab-df-convert:hover {\n",
       "      background-color: #E2EBFA;\n",
       "      box-shadow: 0px 1px 2px rgba(60, 64, 67, 0.3), 0px 1px 3px 1px rgba(60, 64, 67, 0.15);\n",
       "      fill: #174EA6;\n",
       "    }\n",
       "\n",
       "    [theme=dark] .colab-df-convert {\n",
       "      background-color: #3B4455;\n",
       "      fill: #D2E3FC;\n",
       "    }\n",
       "\n",
       "    [theme=dark] .colab-df-convert:hover {\n",
       "      background-color: #434B5C;\n",
       "      box-shadow: 0px 1px 3px 1px rgba(0, 0, 0, 0.15);\n",
       "      filter: drop-shadow(0px 1px 2px rgba(0, 0, 0, 0.3));\n",
       "      fill: #FFFFFF;\n",
       "    }\n",
       "  </style>\n",
       "\n",
       "      <script>\n",
       "        const buttonEl =\n",
       "          document.querySelector('#df-c9ae35dc-a8d5-4165-b464-18b143d44fc5 button.colab-df-convert');\n",
       "        buttonEl.style.display =\n",
       "          google.colab.kernel.accessAllowed ? 'block' : 'none';\n",
       "\n",
       "        async function convertToInteractive(key) {\n",
       "          const element = document.querySelector('#df-c9ae35dc-a8d5-4165-b464-18b143d44fc5');\n",
       "          const dataTable =\n",
       "            await google.colab.kernel.invokeFunction('convertToInteractive',\n",
       "                                                     [key], {});\n",
       "          if (!dataTable) return;\n",
       "\n",
       "          const docLinkHtml = 'Like what you see? Visit the ' +\n",
       "            '<a target=\"_blank\" href=https://colab.research.google.com/notebooks/data_table.ipynb>data table notebook</a>'\n",
       "            + ' to learn more about interactive tables.';\n",
       "          element.innerHTML = '';\n",
       "          dataTable['output_type'] = 'display_data';\n",
       "          await google.colab.output.renderOutput(dataTable, element);\n",
       "          const docLink = document.createElement('div');\n",
       "          docLink.innerHTML = docLinkHtml;\n",
       "          element.appendChild(docLink);\n",
       "        }\n",
       "      </script>\n",
       "    </div>\n",
       "  </div>\n",
       "  "
      ],
      "text/plain": [
       "     Survival_Status  Pclass                            Name  Gender  Age  \\\n",
       "77                 1       2    Master. Alden Gates Caldwell    male    0   \n",
       "303                1       1   Master. Hudson Trevor Allison    male    0   \n",
       "466                1       3    Miss. Helene Barbara Baclini  female    0   \n",
       "641                1       3           Miss. Eugenie Baclini  female    0   \n",
       "751                1       2        Master. Viljo Hamalainen    male    0   \n",
       "799                1       3  Master. Assad Alexander Thomas    male    0   \n",
       "827                1       2  Master. George Sibley Richards    male    0   \n",
       "\n",
       "     Siblings/Spouses Aboard  Parents/Children Aboard  Fare (in INR)  \n",
       "77                         0                        2    2296.510000  \n",
       "303                        1                        2   12001.244500  \n",
       "466                        2                        1    1525.064777  \n",
       "641                        2                        1    1525.064777  \n",
       "751                        1                        1    1148.255000  \n",
       "799                        0                        1     674.437473  \n",
       "827                        1                        1    1484.812500  "
      ]
     },
     "execution_count": 401,
     "metadata": {},
     "output_type": "execute_result"
    }
   ],
   "source": [
    "# --- Q3 M ---\n",
    "df[df['Age']==0]"
   ]
  },
  {
   "cell_type": "markdown",
   "metadata": {
    "id": "ZWdDMDeSsoe6"
   },
   "source": [
    "*Inference:* It was noticed that there exists 7 wrong entries with age 0 and which is not possible. "
   ]
  },
  {
   "cell_type": "code",
   "execution_count": null,
   "metadata": {
    "colab": {
     "base_uri": "https://localhost:8080/"
    },
    "executionInfo": {
     "elapsed": 872,
     "status": "ok",
     "timestamp": 1663094513374,
     "user": {
      "displayName": "Krish Agarwal",
      "userId": "14065299221286972614"
     },
     "user_tz": -330
    },
    "id": "z_PRPNP6Jw7x",
    "outputId": "c10f8397-b32d-40a4-8398-183d54016808"
   },
   "outputs": [
    {
     "data": {
      "text/plain": [
       "119"
      ]
     },
     "execution_count": 427,
     "metadata": {},
     "output_type": "execute_result"
    }
   ],
   "source": [
    "# --- Q3 N ---\n",
    "df['Survival_Status'][(df['Pclass']==3) & (df['Survival_Status'])].count()"
   ]
  },
  {
   "cell_type": "code",
   "execution_count": null,
   "metadata": {
    "colab": {
     "base_uri": "https://localhost:8080/"
    },
    "executionInfo": {
     "elapsed": 521,
     "status": "ok",
     "timestamp": 1663094759506,
     "user": {
      "displayName": "Krish Agarwal",
      "userId": "14065299221286972614"
     },
     "user_tz": -330
    },
    "id": "sO69GZxbLAK0",
    "outputId": "a88ce653-4757-499b-e93a-ee99b9da80a2"
   },
   "outputs": [
    {
     "data": {
      "text/plain": [
       "87"
      ]
     },
     "execution_count": 439,
     "metadata": {},
     "output_type": "execute_result"
    }
   ],
   "source": [
    "df['Survival_Status'][(df['Pclass']==2) & (df['Survival_Status'])].count()"
   ]
  },
  {
   "cell_type": "code",
   "execution_count": null,
   "metadata": {
    "colab": {
     "base_uri": "https://localhost:8080/"
    },
    "executionInfo": {
     "elapsed": 3,
     "status": "ok",
     "timestamp": 1663094773955,
     "user": {
      "displayName": "Krish Agarwal",
      "userId": "14065299221286972614"
     },
     "user_tz": -330
    },
    "id": "iowiNA9fLDrw",
    "outputId": "6b616fc8-55c9-4a03-f439-550cafd79287"
   },
   "outputs": [
    {
     "data": {
      "text/plain": [
       "136"
      ]
     },
     "execution_count": 441,
     "metadata": {},
     "output_type": "execute_result"
    }
   ],
   "source": [
    "df['Survival_Status'][(df['Pclass']==1) & (df['Survival_Status'])].count()"
   ]
  },
  {
   "cell_type": "markdown",
   "metadata": {
    "id": "sujaxWQ-LJoR"
   },
   "source": [
    "*Inference:* It is noticed that the passengers with Pclass = 1 had the highest survival rate, followed by Pclass = 3 and then Pclass = 2."
   ]
  },
  {
   "cell_type": "code",
   "execution_count": null,
   "metadata": {
    "colab": {
     "base_uri": "https://localhost:8080/"
    },
    "executionInfo": {
     "elapsed": 46,
     "status": "ok",
     "timestamp": 1663091318164,
     "user": {
      "displayName": "Krish Agarwal",
      "userId": "14065299221286972614"
     },
     "user_tz": -330
    },
    "id": "47qAewob7mI4",
    "outputId": "8e5be38d-c886-4d14-c4b3-8fd553973a6c"
   },
   "outputs": [
    {
     "name": "stderr",
     "output_type": "stream",
     "text": [
      "/usr/local/lib/python3.7/dist-packages/ipykernel_launcher.py:15: SettingWithCopyWarning: \n",
      "A value is trying to be set on a copy of a slice from a DataFrame\n",
      "\n",
      "See the caveats in the documentation: https://pandas.pydata.org/pandas-docs/stable/user_guide/indexing.html#returning-a-view-versus-a-copy\n",
      "  from ipykernel import kernelapp as app\n",
      "/usr/local/lib/python3.7/dist-packages/ipykernel_launcher.py:11: SettingWithCopyWarning: \n",
      "A value is trying to be set on a copy of a slice from a DataFrame\n",
      "\n",
      "See the caveats in the documentation: https://pandas.pydata.org/pandas-docs/stable/user_guide/indexing.html#returning-a-view-versus-a-copy\n",
      "  # This is added back by InteractiveShellApp.init_path()\n",
      "/usr/local/lib/python3.7/dist-packages/ipykernel_launcher.py:13: SettingWithCopyWarning: \n",
      "A value is trying to be set on a copy of a slice from a DataFrame\n",
      "\n",
      "See the caveats in the documentation: https://pandas.pydata.org/pandas-docs/stable/user_guide/indexing.html#returning-a-view-versus-a-copy\n",
      "  del sys.path[0]\n"
     ]
    }
   ],
   "source": [
    "# --- Q4 ----\n",
    "\n",
    "# Creating a row entry \n",
    "df.loc[len(df.index)] = [1, 2, 'Mr. Naived Eapen', 'male', 26, 0, 0, 1031.690096] \n",
    "\n",
    "# Creating a column 'Status' on the basis of Pclass\n",
    "# 3-Rich, 2-Middle, 1-Low\n",
    "df[\"Status\"] = \"\"\n",
    "\n",
    "for i in range(len(df['Pclass'])):\n",
    "  if df['Pclass'][i] == 1:\n",
    "    df['Status'][i] =  'Low'\n",
    "  elif df['Pclass'][i] == 2:\n",
    "    df['Status'][i] =  'Middle'\n",
    "  elif df['Pclass'][i] == 3:\n",
    "    df['Status'][i] =  'Rich'"
   ]
  },
  {
   "cell_type": "code",
   "execution_count": null,
   "metadata": {
    "colab": {
     "base_uri": "https://localhost:8080/",
     "height": 424
    },
    "executionInfo": {
     "elapsed": 456,
     "status": "ok",
     "timestamp": 1663092009689,
     "user": {
      "displayName": "Krish Agarwal",
      "userId": "14065299221286972614"
     },
     "user_tz": -330
    },
    "id": "9e5jFQ4EAhph",
    "outputId": "759a18b1-139b-4c54-e9fa-79b984b2c2a7"
   },
   "outputs": [
    {
     "data": {
      "text/html": [
       "\n",
       "  <div id=\"df-aee9e916-1e9e-4ac6-94fc-30f3b985e068\">\n",
       "    <div class=\"colab-df-container\">\n",
       "      <div>\n",
       "<style scoped>\n",
       "    .dataframe tbody tr th:only-of-type {\n",
       "        vertical-align: middle;\n",
       "    }\n",
       "\n",
       "    .dataframe tbody tr th {\n",
       "        vertical-align: top;\n",
       "    }\n",
       "\n",
       "    .dataframe thead th {\n",
       "        text-align: right;\n",
       "    }\n",
       "</style>\n",
       "<table border=\"1\" class=\"dataframe\">\n",
       "  <thead>\n",
       "    <tr style=\"text-align: right;\">\n",
       "      <th></th>\n",
       "      <th>Survival_Status</th>\n",
       "      <th>Pclass</th>\n",
       "      <th>Name</th>\n",
       "      <th>Gender</th>\n",
       "      <th>Age</th>\n",
       "      <th>Siblings/Spouses Aboard</th>\n",
       "      <th>Parents/Children Aboard</th>\n",
       "      <th>Fare (in INR)</th>\n",
       "      <th>Status</th>\n",
       "    </tr>\n",
       "  </thead>\n",
       "  <tbody>\n",
       "    <tr>\n",
       "      <th>0</th>\n",
       "      <td>0</td>\n",
       "      <td>3</td>\n",
       "      <td>Mr. Owen Harris Braund</td>\n",
       "      <td>male</td>\n",
       "      <td>22</td>\n",
       "      <td>1</td>\n",
       "      <td>0</td>\n",
       "      <td>574.127500</td>\n",
       "      <td>Rich</td>\n",
       "    </tr>\n",
       "    <tr>\n",
       "      <th>1</th>\n",
       "      <td>1</td>\n",
       "      <td>1</td>\n",
       "      <td>Mrs. John Bradley (Florence Briggs Thayer) Cum...</td>\n",
       "      <td>female</td>\n",
       "      <td>38</td>\n",
       "      <td>1</td>\n",
       "      <td>0</td>\n",
       "      <td>5644.924527</td>\n",
       "      <td>Low</td>\n",
       "    </tr>\n",
       "    <tr>\n",
       "      <th>2</th>\n",
       "      <td>1</td>\n",
       "      <td>3</td>\n",
       "      <td>Miss. Laina Heikkinen</td>\n",
       "      <td>female</td>\n",
       "      <td>26</td>\n",
       "      <td>0</td>\n",
       "      <td>0</td>\n",
       "      <td>627.580750</td>\n",
       "      <td>Rich</td>\n",
       "    </tr>\n",
       "    <tr>\n",
       "      <th>3</th>\n",
       "      <td>1</td>\n",
       "      <td>1</td>\n",
       "      <td>Mrs. Jacques Heath (Lily May Peel) Futrelle</td>\n",
       "      <td>female</td>\n",
       "      <td>35</td>\n",
       "      <td>1</td>\n",
       "      <td>0</td>\n",
       "      <td>4204.989000</td>\n",
       "      <td>Low</td>\n",
       "    </tr>\n",
       "    <tr>\n",
       "      <th>4</th>\n",
       "      <td>0</td>\n",
       "      <td>3</td>\n",
       "      <td>Mr. William Henry Allen</td>\n",
       "      <td>male</td>\n",
       "      <td>35</td>\n",
       "      <td>0</td>\n",
       "      <td>0</td>\n",
       "      <td>637.479500</td>\n",
       "      <td>Rich</td>\n",
       "    </tr>\n",
       "    <tr>\n",
       "      <th>...</th>\n",
       "      <td>...</td>\n",
       "      <td>...</td>\n",
       "      <td>...</td>\n",
       "      <td>...</td>\n",
       "      <td>...</td>\n",
       "      <td>...</td>\n",
       "      <td>...</td>\n",
       "      <td>...</td>\n",
       "      <td>...</td>\n",
       "    </tr>\n",
       "    <tr>\n",
       "      <th>883</th>\n",
       "      <td>1</td>\n",
       "      <td>1</td>\n",
       "      <td>Miss. Margaret Edith Graham</td>\n",
       "      <td>female</td>\n",
       "      <td>19</td>\n",
       "      <td>0</td>\n",
       "      <td>0</td>\n",
       "      <td>2375.700000</td>\n",
       "      <td>Low</td>\n",
       "    </tr>\n",
       "    <tr>\n",
       "      <th>884</th>\n",
       "      <td>0</td>\n",
       "      <td>3</td>\n",
       "      <td>Miss. Catherine Helen Johnston</td>\n",
       "      <td>female</td>\n",
       "      <td>7</td>\n",
       "      <td>1</td>\n",
       "      <td>2</td>\n",
       "      <td>1857.005500</td>\n",
       "      <td>Rich</td>\n",
       "    </tr>\n",
       "    <tr>\n",
       "      <th>885</th>\n",
       "      <td>1</td>\n",
       "      <td>1</td>\n",
       "      <td>Mr. Karl Howell Behr</td>\n",
       "      <td>male</td>\n",
       "      <td>26</td>\n",
       "      <td>0</td>\n",
       "      <td>0</td>\n",
       "      <td>2375.700000</td>\n",
       "      <td>Low</td>\n",
       "    </tr>\n",
       "    <tr>\n",
       "      <th>886</th>\n",
       "      <td>0</td>\n",
       "      <td>3</td>\n",
       "      <td>Mr. Patrick Dooley</td>\n",
       "      <td>male</td>\n",
       "      <td>32</td>\n",
       "      <td>0</td>\n",
       "      <td>0</td>\n",
       "      <td>613.722500</td>\n",
       "      <td>Rich</td>\n",
       "    </tr>\n",
       "    <tr>\n",
       "      <th>887</th>\n",
       "      <td>1</td>\n",
       "      <td>2</td>\n",
       "      <td>Mr. Naived Eapen</td>\n",
       "      <td>male</td>\n",
       "      <td>26</td>\n",
       "      <td>0</td>\n",
       "      <td>0</td>\n",
       "      <td>1031.690096</td>\n",
       "      <td>Middle</td>\n",
       "    </tr>\n",
       "  </tbody>\n",
       "</table>\n",
       "<p>888 rows × 9 columns</p>\n",
       "</div>\n",
       "      <button class=\"colab-df-convert\" onclick=\"convertToInteractive('df-aee9e916-1e9e-4ac6-94fc-30f3b985e068')\"\n",
       "              title=\"Convert this dataframe to an interactive table.\"\n",
       "              style=\"display:none;\">\n",
       "        \n",
       "  <svg xmlns=\"http://www.w3.org/2000/svg\" height=\"24px\"viewBox=\"0 0 24 24\"\n",
       "       width=\"24px\">\n",
       "    <path d=\"M0 0h24v24H0V0z\" fill=\"none\"/>\n",
       "    <path d=\"M18.56 5.44l.94 2.06.94-2.06 2.06-.94-2.06-.94-.94-2.06-.94 2.06-2.06.94zm-11 1L8.5 8.5l.94-2.06 2.06-.94-2.06-.94L8.5 2.5l-.94 2.06-2.06.94zm10 10l.94 2.06.94-2.06 2.06-.94-2.06-.94-.94-2.06-.94 2.06-2.06.94z\"/><path d=\"M17.41 7.96l-1.37-1.37c-.4-.4-.92-.59-1.43-.59-.52 0-1.04.2-1.43.59L10.3 9.45l-7.72 7.72c-.78.78-.78 2.05 0 2.83L4 21.41c.39.39.9.59 1.41.59.51 0 1.02-.2 1.41-.59l7.78-7.78 2.81-2.81c.8-.78.8-2.07 0-2.86zM5.41 20L4 18.59l7.72-7.72 1.47 1.35L5.41 20z\"/>\n",
       "  </svg>\n",
       "      </button>\n",
       "      \n",
       "  <style>\n",
       "    .colab-df-container {\n",
       "      display:flex;\n",
       "      flex-wrap:wrap;\n",
       "      gap: 12px;\n",
       "    }\n",
       "\n",
       "    .colab-df-convert {\n",
       "      background-color: #E8F0FE;\n",
       "      border: none;\n",
       "      border-radius: 50%;\n",
       "      cursor: pointer;\n",
       "      display: none;\n",
       "      fill: #1967D2;\n",
       "      height: 32px;\n",
       "      padding: 0 0 0 0;\n",
       "      width: 32px;\n",
       "    }\n",
       "\n",
       "    .colab-df-convert:hover {\n",
       "      background-color: #E2EBFA;\n",
       "      box-shadow: 0px 1px 2px rgba(60, 64, 67, 0.3), 0px 1px 3px 1px rgba(60, 64, 67, 0.15);\n",
       "      fill: #174EA6;\n",
       "    }\n",
       "\n",
       "    [theme=dark] .colab-df-convert {\n",
       "      background-color: #3B4455;\n",
       "      fill: #D2E3FC;\n",
       "    }\n",
       "\n",
       "    [theme=dark] .colab-df-convert:hover {\n",
       "      background-color: #434B5C;\n",
       "      box-shadow: 0px 1px 3px 1px rgba(0, 0, 0, 0.15);\n",
       "      filter: drop-shadow(0px 1px 2px rgba(0, 0, 0, 0.3));\n",
       "      fill: #FFFFFF;\n",
       "    }\n",
       "  </style>\n",
       "\n",
       "      <script>\n",
       "        const buttonEl =\n",
       "          document.querySelector('#df-aee9e916-1e9e-4ac6-94fc-30f3b985e068 button.colab-df-convert');\n",
       "        buttonEl.style.display =\n",
       "          google.colab.kernel.accessAllowed ? 'block' : 'none';\n",
       "\n",
       "        async function convertToInteractive(key) {\n",
       "          const element = document.querySelector('#df-aee9e916-1e9e-4ac6-94fc-30f3b985e068');\n",
       "          const dataTable =\n",
       "            await google.colab.kernel.invokeFunction('convertToInteractive',\n",
       "                                                     [key], {});\n",
       "          if (!dataTable) return;\n",
       "\n",
       "          const docLinkHtml = 'Like what you see? Visit the ' +\n",
       "            '<a target=\"_blank\" href=https://colab.research.google.com/notebooks/data_table.ipynb>data table notebook</a>'\n",
       "            + ' to learn more about interactive tables.';\n",
       "          element.innerHTML = '';\n",
       "          dataTable['output_type'] = 'display_data';\n",
       "          await google.colab.output.renderOutput(dataTable, element);\n",
       "          const docLink = document.createElement('div');\n",
       "          docLink.innerHTML = docLinkHtml;\n",
       "          element.appendChild(docLink);\n",
       "        }\n",
       "      </script>\n",
       "    </div>\n",
       "  </div>\n",
       "  "
      ],
      "text/plain": [
       "     Survival_Status  Pclass  \\\n",
       "0                  0       3   \n",
       "1                  1       1   \n",
       "2                  1       3   \n",
       "3                  1       1   \n",
       "4                  0       3   \n",
       "..               ...     ...   \n",
       "883                1       1   \n",
       "884                0       3   \n",
       "885                1       1   \n",
       "886                0       3   \n",
       "887                1       2   \n",
       "\n",
       "                                                  Name  Gender  Age  \\\n",
       "0                               Mr. Owen Harris Braund    male   22   \n",
       "1    Mrs. John Bradley (Florence Briggs Thayer) Cum...  female   38   \n",
       "2                                Miss. Laina Heikkinen  female   26   \n",
       "3          Mrs. Jacques Heath (Lily May Peel) Futrelle  female   35   \n",
       "4                              Mr. William Henry Allen    male   35   \n",
       "..                                                 ...     ...  ...   \n",
       "883                        Miss. Margaret Edith Graham  female   19   \n",
       "884                     Miss. Catherine Helen Johnston  female    7   \n",
       "885                               Mr. Karl Howell Behr    male   26   \n",
       "886                                 Mr. Patrick Dooley    male   32   \n",
       "887                                   Mr. Naived Eapen    male   26   \n",
       "\n",
       "     Siblings/Spouses Aboard  Parents/Children Aboard  Fare (in INR)  Status  \n",
       "0                          1                        0     574.127500    Rich  \n",
       "1                          1                        0    5644.924527     Low  \n",
       "2                          0                        0     627.580750    Rich  \n",
       "3                          1                        0    4204.989000     Low  \n",
       "4                          0                        0     637.479500    Rich  \n",
       "..                       ...                      ...            ...     ...  \n",
       "883                        0                        0    2375.700000     Low  \n",
       "884                        1                        2    1857.005500    Rich  \n",
       "885                        0                        0    2375.700000     Low  \n",
       "886                        0                        0     613.722500    Rich  \n",
       "887                        0                        0    1031.690096  Middle  \n",
       "\n",
       "[888 rows x 9 columns]"
      ]
     },
     "execution_count": 409,
     "metadata": {},
     "output_type": "execute_result"
    }
   ],
   "source": [
    "df"
   ]
  },
  {
   "cell_type": "code",
   "execution_count": null,
   "metadata": {
    "colab": {
     "base_uri": "https://localhost:8080/"
    },
    "executionInfo": {
     "elapsed": 1248,
     "status": "ok",
     "timestamp": 1663091901248,
     "user": {
      "displayName": "Krish Agarwal",
      "userId": "14065299221286972614"
     },
     "user_tz": -330
    },
    "id": "vu5gOi_z8EWm",
    "outputId": "f4e65901-f3df-4dfb-e7b5-1d4bdfe98303"
   },
   "outputs": [
    {
     "name": "stdout",
     "output_type": "stream",
     "text": [
      "Rich|Low|Rich|Low|Rich|Rich|Low|Rich|Rich|Middle|Rich|Low|Rich|Rich|Rich|Middle|Rich|Middle|Rich|Rich|Middle|Middle|Rich|Low|Rich|Rich|Rich|Low|Rich|Rich|Low|Low|Rich|Middle|Low|Low|Rich|Rich|Rich|Rich|Rich|Middle|Middle|Rich|Rich|Rich|Rich|Rich|Rich|Rich|Rich|Low|Middle|Low|Low|Middle|Rich|Middle|Rich|Rich|Low|Low|Rich|Low|Rich|Middle|Rich|Rich|Rich|Middle|Rich|Middle|Rich|Rich|Rich|Rich|Rich|Middle|Rich|Rich|Rich|Rich|Low|Middle|Rich|Rich|Rich|Low|Rich|Rich|Rich|Low|Rich|Rich|Rich|Low|Low|Middle|Middle|Rich|Rich|Low|Rich|Rich|Rich|Rich|Rich|Rich|Rich|Low|Rich|Rich|Rich|Rich|Rich|Rich|Middle|Low|Rich|Middle|Rich|Middle|Middle|Low|Rich|Rich|Rich|Rich|Rich|Rich|Rich|Rich|Middle|Middle|Middle|Low|Low|Rich|Low|Rich|Rich|Rich|Rich|Middle|Middle|Rich|Rich|Middle|Middle|Middle|Low|Rich|Rich|Rich|Low|Rich|Rich|Rich|Rich|Rich|Middle|Rich|Rich|Rich|Rich|Low|Rich|Low|Rich|Low|Rich|Rich|Rich|Low|Rich|Rich|Low|Middle|Rich|Rich|Middle|Rich|Middle|Rich|Low|Rich|Low|Rich|Rich|Middle|Middle|Rich|Middle|Low|Low|Rich|Rich|Rich|Middle|Rich|Rich|Rich|Rich|Rich|Rich|Rich|Rich|Rich|Low|Rich|Middle|Rich|Middle|Rich|Low|Rich|Middle|Low|Middle|Rich|Middle|Rich|Rich|Low|Rich|Middle|Rich|Middle|Rich|Low|Rich|Middle|Rich|Middle|Rich|Middle|Middle|Middle|Middle|Rich|Rich|Middle|Rich|Rich|Low|Rich|Middle|Low|Middle|Rich|Rich|Low|Rich|Rich|Rich|Low|Low|Low|Middle|Rich|Low|Low|Rich|Middle|Rich|Rich|Low|Low|Low|Rich|Middle|Low|Rich|Low|Rich|Middle|Rich|Rich|Rich|Rich|Rich|Rich|Low|Rich|Rich|Rich|Middle|Rich|Low|Low|Middle|Rich|Rich|Low|Rich|Low|Low|Low|Rich|Rich|Rich|Middle|Rich|Low|Low|Low|Middle|Low|Low|Low|Middle|Rich|Middle|Rich|Middle|Middle|Low|Low|Rich|Rich|Middle|Middle|Rich|Low|Rich|Middle|Rich|Low|Rich|Low|Low|Rich|Low|Rich|Low|Low|Rich|Low|Middle|Low|Middle|Middle|Middle|Middle|Middle|Rich|Rich|Rich|Rich|Low|Rich|Rich|Rich|Rich|Low|Middle|Rich|Rich|Rich|Middle|Rich|Rich|Rich|Rich|Low|Rich|Rich|Low|Low|Rich|Rich|Low|Rich|Low|Rich|Low|Rich|Rich|Low|Rich|Rich|Low|Rich|Middle|Rich|Middle|Rich|Middle|Low|Rich|Rich|Low|Rich|Rich|Rich|Middle|Middle|Middle|Rich|Rich|Rich|Rich|Rich|Middle|Rich|Middle|Rich|Rich|Rich|Rich|Low|Middle|Rich|Rich|Middle|Middle|Middle|Rich|Rich|Rich|Rich|Rich|Rich|Middle|Middle|Rich|Rich|Low|Rich|Middle|Rich|Low|Low|Rich|Middle|Low|Middle|Middle|Rich|Rich|Middle|Rich|Low|Middle|Low|Rich|Low|Middle|Rich|Low|Low|Rich|Rich|Low|Low|Middle|Rich|Low|Rich|Low|Middle|Rich|Rich|Middle|Low|Rich|Rich|Rich|Rich|Middle|Middle|Rich|Low|Middle|Rich|Rich|Rich|Rich|Middle|Rich|Rich|Low|Rich|Low|Low|Rich|Rich|Rich|Rich|Low|Low|Rich|Rich|Low|Rich|Low|Rich|Rich|Rich|Rich|Rich|Low|Low|Middle|Low|Rich|Rich|Rich|Rich|Low|Low|Rich|Low|Middle|Rich|Middle|Rich|Low|Rich|Rich|Low|Rich|Rich|Middle|Low|Rich|Middle|Middle|Rich|Rich|Rich|Rich|Middle|Low|Low|Rich|Low|Low|Rich|Rich|Middle|Low|Low|Middle|Middle|Rich|Middle|Low|Middle|Rich|Rich|Rich|Low|Low|Low|Low|Rich|Rich|Rich|Middle|Rich|Rich|Rich|Rich|Rich|Rich|Rich|Middle|Low|Low|Rich|Rich|Rich|Middle|Low|Rich|Rich|Middle|Low|Middle|Low|Rich|Low|Middle|Low|Rich|Rich|Rich|Low|Rich|Rich|Middle|Rich|Middle|Rich|Rich|Low|Middle|Rich|Low|Rich|Low|Rich|Rich|Low|Middle|Low|Rich|Rich|Rich|Rich|Rich|Middle|Rich|Rich|Middle|Middle|Rich|Low|Rich|Rich|Rich|Low|Middle|Low|Rich|Rich|Low|Rich|Low|Low|Rich|Middle|Rich|Middle|Rich|Rich|Rich|Low|Rich|Rich|Rich|Low|Rich|Low|Rich|Rich|Rich|Middle|Rich|Rich|Rich|Middle|Rich|Rich|Middle|Low|Low|Rich|Low|Rich|Rich|Middle|Middle|Rich|Rich|Low|Middle|Low|Middle|Middle|Middle|Rich|Rich|Rich|Rich|Low|Rich|Low|Rich|Rich|Middle|Middle|Rich|Rich|Rich|Low|Low|Rich|Rich|Rich|Low|Middle|Rich|Rich|Low|Rich|Low|Low|Rich|Rich|Rich|Middle|Middle|Low|Low|Rich|Low|Low|Low|Rich|Middle|Rich|Low|Middle|Rich|Middle|Rich|Middle|Middle|Low|Rich|Middle|Rich|Middle|Rich|Low|Rich|Middle|Middle|Middle|Rich|Rich|Low|Rich|Rich|Low|Low|Low|Rich|Rich|Low|Rich|Middle|Low|Rich|Middle|Rich|Rich|Rich|Middle|Middle|Rich|Middle|Rich|Low|Rich|Rich|Rich|Low|Rich|Low|Low|Rich|Rich|Rich|Rich|Rich|Middle|Rich|Middle|Rich|Rich|Rich|Rich|Low|Rich|Low|Low|Rich|Rich|Rich|Rich|Rich|Rich|Low|Rich|Middle|Rich|Low|Rich|Middle|Low|Rich|Rich|Rich|Middle|Middle|Low|Rich|Rich|Rich|Low|Rich|Middle|Low|Rich|Rich|Middle|Rich|Rich|Low|Rich|Middle|Rich|Rich|Low|Rich|Low|Rich|Rich|Rich|Rich|Middle|Rich|Low|Rich|Middle|Rich|Rich|Rich|Low|Rich|Rich|Rich|Low|Rich|Middle|Low|Rich|Rich|Rich|Rich|Rich|Middle|Low|Rich|Rich|Rich|Low|Middle|Rich|Low|Low|Rich|Rich|Rich|Middle|Low|Rich|Middle|Middle|Middle|Low|Rich|Rich|Rich|Low|Low|Rich|Middle|Rich|Rich|Rich|Rich|Low|Middle|Rich|Rich|Middle|Rich|Rich|Middle|Low|Rich|Low|Rich|Middle|"
     ]
    }
   ],
   "source": [
    "# iterrows\n",
    "for index, row in df.iterrows():\n",
    "  print(row[\"Status\"], end = \"|\")"
   ]
  },
  {
   "cell_type": "code",
   "execution_count": null,
   "metadata": {
    "id": "Q_GmmJAVAbwJ"
   },
   "outputs": [],
   "source": [
    "# Deleting a row from the dataset \n",
    "df = df.drop(887)\n",
    "df"
   ]
  },
  {
   "cell_type": "code",
   "execution_count": null,
   "metadata": {
    "colab": {
     "base_uri": "https://localhost:8080/",
     "height": 424
    },
    "executionInfo": {
     "elapsed": 472,
     "status": "ok",
     "timestamp": 1663092162969,
     "user": {
      "displayName": "Krish Agarwal",
      "userId": "14065299221286972614"
     },
     "user_tz": -330
    },
    "id": "9a6G73LSAvH6",
    "outputId": "49c4e791-de09-4f4d-c86f-75f439fac1f3"
   },
   "outputs": [
    {
     "data": {
      "text/html": [
       "\n",
       "  <div id=\"df-c2b5b8f9-5982-44db-96d2-318bc60a51ef\">\n",
       "    <div class=\"colab-df-container\">\n",
       "      <div>\n",
       "<style scoped>\n",
       "    .dataframe tbody tr th:only-of-type {\n",
       "        vertical-align: middle;\n",
       "    }\n",
       "\n",
       "    .dataframe tbody tr th {\n",
       "        vertical-align: top;\n",
       "    }\n",
       "\n",
       "    .dataframe thead th {\n",
       "        text-align: right;\n",
       "    }\n",
       "</style>\n",
       "<table border=\"1\" class=\"dataframe\">\n",
       "  <thead>\n",
       "    <tr style=\"text-align: right;\">\n",
       "      <th></th>\n",
       "      <th>Survival_Status</th>\n",
       "      <th>Pclass</th>\n",
       "      <th>Name</th>\n",
       "      <th>Gender</th>\n",
       "      <th>Age</th>\n",
       "      <th>Siblings/Spouses Aboard</th>\n",
       "      <th>Parents/Children Aboard</th>\n",
       "      <th>Fare (in INR)</th>\n",
       "    </tr>\n",
       "  </thead>\n",
       "  <tbody>\n",
       "    <tr>\n",
       "      <th>0</th>\n",
       "      <td>0</td>\n",
       "      <td>3</td>\n",
       "      <td>Mr. Owen Harris Braund</td>\n",
       "      <td>male</td>\n",
       "      <td>22</td>\n",
       "      <td>1</td>\n",
       "      <td>0</td>\n",
       "      <td>574.127500</td>\n",
       "    </tr>\n",
       "    <tr>\n",
       "      <th>1</th>\n",
       "      <td>1</td>\n",
       "      <td>1</td>\n",
       "      <td>Mrs. John Bradley (Florence Briggs Thayer) Cum...</td>\n",
       "      <td>female</td>\n",
       "      <td>38</td>\n",
       "      <td>1</td>\n",
       "      <td>0</td>\n",
       "      <td>5644.924527</td>\n",
       "    </tr>\n",
       "    <tr>\n",
       "      <th>2</th>\n",
       "      <td>1</td>\n",
       "      <td>3</td>\n",
       "      <td>Miss. Laina Heikkinen</td>\n",
       "      <td>female</td>\n",
       "      <td>26</td>\n",
       "      <td>0</td>\n",
       "      <td>0</td>\n",
       "      <td>627.580750</td>\n",
       "    </tr>\n",
       "    <tr>\n",
       "      <th>3</th>\n",
       "      <td>1</td>\n",
       "      <td>1</td>\n",
       "      <td>Mrs. Jacques Heath (Lily May Peel) Futrelle</td>\n",
       "      <td>female</td>\n",
       "      <td>35</td>\n",
       "      <td>1</td>\n",
       "      <td>0</td>\n",
       "      <td>4204.989000</td>\n",
       "    </tr>\n",
       "    <tr>\n",
       "      <th>4</th>\n",
       "      <td>0</td>\n",
       "      <td>3</td>\n",
       "      <td>Mr. William Henry Allen</td>\n",
       "      <td>male</td>\n",
       "      <td>35</td>\n",
       "      <td>0</td>\n",
       "      <td>0</td>\n",
       "      <td>637.479500</td>\n",
       "    </tr>\n",
       "    <tr>\n",
       "      <th>...</th>\n",
       "      <td>...</td>\n",
       "      <td>...</td>\n",
       "      <td>...</td>\n",
       "      <td>...</td>\n",
       "      <td>...</td>\n",
       "      <td>...</td>\n",
       "      <td>...</td>\n",
       "      <td>...</td>\n",
       "    </tr>\n",
       "    <tr>\n",
       "      <th>882</th>\n",
       "      <td>0</td>\n",
       "      <td>2</td>\n",
       "      <td>Rev. Juozas Montvila</td>\n",
       "      <td>male</td>\n",
       "      <td>27</td>\n",
       "      <td>0</td>\n",
       "      <td>0</td>\n",
       "      <td>1029.470000</td>\n",
       "    </tr>\n",
       "    <tr>\n",
       "      <th>883</th>\n",
       "      <td>1</td>\n",
       "      <td>1</td>\n",
       "      <td>Miss. Margaret Edith Graham</td>\n",
       "      <td>female</td>\n",
       "      <td>19</td>\n",
       "      <td>0</td>\n",
       "      <td>0</td>\n",
       "      <td>2375.700000</td>\n",
       "    </tr>\n",
       "    <tr>\n",
       "      <th>884</th>\n",
       "      <td>0</td>\n",
       "      <td>3</td>\n",
       "      <td>Miss. Catherine Helen Johnston</td>\n",
       "      <td>female</td>\n",
       "      <td>7</td>\n",
       "      <td>1</td>\n",
       "      <td>2</td>\n",
       "      <td>1857.005500</td>\n",
       "    </tr>\n",
       "    <tr>\n",
       "      <th>885</th>\n",
       "      <td>1</td>\n",
       "      <td>1</td>\n",
       "      <td>Mr. Karl Howell Behr</td>\n",
       "      <td>male</td>\n",
       "      <td>26</td>\n",
       "      <td>0</td>\n",
       "      <td>0</td>\n",
       "      <td>2375.700000</td>\n",
       "    </tr>\n",
       "    <tr>\n",
       "      <th>886</th>\n",
       "      <td>0</td>\n",
       "      <td>3</td>\n",
       "      <td>Mr. Patrick Dooley</td>\n",
       "      <td>male</td>\n",
       "      <td>32</td>\n",
       "      <td>0</td>\n",
       "      <td>0</td>\n",
       "      <td>613.722500</td>\n",
       "    </tr>\n",
       "  </tbody>\n",
       "</table>\n",
       "<p>887 rows × 8 columns</p>\n",
       "</div>\n",
       "      <button class=\"colab-df-convert\" onclick=\"convertToInteractive('df-c2b5b8f9-5982-44db-96d2-318bc60a51ef')\"\n",
       "              title=\"Convert this dataframe to an interactive table.\"\n",
       "              style=\"display:none;\">\n",
       "        \n",
       "  <svg xmlns=\"http://www.w3.org/2000/svg\" height=\"24px\"viewBox=\"0 0 24 24\"\n",
       "       width=\"24px\">\n",
       "    <path d=\"M0 0h24v24H0V0z\" fill=\"none\"/>\n",
       "    <path d=\"M18.56 5.44l.94 2.06.94-2.06 2.06-.94-2.06-.94-.94-2.06-.94 2.06-2.06.94zm-11 1L8.5 8.5l.94-2.06 2.06-.94-2.06-.94L8.5 2.5l-.94 2.06-2.06.94zm10 10l.94 2.06.94-2.06 2.06-.94-2.06-.94-.94-2.06-.94 2.06-2.06.94z\"/><path d=\"M17.41 7.96l-1.37-1.37c-.4-.4-.92-.59-1.43-.59-.52 0-1.04.2-1.43.59L10.3 9.45l-7.72 7.72c-.78.78-.78 2.05 0 2.83L4 21.41c.39.39.9.59 1.41.59.51 0 1.02-.2 1.41-.59l7.78-7.78 2.81-2.81c.8-.78.8-2.07 0-2.86zM5.41 20L4 18.59l7.72-7.72 1.47 1.35L5.41 20z\"/>\n",
       "  </svg>\n",
       "      </button>\n",
       "      \n",
       "  <style>\n",
       "    .colab-df-container {\n",
       "      display:flex;\n",
       "      flex-wrap:wrap;\n",
       "      gap: 12px;\n",
       "    }\n",
       "\n",
       "    .colab-df-convert {\n",
       "      background-color: #E8F0FE;\n",
       "      border: none;\n",
       "      border-radius: 50%;\n",
       "      cursor: pointer;\n",
       "      display: none;\n",
       "      fill: #1967D2;\n",
       "      height: 32px;\n",
       "      padding: 0 0 0 0;\n",
       "      width: 32px;\n",
       "    }\n",
       "\n",
       "    .colab-df-convert:hover {\n",
       "      background-color: #E2EBFA;\n",
       "      box-shadow: 0px 1px 2px rgba(60, 64, 67, 0.3), 0px 1px 3px 1px rgba(60, 64, 67, 0.15);\n",
       "      fill: #174EA6;\n",
       "    }\n",
       "\n",
       "    [theme=dark] .colab-df-convert {\n",
       "      background-color: #3B4455;\n",
       "      fill: #D2E3FC;\n",
       "    }\n",
       "\n",
       "    [theme=dark] .colab-df-convert:hover {\n",
       "      background-color: #434B5C;\n",
       "      box-shadow: 0px 1px 3px 1px rgba(0, 0, 0, 0.15);\n",
       "      filter: drop-shadow(0px 1px 2px rgba(0, 0, 0, 0.3));\n",
       "      fill: #FFFFFF;\n",
       "    }\n",
       "  </style>\n",
       "\n",
       "      <script>\n",
       "        const buttonEl =\n",
       "          document.querySelector('#df-c2b5b8f9-5982-44db-96d2-318bc60a51ef button.colab-df-convert');\n",
       "        buttonEl.style.display =\n",
       "          google.colab.kernel.accessAllowed ? 'block' : 'none';\n",
       "\n",
       "        async function convertToInteractive(key) {\n",
       "          const element = document.querySelector('#df-c2b5b8f9-5982-44db-96d2-318bc60a51ef');\n",
       "          const dataTable =\n",
       "            await google.colab.kernel.invokeFunction('convertToInteractive',\n",
       "                                                     [key], {});\n",
       "          if (!dataTable) return;\n",
       "\n",
       "          const docLinkHtml = 'Like what you see? Visit the ' +\n",
       "            '<a target=\"_blank\" href=https://colab.research.google.com/notebooks/data_table.ipynb>data table notebook</a>'\n",
       "            + ' to learn more about interactive tables.';\n",
       "          element.innerHTML = '';\n",
       "          dataTable['output_type'] = 'display_data';\n",
       "          await google.colab.output.renderOutput(dataTable, element);\n",
       "          const docLink = document.createElement('div');\n",
       "          docLink.innerHTML = docLinkHtml;\n",
       "          element.appendChild(docLink);\n",
       "        }\n",
       "      </script>\n",
       "    </div>\n",
       "  </div>\n",
       "  "
      ],
      "text/plain": [
       "     Survival_Status  Pclass  \\\n",
       "0                  0       3   \n",
       "1                  1       1   \n",
       "2                  1       3   \n",
       "3                  1       1   \n",
       "4                  0       3   \n",
       "..               ...     ...   \n",
       "882                0       2   \n",
       "883                1       1   \n",
       "884                0       3   \n",
       "885                1       1   \n",
       "886                0       3   \n",
       "\n",
       "                                                  Name  Gender  Age  \\\n",
       "0                               Mr. Owen Harris Braund    male   22   \n",
       "1    Mrs. John Bradley (Florence Briggs Thayer) Cum...  female   38   \n",
       "2                                Miss. Laina Heikkinen  female   26   \n",
       "3          Mrs. Jacques Heath (Lily May Peel) Futrelle  female   35   \n",
       "4                              Mr. William Henry Allen    male   35   \n",
       "..                                                 ...     ...  ...   \n",
       "882                               Rev. Juozas Montvila    male   27   \n",
       "883                        Miss. Margaret Edith Graham  female   19   \n",
       "884                     Miss. Catherine Helen Johnston  female    7   \n",
       "885                               Mr. Karl Howell Behr    male   26   \n",
       "886                                 Mr. Patrick Dooley    male   32   \n",
       "\n",
       "     Siblings/Spouses Aboard  Parents/Children Aboard  Fare (in INR)  \n",
       "0                          1                        0     574.127500  \n",
       "1                          1                        0    5644.924527  \n",
       "2                          0                        0     627.580750  \n",
       "3                          1                        0    4204.989000  \n",
       "4                          0                        0     637.479500  \n",
       "..                       ...                      ...            ...  \n",
       "882                        0                        0    1029.470000  \n",
       "883                        0                        0    2375.700000  \n",
       "884                        1                        2    1857.005500  \n",
       "885                        0                        0    2375.700000  \n",
       "886                        0                        0     613.722500  \n",
       "\n",
       "[887 rows x 8 columns]"
      ]
     },
     "execution_count": 412,
     "metadata": {},
     "output_type": "execute_result"
    }
   ],
   "source": [
    "# Deleting a column from the dataset\n",
    "df = df.drop('Status', axis=1)\n",
    "df"
   ]
  },
  {
   "cell_type": "markdown",
   "metadata": {
    "id": "DQOQ7Y42EfcD"
   },
   "source": [
    "<hr>"
   ]
  }
 ],
 "metadata": {
  "colab": {
   "authorship_tag": "ABX9TyOK7kvjGamaksWNu7YAqwPe",
   "collapsed_sections": [],
   "provenance": []
  },
  "kernelspec": {
   "display_name": "Python 3 (ipykernel)",
   "language": "python",
   "name": "python3"
  },
  "language_info": {
   "codemirror_mode": {
    "name": "ipython",
    "version": 3
   },
   "file_extension": ".py",
   "mimetype": "text/x-python",
   "name": "python",
   "nbconvert_exporter": "python",
   "pygments_lexer": "ipython3",
   "version": "3.9.13"
  }
 },
 "nbformat": 4,
 "nbformat_minor": 1
}
